{
 "cells": [
  {
   "cell_type": "markdown",
   "metadata": {},
   "source": [
    "# Efficient ESG evaluation by NLP\n",
    "\n",
    "チェックリストに沿ったESG評価を自然言語処理で効率化するデモをです。\n",
    "\n",
    "ESG評価を行う手法として、ESGに関する質問のリストを作成し適正な回答が得られた個数を数えることは有効です。Eであれば「気候変動リスクを監視する委員会があるか」「気候変動リスクと機会を特定するプロセスがあるか」といった質問が挙げられます。  \n",
    "自然言語処理を用い、質問に対する回答箇所をモデルで抽出できることを示します。\n",
    "\n",
    "\n",
    "デモの手順は以下の通りです。\n",
    "\n",
    "1. Prepare: PDFファイル(統合報告書)からテキストを読み込みます。\n",
    "2. Preprocess: テキスト解析しやすいよう整形します。\n",
    "3. Retrieve: 質問に関連する箇所を抽出します。\n",
    "4. Answer: 関連する箇所から、質問の回答を抽出します。\n",
    "\n",
    "## 1. Extract\n",
    "\n",
    "PDFファイルを読み込みます。はじめにディレクトリを準備します。"
   ]
  },
  {
   "cell_type": "code",
   "execution_count": 1,
   "metadata": {},
   "outputs": [],
   "source": [
    "import os\n",
    "import sys\n",
    "from pathlib import Path\n",
    "import numpy as np\n",
    "import pandas as pd\n",
    "import requests\n",
    "\n",
    "\n",
    "def set_root():\n",
    "    root = os.path.join(os.path.realpath(\".\"), \"../\")\n",
    "    if root not in sys.path:\n",
    "        sys.path.append(root)\n",
    "    return root\n",
    "\n",
    "ROOT_DIR = Path(set_root())\n",
    "DATA_DIR = ROOT_DIR / \"data\""
   ]
  },
  {
   "cell_type": "markdown",
   "metadata": {},
   "source": [
    "統合報告書からテキストを抽出します。デモでは2019年のトヨタの統合報告書を使用しています。"
   ]
  },
  {
   "cell_type": "code",
   "execution_count": 2,
   "metadata": {},
   "outputs": [],
   "source": [
    "from evaluator.data.pdf_reader import PDFReader"
   ]
  },
  {
   "cell_type": "code",
   "execution_count": 3,
   "metadata": {},
   "outputs": [],
   "source": [
    "file_path = DATA_DIR / f\"raw/2019_001_annual_en.pdf\"\n",
    "reader = PDFReader()\n",
    "df = reader.read_to_frame(file_path)"
   ]
  },
  {
   "cell_type": "markdown",
   "metadata": {},
   "source": [
    "PDF読み込み結果を表示します。\n",
    "\n",
    "* page: ページ番号\n",
    "* order: ページ内のセクション番号(登場順にカウント)\n"
   ]
  },
  {
   "cell_type": "code",
   "execution_count": 4,
   "metadata": {},
   "outputs": [
    {
     "data": {
      "text/html": [
       "<div>\n",
       "<style scoped>\n",
       "    .dataframe tbody tr th:only-of-type {\n",
       "        vertical-align: middle;\n",
       "    }\n",
       "\n",
       "    .dataframe tbody tr th {\n",
       "        vertical-align: top;\n",
       "    }\n",
       "\n",
       "    .dataframe thead th {\n",
       "        text-align: right;\n",
       "    }\n",
       "</style>\n",
       "<table border=\"1\" class=\"dataframe\">\n",
       "  <thead>\n",
       "    <tr style=\"text-align: right;\">\n",
       "      <th></th>\n",
       "      <th>page</th>\n",
       "      <th>order</th>\n",
       "      <th>content</th>\n",
       "    </tr>\n",
       "  </thead>\n",
       "  <tbody>\n",
       "    <tr>\n",
       "      <th>0</th>\n",
       "      <td>0</td>\n",
       "      <td>0</td>\n",
       "      <td>Page 1</td>\n",
       "    </tr>\n",
       "    <tr>\n",
       "      <th>1</th>\n",
       "      <td>0</td>\n",
       "      <td>1</td>\n",
       "      <td>Annual Report \\nAnnual Report 2019\\nFiscal yea...</td>\n",
       "    </tr>\n",
       "    <tr>\n",
       "      <th>2</th>\n",
       "      <td>1</td>\n",
       "      <td>0</td>\n",
       "      <td>Page 1</td>\n",
       "    </tr>\n",
       "    <tr>\n",
       "      <th>3</th>\n",
       "      <td>1</td>\n",
       "      <td>1</td>\n",
       "      <td>Table of Contents</td>\n",
       "    </tr>\n",
       "    <tr>\n",
       "      <th>4</th>\n",
       "      <td>1</td>\n",
       "      <td>2</td>\n",
       "      <td>1 \\nTable of Contents\\n2 \\nMessage from the Pr...</td>\n",
       "    </tr>\n",
       "  </tbody>\n",
       "</table>\n",
       "</div>"
      ],
      "text/plain": [
       "   page  order                                            content\n",
       "0     0      0                                             Page 1\n",
       "1     0      1  Annual Report \\nAnnual Report 2019\\nFiscal yea...\n",
       "2     1      0                                             Page 1\n",
       "3     1      1                                  Table of Contents\n",
       "4     1      2  1 \\nTable of Contents\\n2 \\nMessage from the Pr..."
      ]
     },
     "execution_count": 4,
     "metadata": {},
     "output_type": "execute_result"
    }
   ],
   "source": [
    "df.head(5)"
   ]
  },
  {
   "cell_type": "markdown",
   "metadata": {},
   "source": [
    "## 2. Preprocess\n",
    "\n",
    "PDF読み込み結果は様々なノイズを含んでいるので、前処理を行います。\n"
   ]
  },
  {
   "cell_type": "code",
   "execution_count": 5,
   "metadata": {},
   "outputs": [
    {
     "data": {
      "text/html": [
       "<div>\n",
       "<style scoped>\n",
       "    .dataframe tbody tr th:only-of-type {\n",
       "        vertical-align: middle;\n",
       "    }\n",
       "\n",
       "    .dataframe tbody tr th {\n",
       "        vertical-align: top;\n",
       "    }\n",
       "\n",
       "    .dataframe thead th {\n",
       "        text-align: right;\n",
       "    }\n",
       "</style>\n",
       "<table border=\"1\" class=\"dataframe\">\n",
       "  <thead>\n",
       "    <tr style=\"text-align: right;\">\n",
       "      <th></th>\n",
       "      <th>page</th>\n",
       "      <th>order</th>\n",
       "      <th>content</th>\n",
       "    </tr>\n",
       "  </thead>\n",
       "  <tbody>\n",
       "    <tr>\n",
       "      <th>0</th>\n",
       "      <td>0</td>\n",
       "      <td>0</td>\n",
       "      <td>page 1</td>\n",
       "    </tr>\n",
       "    <tr>\n",
       "      <th>1</th>\n",
       "      <td>0</td>\n",
       "      <td>1</td>\n",
       "      <td>annual report annual report 2019fiscal year en...</td>\n",
       "    </tr>\n",
       "    <tr>\n",
       "      <th>2</th>\n",
       "      <td>1</td>\n",
       "      <td>1</td>\n",
       "      <td>table of contents</td>\n",
       "    </tr>\n",
       "    <tr>\n",
       "      <th>3</th>\n",
       "      <td>1</td>\n",
       "      <td>2</td>\n",
       "      <td>1 table of contents2 message from the presiden...</td>\n",
       "    </tr>\n",
       "    <tr>\n",
       "      <th>4</th>\n",
       "      <td>1</td>\n",
       "      <td>3</td>\n",
       "      <td>the annual report 2019 is intended to communic...</td>\n",
       "    </tr>\n",
       "  </tbody>\n",
       "</table>\n",
       "</div>"
      ],
      "text/plain": [
       "   page  order                                            content\n",
       "0     0      0                                             page 1\n",
       "1     0      1  annual report annual report 2019fiscal year en...\n",
       "2     1      1                                  table of contents\n",
       "3     1      2  1 table of contents2 message from the presiden...\n",
       "4     1      3  the annual report 2019 is intended to communic..."
      ]
     },
     "execution_count": 5,
     "metadata": {},
     "output_type": "execute_result"
    }
   ],
   "source": [
    "preprocessed = reader.preprocess_frame(df)\n",
    "preprocessed.head(5)"
   ]
  },
  {
   "cell_type": "markdown",
   "metadata": {},
   "source": [
    "文を含んでいないセクションを除外します。"
   ]
  },
  {
   "cell_type": "code",
   "execution_count": 6,
   "metadata": {},
   "outputs": [],
   "source": [
    "import re\n",
    "\n",
    "\n",
    "has_sentence = re.compile(\"(•)?\\s?[A-Za-z](\\s)?(\\.|;)\")\n",
    "preprocessed = preprocessed[preprocessed[\"content\"].apply(lambda s: re.search(has_sentence, s) is not None)]"
   ]
  },
  {
   "cell_type": "code",
   "execution_count": 7,
   "metadata": {},
   "outputs": [
    {
     "name": "stdout",
     "output_type": "stream",
     "text": [
      "Rows are decreased from 747 to 189\n"
     ]
    }
   ],
   "source": [
    "print(f\"Rows are decreased from {len(df)} to {len(preprocessed)}\")"
   ]
  },
  {
   "cell_type": "code",
   "execution_count": 8,
   "metadata": {},
   "outputs": [
    {
     "data": {
      "text/html": [
       "<div>\n",
       "<style scoped>\n",
       "    .dataframe tbody tr th:only-of-type {\n",
       "        vertical-align: middle;\n",
       "    }\n",
       "\n",
       "    .dataframe tbody tr th {\n",
       "        vertical-align: top;\n",
       "    }\n",
       "\n",
       "    .dataframe thead th {\n",
       "        text-align: right;\n",
       "    }\n",
       "</style>\n",
       "<table border=\"1\" class=\"dataframe\">\n",
       "  <thead>\n",
       "    <tr style=\"text-align: right;\">\n",
       "      <th></th>\n",
       "      <th>page</th>\n",
       "      <th>order</th>\n",
       "      <th>content</th>\n",
       "    </tr>\n",
       "  </thead>\n",
       "  <tbody>\n",
       "    <tr>\n",
       "      <th>4</th>\n",
       "      <td>1</td>\n",
       "      <td>3</td>\n",
       "      <td>the annual report 2019 is intended to communic...</td>\n",
       "    </tr>\n",
       "    <tr>\n",
       "      <th>5</th>\n",
       "      <td>1</td>\n",
       "      <td>4</td>\n",
       "      <td>about the pdfthis file is an interactive pdf a...</td>\n",
       "    </tr>\n",
       "    <tr>\n",
       "      <th>9</th>\n",
       "      <td>1</td>\n",
       "      <td>8</td>\n",
       "      <td>icons found in each section link to related pa...</td>\n",
       "    </tr>\n",
       "    <tr>\n",
       "      <th>16</th>\n",
       "      <td>1</td>\n",
       "      <td>15</td>\n",
       "      <td>toyota’s reports and publications*  toyota als...</td>\n",
       "    </tr>\n",
       "    <tr>\n",
       "      <th>23</th>\n",
       "      <td>2</td>\n",
       "      <td>2</td>\n",
       "      <td>reforming our company to become a “mobility co...</td>\n",
       "    </tr>\n",
       "  </tbody>\n",
       "</table>\n",
       "</div>"
      ],
      "text/plain": [
       "    page  order                                            content\n",
       "4      1      3  the annual report 2019 is intended to communic...\n",
       "5      1      4  about the pdfthis file is an interactive pdf a...\n",
       "9      1      8  icons found in each section link to related pa...\n",
       "16     1     15  toyota’s reports and publications*  toyota als...\n",
       "23     2      2  reforming our company to become a “mobility co..."
      ]
     },
     "execution_count": 8,
     "metadata": {},
     "output_type": "execute_result"
    }
   ],
   "source": [
    "preprocessed.assign(length=preprocessed[\"content\"].apply(lambda s: len(s)))\n",
    "preprocessed.head(5)"
   ]
  },
  {
   "cell_type": "markdown",
   "metadata": {},
   "source": [
    "## 3. Retrieve\n",
    "\n",
    "チェックリストの質問に関係しているセクションを抽出します。  \n",
    "本パートでは単純に質問文に含まれているキーワードを含むセクションを抽出します。"
   ]
  },
  {
   "cell_type": "code",
   "execution_count": 9,
   "metadata": {},
   "outputs": [],
   "source": [
    "# CDPのC2.1の質問\n",
    "question = \"Does your organization have a process for identifying, assessing, and responding to climate-related risks and opportunities ?\"\n",
    "question = question.lower()\n",
    "language = \"en\""
   ]
  },
  {
   "cell_type": "code",
   "execution_count": 10,
   "metadata": {},
   "outputs": [
    {
     "name": "stderr",
     "output_type": "stream",
     "text": [
      "/home/studio-lab-user/.conda/envs/esg-nlp/lib/python3.8/site-packages/tqdm/auto.py:22: TqdmWarning: IProgress not found. Please update jupyter and ipywidgets. See https://ipywidgets.readthedocs.io/en/stable/user_install.html\n",
      "  from .autonotebook import tqdm as notebook_tqdm\n"
     ]
    }
   ],
   "source": [
    "from spacy.util import get_lang_class\n",
    "\n",
    "\n",
    "class Parser():\n",
    "\n",
    "    def __init__(self, lang):\n",
    "        self.lang = lang\n",
    "        self.parser = get_lang_class(self.lang)()\n",
    "    \n",
    "    def parse(self, text):\n",
    "        return self.parser(text)"
   ]
  },
  {
   "cell_type": "markdown",
   "metadata": {},
   "source": [
    "評価項目の質問から、キーワードを抽出"
   ]
  },
  {
   "cell_type": "code",
   "execution_count": 11,
   "metadata": {},
   "outputs": [
    {
     "data": {
      "text/plain": [
       "['organization',\n",
       " 'process',\n",
       " 'identifying',\n",
       " 'assessing',\n",
       " 'responding',\n",
       " 'climate',\n",
       " 'related',\n",
       " 'risks',\n",
       " 'opportunities']"
      ]
     },
     "execution_count": 11,
     "metadata": {},
     "output_type": "execute_result"
    }
   ],
   "source": [
    "parser = Parser(language)\n",
    "question_words = [str(t) for t in parser.parse(question) if not t.is_stop and not re.match(\"\\'|\\.|\\?|\\/|\\,|\\-\", t.text)]\n",
    "question_words"
   ]
  },
  {
   "cell_type": "markdown",
   "metadata": {},
   "source": [
    "文書内の各セクションについて、キーワードが含まれる数を計算"
   ]
  },
  {
   "cell_type": "code",
   "execution_count": 12,
   "metadata": {},
   "outputs": [],
   "source": [
    "def count_keyword_match(parser, keywords, text):\n",
    "    tokens = parser.parse(text)\n",
    "    count = 0\n",
    "    _keywords = [k for k in keywords]\n",
    "    for t in tokens:\n",
    "        if str(t).lower() in _keywords:\n",
    "            count += 1\n",
    "    return count\n",
    "\n",
    "\n",
    "counted = preprocessed.assign(\n",
    "    keyword_match=preprocessed[\"content\"].apply(\n",
    "        lambda s: count_keyword_match(parser, question_words, s)))"
   ]
  },
  {
   "cell_type": "code",
   "execution_count": 13,
   "metadata": {},
   "outputs": [
    {
     "data": {
      "text/html": [
       "<div>\n",
       "<style scoped>\n",
       "    .dataframe tbody tr th:only-of-type {\n",
       "        vertical-align: middle;\n",
       "    }\n",
       "\n",
       "    .dataframe tbody tr th {\n",
       "        vertical-align: top;\n",
       "    }\n",
       "\n",
       "    .dataframe thead th {\n",
       "        text-align: right;\n",
       "    }\n",
       "</style>\n",
       "<table border=\"1\" class=\"dataframe\">\n",
       "  <thead>\n",
       "    <tr style=\"text-align: right;\">\n",
       "      <th></th>\n",
       "      <th>page</th>\n",
       "      <th>order</th>\n",
       "      <th>content</th>\n",
       "      <th>keyword_match</th>\n",
       "    </tr>\n",
       "  </thead>\n",
       "  <tbody>\n",
       "    <tr>\n",
       "      <th>424</th>\n",
       "      <td>37</td>\n",
       "      <td>3</td>\n",
       "      <td>organization and structuretoyota has appointed...</td>\n",
       "      <td>9</td>\n",
       "    </tr>\n",
       "    <tr>\n",
       "      <th>392</th>\n",
       "      <td>34</td>\n",
       "      <td>4</td>\n",
       "      <td>making over the decades has been made possible...</td>\n",
       "      <td>4</td>\n",
       "    </tr>\n",
       "    <tr>\n",
       "      <th>418</th>\n",
       "      <td>36</td>\n",
       "      <td>5</td>\n",
       "      <td>initiatives related to persons with disabiliti...</td>\n",
       "      <td>3</td>\n",
       "    </tr>\n",
       "    <tr>\n",
       "      <th>277</th>\n",
       "      <td>25</td>\n",
       "      <td>7</td>\n",
       "      <td>sustainability meetingreceives reports and del...</td>\n",
       "      <td>2</td>\n",
       "    </tr>\n",
       "    <tr>\n",
       "      <th>136</th>\n",
       "      <td>12</td>\n",
       "      <td>13</td>\n",
       "      <td>royalty-free licenses to 23,740 patents relate...</td>\n",
       "      <td>2</td>\n",
       "    </tr>\n",
       "  </tbody>\n",
       "</table>\n",
       "</div>"
      ],
      "text/plain": [
       "     page  order                                            content  \\\n",
       "424    37      3  organization and structuretoyota has appointed...   \n",
       "392    34      4  making over the decades has been made possible...   \n",
       "418    36      5  initiatives related to persons with disabiliti...   \n",
       "277    25      7  sustainability meetingreceives reports and del...   \n",
       "136    12     13  royalty-free licenses to 23,740 patents relate...   \n",
       "\n",
       "     keyword_match  \n",
       "424              9  \n",
       "392              4  \n",
       "418              3  \n",
       "277              2  \n",
       "136              2  "
      ]
     },
     "execution_count": 13,
     "metadata": {},
     "output_type": "execute_result"
    }
   ],
   "source": [
    "matched = counted[counted[\"keyword_match\"] > 0]\n",
    "matched.sort_values(by=[\"keyword_match\"], ascending=False).head(5)"
   ]
  },
  {
   "cell_type": "markdown",
   "metadata": {},
   "source": [
    "当然ながら、検索でかかるようなセクションは取れている。"
   ]
  },
  {
   "cell_type": "markdown",
   "metadata": {},
   "source": [
    "## 4.Answer\n",
    "\n",
    "### 4.1 Use Question Answering Model\n",
    "\n",
    "Retrieveで絞り込んだ結果から、質問の回答箇所を抽出します。\n",
    "\n",
    "回答箇所の抽出には、自然言語処理の質問回答の手法を使用します。Wikipediaをベースにした質問回答のデータセット([SQuAD](https://rajpurkar.github.io/SQuAD-explorer/)と呼ばれる)で事前に学習したモデルをお持ちいます。本来はESGに関する質問と回答のデータセットで転移学習すべきですが、今回は学習せずに用います。\n",
    "\n",
    "実際人間がチェックした結果は以下の通りです。\n",
    "![image](./images/answer.PNG)"
   ]
  },
  {
   "cell_type": "code",
   "execution_count": 14,
   "metadata": {},
   "outputs": [],
   "source": [
    "from evaluator.models.question_answer import answer"
   ]
  },
  {
   "cell_type": "markdown",
   "metadata": {},
   "source": [
    "回答箇所を抽出"
   ]
  },
  {
   "cell_type": "code",
   "execution_count": 15,
   "metadata": {},
   "outputs": [
    {
     "name": "stdout",
     "output_type": "stream",
     "text": [
      "Loading pretrained model...\n",
      "Prepair the tokenizer...\n",
      "Set the pipeline.\n",
      "Answer start.\n"
     ]
    },
    {
     "name": "stderr",
     "output_type": "stream",
     "text": [
      " 10%|█         | 5/48 [00:00<00:08,  5.35it/s]/home/studio-lab-user/.conda/envs/esg-nlp/lib/python3.8/site-packages/transformers/tokenization_utils_base.py:705: VisibleDeprecationWarning: Creating an ndarray from ragged nested sequences (which is a list-or-tuple of lists-or-tuples-or ndarrays with different lengths or shapes) is deprecated. If you meant to do this, you must specify 'dtype=object' when creating the ndarray.\n",
      "  tensor = as_tensor(value)\n",
      "/home/studio-lab-user/.conda/envs/esg-nlp/lib/python3.8/site-packages/transformers/pipelines/question_answering.py:295: VisibleDeprecationWarning: Creating an ndarray from ragged nested sequences (which is a list-or-tuple of lists-or-tuples-or ndarrays with different lengths or shapes) is deprecated. If you meant to do this, you must specify 'dtype=object' when creating the ndarray.\n",
      "  p_mask = np.asarray(\n",
      "100%|██████████| 48/48 [00:10<00:00,  4.47it/s]\n"
     ]
    }
   ],
   "source": [
    "question_context = matched[\"content\"].apply(lambda s: (question.lower(), s)).tolist()\n",
    "answers = answer(\"distilbert-base-uncased-distilled-squad\", question_context)"
   ]
  },
  {
   "cell_type": "code",
   "execution_count": 16,
   "metadata": {},
   "outputs": [
    {
     "data": {
      "text/html": [
       "<div>\n",
       "<style scoped>\n",
       "    .dataframe tbody tr th:only-of-type {\n",
       "        vertical-align: middle;\n",
       "    }\n",
       "\n",
       "    .dataframe tbody tr th {\n",
       "        vertical-align: top;\n",
       "    }\n",
       "\n",
       "    .dataframe thead th {\n",
       "        text-align: right;\n",
       "    }\n",
       "</style>\n",
       "<table border=\"1\" class=\"dataframe\">\n",
       "  <thead>\n",
       "    <tr style=\"text-align: right;\">\n",
       "      <th></th>\n",
       "      <th>score</th>\n",
       "      <th>start</th>\n",
       "      <th>end</th>\n",
       "      <th>answer</th>\n",
       "    </tr>\n",
       "  </thead>\n",
       "  <tbody>\n",
       "    <tr>\n",
       "      <th>0</th>\n",
       "      <td>0.092548</td>\n",
       "      <td>66</td>\n",
       "      <td>72</td>\n",
       "      <td>toyota</td>\n",
       "    </tr>\n",
       "    <tr>\n",
       "      <th>1</th>\n",
       "      <td>0.134468</td>\n",
       "      <td>123</td>\n",
       "      <td>154</td>\n",
       "      <td>requires an internet connection</td>\n",
       "    </tr>\n",
       "    <tr>\n",
       "      <th>2</th>\n",
       "      <td>0.012953</td>\n",
       "      <td>173</td>\n",
       "      <td>251</td>\n",
       "      <td>developing people message from the cfo capital...</td>\n",
       "    </tr>\n",
       "    <tr>\n",
       "      <th>3</th>\n",
       "      <td>0.000197</td>\n",
       "      <td>402</td>\n",
       "      <td>459</td>\n",
       "      <td>joint venture related to the town development ...</td>\n",
       "    </tr>\n",
       "    <tr>\n",
       "      <th>4</th>\n",
       "      <td>0.000305</td>\n",
       "      <td>992</td>\n",
       "      <td>996</td>\n",
       "      <td>tnga</td>\n",
       "    </tr>\n",
       "  </tbody>\n",
       "</table>\n",
       "</div>"
      ],
      "text/plain": [
       "      score  start  end                                             answer\n",
       "0  0.092548     66   72                                             toyota\n",
       "1  0.134468    123  154                    requires an internet connection\n",
       "2  0.012953    173  251  developing people message from the cfo capital...\n",
       "3  0.000197    402  459  joint venture related to the town development ...\n",
       "4  0.000305    992  996                                               tnga"
      ]
     },
     "execution_count": 16,
     "metadata": {},
     "output_type": "execute_result"
    }
   ],
   "source": [
    "pd.DataFrame(answers).head(5)"
   ]
  },
  {
   "cell_type": "markdown",
   "metadata": {},
   "source": [
    "answerは抽出できているが、意味が通らないものが多い。  \n",
    "学習をしないとやはりうまういかないのかもしれない。\n",
    "\n",
    "### 4.2 Use Feature Representation\n",
    "\n",
    "直接質問回答ではなく、評価の質問に近い文を抽出してみる(あればチェック、なければチェックしない)。  \n",
    "先ほどのキーワードでの抽出と変えて、もう少し文の意味を考慮できる手法を使用する。具体的には、Googleの検索で最近採用された手法を使用する。\n",
    "\n",
    "* [BERT](https://www.blog.google/products/search/search-language-understanding-bert/)\n",
    "\n",
    "まずは、セクションを文に分割する。"
   ]
  },
  {
   "cell_type": "code",
   "execution_count": 17,
   "metadata": {},
   "outputs": [
    {
     "data": {
      "text/html": [
       "<div>\n",
       "<style scoped>\n",
       "    .dataframe tbody tr th:only-of-type {\n",
       "        vertical-align: middle;\n",
       "    }\n",
       "\n",
       "    .dataframe tbody tr th {\n",
       "        vertical-align: top;\n",
       "    }\n",
       "\n",
       "    .dataframe thead th {\n",
       "        text-align: right;\n",
       "    }\n",
       "</style>\n",
       "<table border=\"1\" class=\"dataframe\">\n",
       "  <thead>\n",
       "    <tr style=\"text-align: right;\">\n",
       "      <th></th>\n",
       "      <th>page</th>\n",
       "      <th>section_order</th>\n",
       "      <th>sentence_order</th>\n",
       "      <th>sentence</th>\n",
       "      <th>length</th>\n",
       "    </tr>\n",
       "  </thead>\n",
       "  <tbody>\n",
       "    <tr>\n",
       "      <th>0</th>\n",
       "      <td>1</td>\n",
       "      <td>3</td>\n",
       "      <td>0</td>\n",
       "      <td>the annual report 2019 is intended to communic...</td>\n",
       "      <td>209</td>\n",
       "    </tr>\n",
       "    <tr>\n",
       "      <th>1</th>\n",
       "      <td>1</td>\n",
       "      <td>3</td>\n",
       "      <td>1</td>\n",
       "      <td>more detailed information on toyota’s esg-rel...</td>\n",
       "      <td>112</td>\n",
       "    </tr>\n",
       "    <tr>\n",
       "      <th>2</th>\n",
       "      <td>1</td>\n",
       "      <td>3</td>\n",
       "      <td>2</td>\n",
       "      <td>(published december 2019)</td>\n",
       "      <td>25</td>\n",
       "    </tr>\n",
       "    <tr>\n",
       "      <th>3</th>\n",
       "      <td>1</td>\n",
       "      <td>8</td>\n",
       "      <td>0</td>\n",
       "      <td>icons found in each section link to related pa...</td>\n",
       "      <td>120</td>\n",
       "    </tr>\n",
       "    <tr>\n",
       "      <th>4</th>\n",
       "      <td>1</td>\n",
       "      <td>8</td>\n",
       "      <td>1</td>\n",
       "      <td>* requires an internet connection</td>\n",
       "      <td>33</td>\n",
       "    </tr>\n",
       "  </tbody>\n",
       "</table>\n",
       "</div>"
      ],
      "text/plain": [
       "   page  section_order  sentence_order  \\\n",
       "0     1              3               0   \n",
       "1     1              3               1   \n",
       "2     1              3               2   \n",
       "3     1              8               0   \n",
       "4     1              8               1   \n",
       "\n",
       "                                            sentence  length  \n",
       "0  the annual report 2019 is intended to communic...     209  \n",
       "1   more detailed information on toyota’s esg-rel...     112  \n",
       "2                          (published december 2019)      25  \n",
       "3  icons found in each section link to related pa...     120  \n",
       "4                  * requires an internet connection      33  "
      ]
     },
     "execution_count": 17,
     "metadata": {},
     "output_type": "execute_result"
    }
   ],
   "source": [
    "sentences = []\n",
    "for i, row in matched.iterrows():\n",
    "    c = row[\"content\"]\n",
    "    for j, s in enumerate(c.replace(\"•\", \".\").replace(\";\", \".\").split(\".\")):\n",
    "        sentences.append({\n",
    "            \"page\": row[\"page\"],\n",
    "            \"section_order\": row[\"order\"],\n",
    "            \"sentence_order\": j,\n",
    "            \"sentence\": s,\n",
    "            \"length\": len(s)\n",
    "        })\n",
    "\n",
    "sentences = pd.DataFrame(sentences)\n",
    "sentences.head(5)"
   ]
  },
  {
   "cell_type": "markdown",
   "metadata": {},
   "source": [
    "文をベクトル表現(BERT表現)に変換する。"
   ]
  },
  {
   "cell_type": "code",
   "execution_count": 18,
   "metadata": {},
   "outputs": [],
   "source": [
    "from evaluator.models.encoder import encode"
   ]
  },
  {
   "cell_type": "code",
   "execution_count": 19,
   "metadata": {},
   "outputs": [],
   "source": [
    "model_name = \"bert-base-uncased\""
   ]
  },
  {
   "cell_type": "code",
   "execution_count": 20,
   "metadata": {},
   "outputs": [
    {
     "name": "stdout",
     "output_type": "stream",
     "text": [
      "Loading pretrained model...\n"
     ]
    },
    {
     "name": "stderr",
     "output_type": "stream",
     "text": [
      "Some weights of the model checkpoint at bert-base-uncased were not used when initializing BertModel: ['cls.predictions.transform.LayerNorm.weight', 'cls.predictions.transform.LayerNorm.bias', 'cls.seq_relationship.bias', 'cls.predictions.bias', 'cls.predictions.transform.dense.bias', 'cls.predictions.transform.dense.weight', 'cls.seq_relationship.weight', 'cls.predictions.decoder.weight']\n",
      "- This IS expected if you are initializing BertModel from the checkpoint of a model trained on another task or with another architecture (e.g. initializing a BertForSequenceClassification model from a BertForPreTraining model).\n",
      "- This IS NOT expected if you are initializing BertModel from the checkpoint of a model that you expect to be exactly identical (initializing a BertForSequenceClassification model from a BertForSequenceClassification model).\n"
     ]
    },
    {
     "name": "stdout",
     "output_type": "stream",
     "text": [
      "Prepair the tokenizer...\n",
      "Set the pipeline.\n",
      "Inference start.\n"
     ]
    },
    {
     "name": "stderr",
     "output_type": "stream",
     "text": [
      "100%|██████████| 52/52 [00:53<00:00,  1.03s/it]\n"
     ]
    }
   ],
   "source": [
    "embeddings = encode(model_name, sentences[\"sentence\"].values.tolist())"
   ]
  },
  {
   "cell_type": "code",
   "execution_count": 21,
   "metadata": {},
   "outputs": [
    {
     "data": {
      "text/plain": [
       "(520, 768)"
      ]
     },
     "execution_count": 21,
     "metadata": {},
     "output_type": "execute_result"
    }
   ],
   "source": [
    "embeddings.shape"
   ]
  },
  {
   "cell_type": "markdown",
   "metadata": {},
   "source": [
    "評価項目の質問と、文書中の文とで、ベクトル表現が近いものを抽出する。"
   ]
  },
  {
   "cell_type": "code",
   "execution_count": 22,
   "metadata": {},
   "outputs": [
    {
     "name": "stdout",
     "output_type": "stream",
     "text": [
      "Loading pretrained model...\n"
     ]
    },
    {
     "name": "stderr",
     "output_type": "stream",
     "text": [
      "Some weights of the model checkpoint at bert-base-uncased were not used when initializing BertModel: ['cls.predictions.transform.LayerNorm.weight', 'cls.predictions.transform.LayerNorm.bias', 'cls.seq_relationship.bias', 'cls.predictions.bias', 'cls.predictions.transform.dense.bias', 'cls.predictions.transform.dense.weight', 'cls.seq_relationship.weight', 'cls.predictions.decoder.weight']\n",
      "- This IS expected if you are initializing BertModel from the checkpoint of a model trained on another task or with another architecture (e.g. initializing a BertForSequenceClassification model from a BertForPreTraining model).\n",
      "- This IS NOT expected if you are initializing BertModel from the checkpoint of a model that you expect to be exactly identical (initializing a BertForSequenceClassification model from a BertForSequenceClassification model).\n"
     ]
    },
    {
     "name": "stdout",
     "output_type": "stream",
     "text": [
      "Prepair the tokenizer...\n",
      "Set the pipeline.\n",
      "Inference start.\n"
     ]
    }
   ],
   "source": [
    "query = encode(model_name, \"Climate Change impact including CO2 / GHG emissions. Policy or commitment statement\".lower())\n",
    "query = np.reshape(query, (1, -1))"
   ]
  },
  {
   "cell_type": "code",
   "execution_count": 23,
   "metadata": {},
   "outputs": [
    {
     "data": {
      "text/plain": [
       "array([-0.78335362, -0.7653984 , -0.74546632, -0.74509025, -0.74274237,\n",
       "       -0.72449028, -0.71190212, -0.70885764, -0.70613514, -0.69764027])"
      ]
     },
     "execution_count": 23,
     "metadata": {},
     "output_type": "execute_result"
    }
   ],
   "source": [
    "from sklearn.metrics.pairwise import cosine_similarity\n",
    "\n",
    "\n",
    "distance = cosine_similarity(query, embeddings)\n",
    "np.sort(-distance).flatten()[:10]"
   ]
  },
  {
   "cell_type": "markdown",
   "metadata": {},
   "source": [
    "質問に近い文トップ10を表示"
   ]
  },
  {
   "cell_type": "code",
   "execution_count": 24,
   "metadata": {},
   "outputs": [
    {
     "name": "stderr",
     "output_type": "stream",
     "text": [
      "/tmp/ipykernel_3892/3939727378.py:1: FutureWarning: Passing a negative integer is deprecated in version 1.0 and will not be supported in future version. Instead, use None to not limit the column width.\n",
      "  pd.set_option(\"display.max_colwidth\", -1)\n"
     ]
    },
    {
     "data": {
      "text/html": [
       "<div>\n",
       "<style scoped>\n",
       "    .dataframe tbody tr th:only-of-type {\n",
       "        vertical-align: middle;\n",
       "    }\n",
       "\n",
       "    .dataframe tbody tr th {\n",
       "        vertical-align: top;\n",
       "    }\n",
       "\n",
       "    .dataframe thead th {\n",
       "        text-align: right;\n",
       "    }\n",
       "</style>\n",
       "<table border=\"1\" class=\"dataframe\">\n",
       "  <thead>\n",
       "    <tr style=\"text-align: right;\">\n",
       "      <th></th>\n",
       "      <th>page</th>\n",
       "      <th>section_order</th>\n",
       "      <th>sentence_order</th>\n",
       "      <th>sentence</th>\n",
       "      <th>length</th>\n",
       "      <th>distance</th>\n",
       "    </tr>\n",
       "  </thead>\n",
       "  <tbody>\n",
       "    <tr>\n",
       "      <th>271</th>\n",
       "      <td>25</td>\n",
       "      <td>1</td>\n",
       "      <td>7</td>\n",
       "      <td>the agree-ment set the long-term goal of limiting global warming to well below 2°c compared with pre-industrial levels and calls for reaching net zero anthropogenic emissions of co2 and other greenhouse gases during the second half of the 21st century</td>\n",
       "      <td>252</td>\n",
       "      <td>0.783354</td>\n",
       "    </tr>\n",
       "    <tr>\n",
       "      <th>125</th>\n",
       "      <td>12</td>\n",
       "      <td>2</td>\n",
       "      <td>2</td>\n",
       "      <td>the first is regulations on co2 emissions and fuel efficiency</td>\n",
       "      <td>63</td>\n",
       "      <td>0.765398</td>\n",
       "    </tr>\n",
       "    <tr>\n",
       "      <th>127</th>\n",
       "      <td>12</td>\n",
       "      <td>2</td>\n",
       "      <td>4</td>\n",
       "      <td>under this framework, which is increas-ingly being adopted by countries worldwide, the required level of cuts in co2 emissions rises each year</td>\n",
       "      <td>143</td>\n",
       "      <td>0.745466</td>\n",
       "    </tr>\n",
       "    <tr>\n",
       "      <th>269</th>\n",
       "      <td>25</td>\n",
       "      <td>1</td>\n",
       "      <td>5</td>\n",
       "      <td>to help achieve the paris agreement goal of keeping global warming below 2°c,* we are promoting initiatives under the toyota environmental challenge 2050</td>\n",
       "      <td>154</td>\n",
       "      <td>0.745090</td>\n",
       "    </tr>\n",
       "    <tr>\n",
       "      <th>517</th>\n",
       "      <td>47</td>\n",
       "      <td>1</td>\n",
       "      <td>17</td>\n",
       "      <td>and (xiv) the impact of natural calamities including the negative effect on toyota’s vehicle production and sales</td>\n",
       "      <td>114</td>\n",
       "      <td>0.742742</td>\n",
       "    </tr>\n",
       "    <tr>\n",
       "      <th>123</th>\n",
       "      <td>12</td>\n",
       "      <td>2</td>\n",
       "      <td>0</td>\n",
       "      <td>regulations are being tightened,  along with new government policies,  to combat global warming</td>\n",
       "      <td>95</td>\n",
       "      <td>0.724490</td>\n",
       "    </tr>\n",
       "    <tr>\n",
       "      <th>146</th>\n",
       "      <td>13</td>\n",
       "      <td>1</td>\n",
       "      <td>4</td>\n",
       "      <td>if these initiatives accelerate the development of electrified vehicles at other companies, we will have helped hasten the reduction of co2 emissions</td>\n",
       "      <td>151</td>\n",
       "      <td>0.711902</td>\n",
       "    </tr>\n",
       "    <tr>\n",
       "      <th>278</th>\n",
       "      <td>25</td>\n",
       "      <td>7</td>\n",
       "      <td>0</td>\n",
       "      <td>sustainability meetingreceives reports and deliberates on important manage-ment issues related to enhancing competitiveness and addressing risks over the long term in light of internal and external changes, primarily in environmental, social, and governance areas</td>\n",
       "      <td>263</td>\n",
       "      <td>0.708858</td>\n",
       "    </tr>\n",
       "    <tr>\n",
       "      <th>449</th>\n",
       "      <td>37</td>\n",
       "      <td>3</td>\n",
       "      <td>7</td>\n",
       "      <td>at the same time, the sustainability meeting reviews and reports on major  current risk items in order to promote preventive action</td>\n",
       "      <td>132</td>\n",
       "      <td>0.706135</td>\n",
       "    </tr>\n",
       "    <tr>\n",
       "      <th>132</th>\n",
       "      <td>12</td>\n",
       "      <td>2</td>\n",
       "      <td>9</td>\n",
       "      <td>this government policy basically aims to increase the number of vehicles on the road with zero co2 emis-sions</td>\n",
       "      <td>110</td>\n",
       "      <td>0.697640</td>\n",
       "    </tr>\n",
       "  </tbody>\n",
       "</table>\n",
       "</div>"
      ],
      "text/plain": [
       "     page  section_order  sentence_order  \\\n",
       "271  25    1              7                \n",
       "125  12    2              2                \n",
       "127  12    2              4                \n",
       "269  25    1              5                \n",
       "517  47    1              17               \n",
       "123  12    2              0                \n",
       "146  13    1              4                \n",
       "278  25    7              0                \n",
       "449  37    3              7                \n",
       "132  12    2              9                \n",
       "\n",
       "                                                                                                                                                                                                                                                                    sentence  \\\n",
       "271   the agree-ment set the long-term goal of limiting global warming to well below 2°c compared with pre-industrial levels and calls for reaching net zero anthropogenic emissions of co2 and other greenhouse gases during the second half of the 21st century              \n",
       "125    the first is regulations on co2 emissions and fuel efficiency                                                                                                                                                                                                           \n",
       "127   under this framework, which is increas-ingly being adopted by countries worldwide, the required level of cuts in co2 emissions rises each year                                                                                                                           \n",
       "269   to help achieve the paris agreement goal of keeping global warming below 2°c,* we are promoting initiatives under the toyota environmental challenge 2050                                                                                                                \n",
       "517   and (xiv) the impact of natural calamities including the negative effect on toyota’s vehicle production and sales                                                                                                                                                        \n",
       "123  regulations are being tightened,  along with new government policies,  to combat global warming                                                                                                                                                                           \n",
       "146    if these initiatives accelerate the development of electrified vehicles at other companies, we will have helped hasten the reduction of co2 emissions                                                                                                                   \n",
       "278  sustainability meetingreceives reports and deliberates on important manage-ment issues related to enhancing competitiveness and addressing risks over the long term in light of internal and external changes, primarily in environmental, social, and governance areas   \n",
       "449   at the same time, the sustainability meeting reviews and reports on major  current risk items in order to promote preventive action                                                                                                                                      \n",
       "132   this government policy basically aims to increase the number of vehicles on the road with zero co2 emis-sions                                                                                                                                                            \n",
       "\n",
       "     length  distance  \n",
       "271  252     0.783354  \n",
       "125  63      0.765398  \n",
       "127  143     0.745466  \n",
       "269  154     0.745090  \n",
       "517  114     0.742742  \n",
       "123  95      0.724490  \n",
       "146  151     0.711902  \n",
       "278  263     0.708858  \n",
       "449  132     0.706135  \n",
       "132  110     0.697640  "
      ]
     },
     "execution_count": 24,
     "metadata": {},
     "output_type": "execute_result"
    }
   ],
   "source": [
    "pd.set_option(\"display.max_colwidth\", -1)\n",
    "sentences.assign(distance=distance.flatten()).iloc[np.argsort(-distance).flatten()].head(10)"
   ]
  },
  {
   "cell_type": "markdown",
   "metadata": {},
   "source": [
    "そこそこ関連ある文章は取れているように思える。\"the agree-ment set the long-term\"等を見ると、\"Policy\"がトヨタのものなのか世界的なものなのか判別つかない問題が考えられる。"
   ]
  },
  {
   "cell_type": "code",
   "execution_count": null,
   "metadata": {},
   "outputs": [],
   "source": []
  }
 ],
 "metadata": {
  "kernelspec": {
   "display_name": "esg-nlp:Python",
   "language": "python",
   "name": "conda-env-esg-nlp-py"
  },
  "language_info": {
   "codemirror_mode": {
    "name": "ipython",
    "version": 3
   },
   "file_extension": ".py",
   "mimetype": "text/x-python",
   "name": "python",
   "nbconvert_exporter": "python",
   "pygments_lexer": "ipython3",
   "version": "3.8.12"
  }
 },
 "nbformat": 4,
 "nbformat_minor": 4
}
