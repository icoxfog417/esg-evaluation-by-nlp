{
 "cells": [
  {
   "cell_type": "markdown",
   "metadata": {},
   "source": [
    "## Search by Sentence Representation\n",
    "\n",
    "評価項目と統合報告書上の文をベクトル表現でマッチングさせることで、どの程度評価項目に有用な文が抽出できるかを検証する。\n",
    "\n",
    "* Representation\n",
    "  * [BERT](https://www.blog.google/products/search/search-language-understanding-bert/)\n",
    "\n",
    "\n",
    "### Preparation"
   ]
  },
  {
   "cell_type": "code",
   "execution_count": 1,
   "metadata": {},
   "outputs": [],
   "source": [
    "import os\n",
    "import sys\n",
    "import numpy as np\n",
    "import pandas as pd"
   ]
  },
  {
   "cell_type": "code",
   "execution_count": 2,
   "metadata": {},
   "outputs": [],
   "source": [
    "def set_root():\n",
    "    root = os.path.join(os.path.realpath(\".\"), \"../\")\n",
    "    if root not in sys.path:\n",
    "        sys.path.append(root)\n",
    "    return root\n",
    "\n",
    "ROOT_DIR = set_root()\n",
    "DATA_DIR = os.path.join(ROOT_DIR, \"data\")"
   ]
  },
  {
   "cell_type": "markdown",
   "metadata": {},
   "source": [
    "### Download Report"
   ]
  },
  {
   "cell_type": "code",
   "execution_count": 3,
   "metadata": {},
   "outputs": [],
   "source": [
    "url = \"https://global.toyota/pages/global_toyota/ir/library/annual/2019_001_annual_en.pdf\""
   ]
  },
  {
   "cell_type": "code",
   "execution_count": 4,
   "metadata": {},
   "outputs": [],
   "source": [
    "from chariot.storage import Storage\n",
    "from evaluator.data.pdf_reader import PDFReader"
   ]
  },
  {
   "cell_type": "code",
   "execution_count": 5,
   "metadata": {},
   "outputs": [
    {
     "data": {
      "application/vnd.jupyter.widget-view+json": {
       "model_id": "9863d3efc794483fbee3a435ff9f7681",
       "version_major": 2,
       "version_minor": 0
      },
      "text/plain": [
       "HBox(children=(FloatProgress(value=0.0, max=5958.62109375), HTML(value='')))"
      ]
     },
     "metadata": {},
     "output_type": "display_data"
    },
    {
     "name": "stdout",
     "output_type": "stream",
     "text": [
      "\n"
     ]
    },
    {
     "data": {
      "text/html": [
       "<div>\n",
       "<style scoped>\n",
       "    .dataframe tbody tr th:only-of-type {\n",
       "        vertical-align: middle;\n",
       "    }\n",
       "\n",
       "    .dataframe tbody tr th {\n",
       "        vertical-align: top;\n",
       "    }\n",
       "\n",
       "    .dataframe thead th {\n",
       "        text-align: right;\n",
       "    }\n",
       "</style>\n",
       "<table border=\"1\" class=\"dataframe\">\n",
       "  <thead>\n",
       "    <tr style=\"text-align: right;\">\n",
       "      <th></th>\n",
       "      <th>page</th>\n",
       "      <th>order</th>\n",
       "      <th>content</th>\n",
       "    </tr>\n",
       "  </thead>\n",
       "  <tbody>\n",
       "    <tr>\n",
       "      <th>0</th>\n",
       "      <td>1</td>\n",
       "      <td>1</td>\n",
       "      <td></td>\n",
       "    </tr>\n",
       "    <tr>\n",
       "      <th>1</th>\n",
       "      <td>1</td>\n",
       "      <td>2</td>\n",
       "      <td>Annual \\nReport</td>\n",
       "    </tr>\n",
       "    <tr>\n",
       "      <th>2</th>\n",
       "      <td>1</td>\n",
       "      <td>3</td>\n",
       "      <td>Annual Report 2019\\nFiscal year ended March 31...</td>\n",
       "    </tr>\n",
       "    <tr>\n",
       "      <th>3</th>\n",
       "      <td>1</td>\n",
       "      <td>4</td>\n",
       "      <td>2019</td>\n",
       "    </tr>\n",
       "    <tr>\n",
       "      <th>4</th>\n",
       "      <td>1</td>\n",
       "      <td>5</td>\n",
       "      <td></td>\n",
       "    </tr>\n",
       "  </tbody>\n",
       "</table>\n",
       "</div>"
      ],
      "text/plain": [
       "   page  order                                            content\n",
       "0     1      1                                                   \n",
       "1     1      2                                    Annual \\nReport\n",
       "2     1      3  Annual Report 2019\\nFiscal year ended March 31...\n",
       "3     1      4                                               2019\n",
       "4     1      5                                                   "
      ]
     },
     "execution_count": 5,
     "metadata": {},
     "output_type": "execute_result"
    }
   ],
   "source": [
    "storage = Storage(DATA_DIR)\n",
    "\n",
    "file_name = os.path.basename(url)\n",
    "file_path = storage.download(url, f\"raw/{file_name}\")\n",
    "reader = PDFReader()\n",
    "df = reader.read_to_frame(file_path)\n",
    "\n",
    "df.head(5)"
   ]
  },
  {
   "cell_type": "code",
   "execution_count": 6,
   "metadata": {},
   "outputs": [
    {
     "data": {
      "text/html": [
       "<div>\n",
       "<style scoped>\n",
       "    .dataframe tbody tr th:only-of-type {\n",
       "        vertical-align: middle;\n",
       "    }\n",
       "\n",
       "    .dataframe tbody tr th {\n",
       "        vertical-align: top;\n",
       "    }\n",
       "\n",
       "    .dataframe thead th {\n",
       "        text-align: right;\n",
       "    }\n",
       "</style>\n",
       "<table border=\"1\" class=\"dataframe\">\n",
       "  <thead>\n",
       "    <tr style=\"text-align: right;\">\n",
       "      <th></th>\n",
       "      <th>page</th>\n",
       "      <th>order</th>\n",
       "      <th>content</th>\n",
       "    </tr>\n",
       "  </thead>\n",
       "  <tbody>\n",
       "    <tr>\n",
       "      <th>0</th>\n",
       "      <td>1</td>\n",
       "      <td>2</td>\n",
       "      <td>annual  report</td>\n",
       "    </tr>\n",
       "    <tr>\n",
       "      <th>1</th>\n",
       "      <td>2</td>\n",
       "      <td>2</td>\n",
       "      <td>table of contents</td>\n",
       "    </tr>\n",
       "    <tr>\n",
       "      <th>2</th>\n",
       "      <td>2</td>\n",
       "      <td>3</td>\n",
       "      <td>1 table of contents 2 message from the preside...</td>\n",
       "    </tr>\n",
       "    <tr>\n",
       "      <th>3</th>\n",
       "      <td>2</td>\n",
       "      <td>4</td>\n",
       "      <td>5 recent initiatives 6 organization</td>\n",
       "    </tr>\n",
       "    <tr>\n",
       "      <th>4</th>\n",
       "      <td>2</td>\n",
       "      <td>5</td>\n",
       "      <td>7  making ever-better cars: continuing to hone...</td>\n",
       "    </tr>\n",
       "  </tbody>\n",
       "</table>\n",
       "</div>"
      ],
      "text/plain": [
       "   page  order                                            content\n",
       "0     1      2                                     annual  report\n",
       "1     2      2                                  table of contents\n",
       "2     2      3  1 table of contents 2 message from the preside...\n",
       "3     2      4                5 recent initiatives 6 organization\n",
       "4     2      5  7  making ever-better cars: continuing to hone..."
      ]
     },
     "execution_count": 6,
     "metadata": {},
     "output_type": "execute_result"
    }
   ],
   "source": [
    "df = reader.preprocess_frame(df)\n",
    "df.head(5)"
   ]
  },
  {
   "cell_type": "code",
   "execution_count": 7,
   "metadata": {},
   "outputs": [
    {
     "data": {
      "text/plain": [
       "625"
      ]
     },
     "execution_count": 7,
     "metadata": {},
     "output_type": "execute_result"
    }
   ],
   "source": [
    "len(df)"
   ]
  },
  {
   "cell_type": "code",
   "execution_count": 8,
   "metadata": {},
   "outputs": [],
   "source": [
    "reader.stop()"
   ]
  },
  {
   "cell_type": "markdown",
   "metadata": {},
   "source": [
    "### Calculate Sentence Representation"
   ]
  },
  {
   "cell_type": "code",
   "execution_count": 9,
   "metadata": {},
   "outputs": [],
   "source": [
    "from evaluator.features.encoder import encode"
   ]
  },
  {
   "cell_type": "code",
   "execution_count": 10,
   "metadata": {},
   "outputs": [],
   "source": [
    "model_name = \"bert-base-uncased\""
   ]
  },
  {
   "cell_type": "code",
   "execution_count": 11,
   "metadata": {},
   "outputs": [
    {
     "name": "stdout",
     "output_type": "stream",
     "text": [
      "Loading pretrained model...\n",
      "Prepair the tokenizer...\n"
     ]
    },
    {
     "name": "stderr",
     "output_type": "stream",
     "text": [
      "\r",
      "  0%|                                                                                           | 0/63 [00:00<?, ?it/s]"
     ]
    },
    {
     "name": "stdout",
     "output_type": "stream",
     "text": [
      "Set the pipeline.\n",
      "Inference start.\n"
     ]
    },
    {
     "name": "stderr",
     "output_type": "stream",
     "text": [
      "100%|██████████████████████████████████████████████████████████████████████████████████| 63/63 [01:16<00:00,  1.22s/it]\n"
     ]
    }
   ],
   "source": [
    "embeddings = encode(model_name, df[\"content\"].values.tolist())"
   ]
  },
  {
   "cell_type": "code",
   "execution_count": 12,
   "metadata": {},
   "outputs": [
    {
     "data": {
      "text/plain": [
       "(625, 768)"
      ]
     },
     "execution_count": 12,
     "metadata": {},
     "output_type": "execute_result"
    }
   ],
   "source": [
    "embeddings.shape"
   ]
  },
  {
   "cell_type": "markdown",
   "metadata": {},
   "source": [
    "### Query by evaluation item"
   ]
  },
  {
   "cell_type": "code",
   "execution_count": 13,
   "metadata": {},
   "outputs": [
    {
     "name": "stdout",
     "output_type": "stream",
     "text": [
      "Loading pretrained model...\n",
      "Prepair the tokenizer...\n",
      "Set the pipeline.\n",
      "Inference start.\n"
     ]
    }
   ],
   "source": [
    "query = encode(model_name, \"Climate Change impact including CO2 / GHG emissions. Policy or commitment statement\".lower())\n",
    "query = np.reshape(query, (1, -1))"
   ]
  },
  {
   "cell_type": "code",
   "execution_count": 23,
   "metadata": {},
   "outputs": [
    {
     "data": {
      "text/plain": [
       "array([-0.806189  , -0.79814149, -0.79535683, -0.77796453, -0.77390577,\n",
       "       -0.77082201, -0.77050985, -0.7694012 , -0.76785613, -0.76517533])"
      ]
     },
     "execution_count": 23,
     "metadata": {},
     "output_type": "execute_result"
    }
   ],
   "source": [
    "from sklearn.metrics.pairwise import cosine_similarity\n",
    "\n",
    "\n",
    "distance = cosine_similarity(query, embeddings)\n",
    "np.sort(-distance).flatten()[:10]"
   ]
  },
  {
   "cell_type": "code",
   "execution_count": 27,
   "metadata": {},
   "outputs": [
    {
     "data": {
      "text/html": [
       "<div>\n",
       "<style scoped>\n",
       "    .dataframe tbody tr th:only-of-type {\n",
       "        vertical-align: middle;\n",
       "    }\n",
       "\n",
       "    .dataframe tbody tr th {\n",
       "        vertical-align: top;\n",
       "    }\n",
       "\n",
       "    .dataframe thead th {\n",
       "        text-align: right;\n",
       "    }\n",
       "</style>\n",
       "<table border=\"1\" class=\"dataframe\">\n",
       "  <thead>\n",
       "    <tr style=\"text-align: right;\">\n",
       "      <th></th>\n",
       "      <th>page</th>\n",
       "      <th>order</th>\n",
       "      <th>content</th>\n",
       "      <th>distance</th>\n",
       "    </tr>\n",
       "  </thead>\n",
       "  <tbody>\n",
       "    <tr>\n",
       "      <th>520</th>\n",
       "      <td>38</td>\n",
       "      <td>45</td>\n",
       "      <td>web risk management   (sustainability data book 2019, p. 108)</td>\n",
       "      <td>0.806189</td>\n",
       "    </tr>\n",
       "    <tr>\n",
       "      <th>489</th>\n",
       "      <td>34</td>\n",
       "      <td>43</td>\n",
       "      <td>co2 reduction effect of 13.53 million hevs</td>\n",
       "      <td>0.798141</td>\n",
       "    </tr>\n",
       "    <tr>\n",
       "      <th>471</th>\n",
       "      <td>33</td>\n",
       "      <td>11</td>\n",
       "      <td>•  make annual global sales of more than 5.5 million electrified vehicles, including  more than 1 million zero-emission vehicles (bevs and fcevs)  reduce global average co2 emissions in g-co2/km from new vehicles by 35% or  more compared to 2010 levels (may vary depending on market conditions)</td>\n",
       "      <td>0.795357</td>\n",
       "    </tr>\n",
       "    <tr>\n",
       "      <th>29</th>\n",
       "      <td>2</td>\n",
       "      <td>35</td>\n",
       "      <td>investors https://global.toyota/en/ir/</td>\n",
       "      <td>0.777965</td>\n",
       "    </tr>\n",
       "    <tr>\n",
       "      <th>572</th>\n",
       "      <td>43</td>\n",
       "      <td>44</td>\n",
       "      <td> kanban method adopted (1963)   nummi, a joint corporation  with gm, established in   the u.s. (1984)</td>\n",
       "      <td>0.773906</td>\n",
       "    </tr>\n",
       "    <tr>\n",
       "      <th>575</th>\n",
       "      <td>43</td>\n",
       "      <td>49</td>\n",
       "      <td> losses (fy 2009)</td>\n",
       "      <td>0.770822</td>\n",
       "    </tr>\n",
       "    <tr>\n",
       "      <th>281</th>\n",
       "      <td>19</td>\n",
       "      <td>16</td>\n",
       "      <td>(e-care, agent, etc.)authentication ota update of</td>\n",
       "      <td>0.770510</td>\n",
       "    </tr>\n",
       "    <tr>\n",
       "      <th>519</th>\n",
       "      <td>38</td>\n",
       "      <td>44</td>\n",
       "      <td>form 20-f for the year ended march 31, 2019web</td>\n",
       "      <td>0.769401</td>\n",
       "    </tr>\n",
       "    <tr>\n",
       "      <th>582</th>\n",
       "      <td>44</td>\n",
       "      <td>18</td>\n",
       "      <td>depreciation expenses (note 3) (billions of yen) 1,032.0 812.3 732.9 727.3 775.9 806.2 885.1 893.2 964.4 984.8</td>\n",
       "      <td>0.767856</td>\n",
       "    </tr>\n",
       "    <tr>\n",
       "      <th>620</th>\n",
       "      <td>48</td>\n",
       "      <td>23</td>\n",
       "      <td>acceptance of new products that meet customer demand; (ix) any damage to toyota’s brand</td>\n",
       "      <td>0.765175</td>\n",
       "    </tr>\n",
       "  </tbody>\n",
       "</table>\n",
       "</div>"
      ],
      "text/plain": [
       "     page  order  \\\n",
       "520  38    45      \n",
       "489  34    43      \n",
       "471  33    11      \n",
       "29   2     35      \n",
       "572  43    44      \n",
       "575  43    49      \n",
       "281  19    16      \n",
       "519  38    44      \n",
       "582  44    18      \n",
       "620  48    23      \n",
       "\n",
       "                                                                                                                                                                                                                                                                                                    content  \\\n",
       "520  web risk management   (sustainability data book 2019, p. 108)                                                                                                                                                                                                                                            \n",
       "489  co2 reduction effect of 13.53 million hevs                                                                                                                                                                                                                                                               \n",
       "471  •  make annual global sales of more than 5.5 million electrified vehicles, including  more than 1 million zero-emission vehicles (bevs and fcevs)  reduce global average co2 emissions in g-co2/km from new vehicles by 35% or  more compared to 2010 levels (may vary depending on market conditions)   \n",
       "29   investors https://global.toyota/en/ir/                                                                                                                                                                                                                                                                   \n",
       "572   kanban method adopted (1963)   nummi, a joint corporation  with gm, established in   the u.s. (1984)                                                                                                                                                                                                  \n",
       "575   losses (fy 2009)                                                                                                                                                                                                                                                                                       \n",
       "281  (e-care, agent, etc.)authentication ota update of                                                                                                                                                                                                                                                        \n",
       "519  form 20-f for the year ended march 31, 2019web                                                                                                                                                                                                                                                           \n",
       "582  depreciation expenses (note 3) (billions of yen) 1,032.0 812.3 732.9 727.3 775.9 806.2 885.1 893.2 964.4 984.8                                                                                                                                                                                           \n",
       "620  acceptance of new products that meet customer demand; (ix) any damage to toyota’s brand                                                                                                                                                                                                                  \n",
       "\n",
       "     distance  \n",
       "520  0.806189  \n",
       "489  0.798141  \n",
       "471  0.795357  \n",
       "29   0.777965  \n",
       "572  0.773906  \n",
       "575  0.770822  \n",
       "281  0.770510  \n",
       "519  0.769401  \n",
       "582  0.767856  \n",
       "620  0.765175  "
      ]
     },
     "execution_count": 27,
     "metadata": {},
     "output_type": "execute_result"
    }
   ],
   "source": [
    "pd.set_option(\"display.max_colwidth\", -1)\n",
    "df.assign(distance=distance.flatten()).iloc[np.argsort(-distance).flatten()].head(10)"
   ]
  },
  {
   "cell_type": "code",
   "execution_count": null,
   "metadata": {},
   "outputs": [],
   "source": []
  }
 ],
 "metadata": {
  "kernelspec": {
   "display_name": "Python 3",
   "language": "python",
   "name": "python3"
  },
  "language_info": {
   "codemirror_mode": {
    "name": "ipython",
    "version": 3
   },
   "file_extension": ".py",
   "mimetype": "text/x-python",
   "name": "python",
   "nbconvert_exporter": "python",
   "pygments_lexer": "ipython3",
   "version": "3.7.4"
  }
 },
 "nbformat": 4,
 "nbformat_minor": 2
}
