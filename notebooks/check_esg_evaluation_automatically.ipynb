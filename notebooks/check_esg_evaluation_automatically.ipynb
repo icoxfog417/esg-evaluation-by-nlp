{
 "cells": [
  {
   "cell_type": "markdown",
   "metadata": {},
   "source": [
    "## Check ESG evaluation automatically\n",
    "\n",
    "ESG評価に使用しているチェックリストを、自動でチェックできるか検証する。\n",
    "\n",
    "1. Upload: PDFファイル(統合報告書)のアップロード・読み取り\n",
    "2. Preprocess: 読み込んだテキストを解析しやすいよう整形\n",
    "3. Retrieval: 関連個所の抽出\n",
    "4. Answering: チェックの実行\n",
    "\n",
    "結論\n",
    "\n",
    "* 評価項目に関連する箇所を抽出することは可能: 作業負荷軽減には有効な手ごたえ。\n",
    "  * キーワード検索でもそこそこ役に立つ。\n",
    "  * 近年の自然言語処理技術(テキストをベクトルに変換して検索などを行う技術)でも、関連すると思われる箇所が抽出できる。\n",
    "* 「チェック」の自動化を行うには、まだ検討しなければならない点がある。\n",
    "  * 条件設定がなど: 関連箇所がN件以上ならチェックする/しないetc.\n",
    "\n",
    "Next Step\n",
    "\n",
    "1. 抽出のみでどの程度負荷軽減が可能かの検証\n",
    "2. 1を行うためのシステムづくり\n",
    "3. そもそものデータ(文書)を収集するための体制・仕組みづくり\n",
    "\n",
    "\n",
    "### 0. Preparation\n",
    "\n",
    "プログラムの実行に必要なライブラリや設定の実行\n"
   ]
  },
  {
   "cell_type": "code",
   "execution_count": 1,
   "metadata": {},
   "outputs": [],
   "source": [
    "import os\n",
    "import sys\n",
    "import numpy as np\n",
    "import pandas as pd"
   ]
  },
  {
   "cell_type": "code",
   "execution_count": 2,
   "metadata": {},
   "outputs": [],
   "source": [
    "def set_root():\n",
    "    root = os.path.join(os.path.realpath(\".\"), \"../\")\n",
    "    if root not in sys.path:\n",
    "        sys.path.append(root)\n",
    "    return root\n",
    "\n",
    "ROOT_DIR = set_root()\n",
    "DATA_DIR = os.path.join(ROOT_DIR, \"data\")"
   ]
  },
  {
   "cell_type": "markdown",
   "metadata": {},
   "source": [
    "### 1. Upload\n",
    "\n",
    "(※実際システムになる時はPDFのUploadだが、現在はファイルを取ってくるのでDownload)\n",
    "ああ\n"
   ]
  },
  {
   "cell_type": "code",
   "execution_count": 3,
   "metadata": {},
   "outputs": [],
   "source": [
    "# トヨタの統合報告書\n",
    "url = \"https://global.toyota/pages/global_toyota/ir/library/annual/2019_001_annual_en.pdf\""
   ]
  },
  {
   "cell_type": "code",
   "execution_count": 4,
   "metadata": {},
   "outputs": [],
   "source": [
    "from chariot.storage import Storage\n",
    "from evaluator.data.pdf_reader import PDFReader"
   ]
  },
  {
   "cell_type": "code",
   "execution_count": 5,
   "metadata": {},
   "outputs": [
    {
     "data": {
      "application/vnd.jupyter.widget-view+json": {
       "model_id": "386a0bad046a461098bc5abae9b13aea",
       "version_major": 2,
       "version_minor": 0
      },
      "text/plain": [
       "HBox(children=(FloatProgress(value=0.0, max=11276.41015625), HTML(value='')))"
      ]
     },
     "metadata": {},
     "output_type": "display_data"
    },
    {
     "name": "stdout",
     "output_type": "stream",
     "text": [
      "\n"
     ]
    }
   ],
   "source": [
    "storage = Storage(DATA_DIR)\n",
    "\n",
    "file_name = os.path.basename(url)\n",
    "file_path = storage.download(url, f\"raw/{file_name}\")\n",
    "reader = PDFReader()\n",
    "df = reader.read_to_frame(file_path)"
   ]
  },
  {
   "cell_type": "markdown",
   "metadata": {},
   "source": [
    "PDF読み込み結果の表示\n",
    "\n",
    "* page: ページ番号\n",
    "* order: ページ内のセクション番号(登場順に上からカウント)\n"
   ]
  },
  {
   "cell_type": "code",
   "execution_count": 6,
   "metadata": {},
   "outputs": [
    {
     "data": {
      "text/html": [
       "<div>\n",
       "<style scoped>\n",
       "    .dataframe tbody tr th:only-of-type {\n",
       "        vertical-align: middle;\n",
       "    }\n",
       "\n",
       "    .dataframe tbody tr th {\n",
       "        vertical-align: top;\n",
       "    }\n",
       "\n",
       "    .dataframe thead th {\n",
       "        text-align: right;\n",
       "    }\n",
       "</style>\n",
       "<table border=\"1\" class=\"dataframe\">\n",
       "  <thead>\n",
       "    <tr style=\"text-align: right;\">\n",
       "      <th></th>\n",
       "      <th>page</th>\n",
       "      <th>order</th>\n",
       "      <th>content</th>\n",
       "    </tr>\n",
       "  </thead>\n",
       "  <tbody>\n",
       "    <tr>\n",
       "      <th>0</th>\n",
       "      <td>0</td>\n",
       "      <td>0</td>\n",
       "      <td>Page 1</td>\n",
       "    </tr>\n",
       "    <tr>\n",
       "      <th>1</th>\n",
       "      <td>0</td>\n",
       "      <td>1</td>\n",
       "      <td>Annual Report \\nAnnual Report 2019\\nFiscal yea...</td>\n",
       "    </tr>\n",
       "    <tr>\n",
       "      <th>2</th>\n",
       "      <td>1</td>\n",
       "      <td>0</td>\n",
       "      <td>Page 1</td>\n",
       "    </tr>\n",
       "    <tr>\n",
       "      <th>3</th>\n",
       "      <td>1</td>\n",
       "      <td>1</td>\n",
       "      <td>Table of Contents</td>\n",
       "    </tr>\n",
       "    <tr>\n",
       "      <th>4</th>\n",
       "      <td>1</td>\n",
       "      <td>2</td>\n",
       "      <td>1 \\nTable of Contents\\n2 \\nMessage from the Pr...</td>\n",
       "    </tr>\n",
       "  </tbody>\n",
       "</table>\n",
       "</div>"
      ],
      "text/plain": [
       "   page  order                                            content\n",
       "0     0      0                                             Page 1\n",
       "1     0      1  Annual Report \\nAnnual Report 2019\\nFiscal yea...\n",
       "2     1      0                                             Page 1\n",
       "3     1      1                                  Table of Contents\n",
       "4     1      2  1 \\nTable of Contents\\n2 \\nMessage from the Pr..."
      ]
     },
     "execution_count": 6,
     "metadata": {},
     "output_type": "execute_result"
    }
   ],
   "source": [
    "df.head(5)"
   ]
  },
  {
   "cell_type": "markdown",
   "metadata": {},
   "source": [
    "### 2. Preprocess\n",
    "\n",
    "PDF読み込み結果は様々なノイズを含んでいるので、処理しやすいよう前処理を行う。\n"
   ]
  },
  {
   "cell_type": "code",
   "execution_count": 7,
   "metadata": {},
   "outputs": [
    {
     "data": {
      "text/html": [
       "<div>\n",
       "<style scoped>\n",
       "    .dataframe tbody tr th:only-of-type {\n",
       "        vertical-align: middle;\n",
       "    }\n",
       "\n",
       "    .dataframe tbody tr th {\n",
       "        vertical-align: top;\n",
       "    }\n",
       "\n",
       "    .dataframe thead th {\n",
       "        text-align: right;\n",
       "    }\n",
       "</style>\n",
       "<table border=\"1\" class=\"dataframe\">\n",
       "  <thead>\n",
       "    <tr style=\"text-align: right;\">\n",
       "      <th></th>\n",
       "      <th>page</th>\n",
       "      <th>order</th>\n",
       "      <th>content</th>\n",
       "    </tr>\n",
       "  </thead>\n",
       "  <tbody>\n",
       "    <tr>\n",
       "      <th>0</th>\n",
       "      <td>0</td>\n",
       "      <td>0</td>\n",
       "      <td>page 1</td>\n",
       "    </tr>\n",
       "    <tr>\n",
       "      <th>1</th>\n",
       "      <td>0</td>\n",
       "      <td>1</td>\n",
       "      <td>annual report annual report 2019fiscal year en...</td>\n",
       "    </tr>\n",
       "    <tr>\n",
       "      <th>2</th>\n",
       "      <td>1</td>\n",
       "      <td>1</td>\n",
       "      <td>table of contents</td>\n",
       "    </tr>\n",
       "    <tr>\n",
       "      <th>3</th>\n",
       "      <td>1</td>\n",
       "      <td>2</td>\n",
       "      <td>1 table of contents2 message from the presiden...</td>\n",
       "    </tr>\n",
       "    <tr>\n",
       "      <th>4</th>\n",
       "      <td>1</td>\n",
       "      <td>3</td>\n",
       "      <td>the annual report 2019 is intended to communic...</td>\n",
       "    </tr>\n",
       "  </tbody>\n",
       "</table>\n",
       "</div>"
      ],
      "text/plain": [
       "   page  order                                            content\n",
       "0     0      0                                             page 1\n",
       "1     0      1  annual report annual report 2019fiscal year en...\n",
       "2     1      1                                  table of contents\n",
       "3     1      2  1 table of contents2 message from the presiden...\n",
       "4     1      3  the annual report 2019 is intended to communic..."
      ]
     },
     "execution_count": 7,
     "metadata": {},
     "output_type": "execute_result"
    }
   ],
   "source": [
    "preprocessed = reader.preprocess_frame(df)\n",
    "preprocessed.head(5)"
   ]
  },
  {
   "cell_type": "markdown",
   "metadata": {},
   "source": [
    "文を含んでいないセクションを除外"
   ]
  },
  {
   "cell_type": "code",
   "execution_count": 8,
   "metadata": {},
   "outputs": [],
   "source": [
    "import re\n",
    "\n",
    "\n",
    "has_sentence = re.compile(\"(•)?\\s?[A-Za-z](\\s)?(\\.|;)\")\n",
    "preprocessed = preprocessed[preprocessed[\"content\"].apply(lambda s: re.search(has_sentence, s) is not None)]"
   ]
  },
  {
   "cell_type": "code",
   "execution_count": 9,
   "metadata": {},
   "outputs": [
    {
     "name": "stdout",
     "output_type": "stream",
     "text": [
      "Rows are decreased from 747 to 189\n"
     ]
    }
   ],
   "source": [
    "print(f\"Rows are decreased from {len(df)} to {len(preprocessed)}\")"
   ]
  },
  {
   "cell_type": "code",
   "execution_count": 10,
   "metadata": {},
   "outputs": [
    {
     "data": {
      "text/html": [
       "<div>\n",
       "<style scoped>\n",
       "    .dataframe tbody tr th:only-of-type {\n",
       "        vertical-align: middle;\n",
       "    }\n",
       "\n",
       "    .dataframe tbody tr th {\n",
       "        vertical-align: top;\n",
       "    }\n",
       "\n",
       "    .dataframe thead th {\n",
       "        text-align: right;\n",
       "    }\n",
       "</style>\n",
       "<table border=\"1\" class=\"dataframe\">\n",
       "  <thead>\n",
       "    <tr style=\"text-align: right;\">\n",
       "      <th></th>\n",
       "      <th>page</th>\n",
       "      <th>order</th>\n",
       "      <th>content</th>\n",
       "    </tr>\n",
       "  </thead>\n",
       "  <tbody>\n",
       "    <tr>\n",
       "      <th>4</th>\n",
       "      <td>1</td>\n",
       "      <td>3</td>\n",
       "      <td>the annual report 2019 is intended to communic...</td>\n",
       "    </tr>\n",
       "    <tr>\n",
       "      <th>5</th>\n",
       "      <td>1</td>\n",
       "      <td>4</td>\n",
       "      <td>about the pdfthis file is an interactive pdf a...</td>\n",
       "    </tr>\n",
       "    <tr>\n",
       "      <th>9</th>\n",
       "      <td>1</td>\n",
       "      <td>8</td>\n",
       "      <td>icons found in each section link to related pa...</td>\n",
       "    </tr>\n",
       "    <tr>\n",
       "      <th>16</th>\n",
       "      <td>1</td>\n",
       "      <td>15</td>\n",
       "      <td>toyota’s reports and publications*  toyota als...</td>\n",
       "    </tr>\n",
       "    <tr>\n",
       "      <th>23</th>\n",
       "      <td>2</td>\n",
       "      <td>2</td>\n",
       "      <td>reforming our company to become a “mobility co...</td>\n",
       "    </tr>\n",
       "  </tbody>\n",
       "</table>\n",
       "</div>"
      ],
      "text/plain": [
       "    page  order                                            content\n",
       "4      1      3  the annual report 2019 is intended to communic...\n",
       "5      1      4  about the pdfthis file is an interactive pdf a...\n",
       "9      1      8  icons found in each section link to related pa...\n",
       "16     1     15  toyota’s reports and publications*  toyota als...\n",
       "23     2      2  reforming our company to become a “mobility co..."
      ]
     },
     "execution_count": 10,
     "metadata": {},
     "output_type": "execute_result"
    }
   ],
   "source": [
    "preprocessed.assign(length=preprocessed[\"content\"].apply(lambda s: len(s)))\n",
    "preprocessed.head(5)"
   ]
  },
  {
   "cell_type": "markdown",
   "metadata": {},
   "source": [
    "### 3. Retrieval\n",
    "\n",
    "評価項目に関係しているセクションを抽出する。  \n",
    "手法は様々あるが、単純に評価項目の質問に含まれているキーワードを含むセクションを抽出する。実際自分でやってみたところ、「CO2」などのキーワードでまず検索することが多かったので。\n"
   ]
  },
  {
   "cell_type": "code",
   "execution_count": 11,
   "metadata": {},
   "outputs": [],
   "source": [
    "question = \"Climate Change impact including CO2 / GHG emissions. Policy or commitment statement\"\n",
    "question = question.lower()\n",
    "language = \"en\""
   ]
  },
  {
   "cell_type": "code",
   "execution_count": 12,
   "metadata": {},
   "outputs": [],
   "source": [
    "from spacy.util import get_lang_class\n",
    "\n",
    "\n",
    "class Parser():\n",
    "\n",
    "    def __init__(self, lang):\n",
    "        self.lang = lang\n",
    "        self.parser = get_lang_class(self.lang)()\n",
    "    \n",
    "    def parse(self, text):\n",
    "        return self.parser(text)"
   ]
  },
  {
   "cell_type": "markdown",
   "metadata": {},
   "source": [
    "評価項目の質問から、キーワードを抽出"
   ]
  },
  {
   "cell_type": "code",
   "execution_count": 13,
   "metadata": {},
   "outputs": [
    {
     "data": {
      "text/plain": [
       "['climate',\n",
       " 'change',\n",
       " 'impact',\n",
       " 'including',\n",
       " 'co2',\n",
       " 'ghg',\n",
       " 'emissions',\n",
       " 'policy',\n",
       " 'commitment',\n",
       " 'statement']"
      ]
     },
     "execution_count": 13,
     "metadata": {},
     "output_type": "execute_result"
    }
   ],
   "source": [
    "parser = Parser(language)\n",
    "question_words = [t.lemma_ for t in parser.parse(question) if not t.is_stop and not re.match(\"\\'|\\.|\\?|\\/|\\,\", t.text)]\n",
    "question_words"
   ]
  },
  {
   "cell_type": "markdown",
   "metadata": {},
   "source": [
    "文書内の各セクションについて、キーワードが含まれる数を計算"
   ]
  },
  {
   "cell_type": "code",
   "execution_count": 14,
   "metadata": {},
   "outputs": [],
   "source": [
    "def count_keyword_match(parser, keywords, text):\n",
    "    tokens = parser.parse(text)\n",
    "    count = 0\n",
    "    _keywords = [k for k in keywords]\n",
    "    for t in tokens:\n",
    "        if t.lemma_ in _keywords:\n",
    "            count += 1\n",
    "    return count\n",
    "\n",
    "\n",
    "counted = preprocessed.assign(\n",
    "    keyword_match=preprocessed[\"content\"].apply(\n",
    "        lambda s: count_keyword_match(parser, question_words, s)))"
   ]
  },
  {
   "cell_type": "code",
   "execution_count": 15,
   "metadata": {},
   "outputs": [
    {
     "data": {
      "text/html": [
       "<div>\n",
       "<style scoped>\n",
       "    .dataframe tbody tr th:only-of-type {\n",
       "        vertical-align: middle;\n",
       "    }\n",
       "\n",
       "    .dataframe tbody tr th {\n",
       "        vertical-align: top;\n",
       "    }\n",
       "\n",
       "    .dataframe thead th {\n",
       "        text-align: right;\n",
       "    }\n",
       "</style>\n",
       "<table border=\"1\" class=\"dataframe\">\n",
       "  <thead>\n",
       "    <tr style=\"text-align: right;\">\n",
       "      <th></th>\n",
       "      <th>page</th>\n",
       "      <th>order</th>\n",
       "      <th>content</th>\n",
       "      <th>keyword_match</th>\n",
       "    </tr>\n",
       "  </thead>\n",
       "  <tbody>\n",
       "    <tr>\n",
       "      <th>126</th>\n",
       "      <td>12</td>\n",
       "      <td>2</td>\n",
       "      <td>regulations are being tightened,  along with n...</td>\n",
       "      <td>11</td>\n",
       "    </tr>\n",
       "    <tr>\n",
       "      <th>384</th>\n",
       "      <td>33</td>\n",
       "      <td>24</td>\n",
       "      <td>global average co2 emissions from new vehicles...</td>\n",
       "      <td>7</td>\n",
       "    </tr>\n",
       "    <tr>\n",
       "      <th>125</th>\n",
       "      <td>12</td>\n",
       "      <td>1</td>\n",
       "      <td>speeding the popularization of electrified veh...</td>\n",
       "      <td>7</td>\n",
       "    </tr>\n",
       "    <tr>\n",
       "      <th>562</th>\n",
       "      <td>47</td>\n",
       "      <td>1</td>\n",
       "      <td>this report contains forward-looking statement...</td>\n",
       "      <td>6</td>\n",
       "    </tr>\n",
       "    <tr>\n",
       "      <th>365</th>\n",
       "      <td>33</td>\n",
       "      <td>1</td>\n",
       "      <td>one means of decarbonization regarded as holdi...</td>\n",
       "      <td>5</td>\n",
       "    </tr>\n",
       "  </tbody>\n",
       "</table>\n",
       "</div>"
      ],
      "text/plain": [
       "     page  order                                            content  \\\n",
       "126    12      2  regulations are being tightened,  along with n...   \n",
       "384    33     24  global average co2 emissions from new vehicles...   \n",
       "125    12      1  speeding the popularization of electrified veh...   \n",
       "562    47      1  this report contains forward-looking statement...   \n",
       "365    33      1  one means of decarbonization regarded as holdi...   \n",
       "\n",
       "     keyword_match  \n",
       "126             11  \n",
       "384              7  \n",
       "125              7  \n",
       "562              6  \n",
       "365              5  "
      ]
     },
     "execution_count": 15,
     "metadata": {},
     "output_type": "execute_result"
    }
   ],
   "source": [
    "matched = counted[counted[\"keyword_match\"] > 0]\n",
    "matched.sort_values(by=[\"keyword_match\"], ascending=False).head(5)"
   ]
  },
  {
   "cell_type": "markdown",
   "metadata": {},
   "source": [
    "当然ながら、検索でかかるようなセクションは取れている。"
   ]
  },
  {
   "cell_type": "markdown",
   "metadata": {},
   "source": [
    "### 4.Answering\n",
    "\n",
    "#### 4.1 Use Question Answering Model\n",
    "\n",
    "キーワード検索から絞り込んだ結果から、具体的な回答関連箇所を抽出する。抜粋に成功したらチェック?とできるか。  \n",
    "(=>実際のチェック結果が現在手に入らないので、結果の確認はできない)\n",
    "\n",
    "回答箇所の抽出には、自然言語処理の質問回答の手法を使用。Wikipediaをベースにした質問回答のデータセット(SQuADと呼ばれる)を学習させれば、一応[人間より精度は高くなる](https://rajpurkar.github.io/SQuAD-explorer/)。ただESGの質問回答データセットはないので、SQuADで学習したモデルをESGにそのまま適用してみる。\n",
    "\n",
    "実際人間がチェックすると以下の箇所になる\n",
    "![image](./images/answer.PNG)"
   ]
  },
  {
   "cell_type": "code",
   "execution_count": 16,
   "metadata": {},
   "outputs": [],
   "source": [
    "from evaluator.models.question_answer import answer"
   ]
  },
  {
   "cell_type": "code",
   "execution_count": 17,
   "metadata": {},
   "outputs": [],
   "source": [
    "# Climate Change impact including CO2 / GHG emissions. Policy or commitment statement\n",
    "asking = \"What policy or commitment does company have for climate change impact including CO2 / GHG emissions ?\""
   ]
  },
  {
   "cell_type": "markdown",
   "metadata": {},
   "source": [
    "回答箇所抜粋"
   ]
  },
  {
   "cell_type": "code",
   "execution_count": 18,
   "metadata": {},
   "outputs": [
    {
     "name": "stdout",
     "output_type": "stream",
     "text": [
      "Loading pretrained model...\n",
      "Prepair the tokenizer...\n"
     ]
    },
    {
     "name": "stderr",
     "output_type": "stream",
     "text": [
      "  0%|                                                                                           | 0/53 [00:00<?, ?it/s]\n",
      "Converting examples to features: 100%|██████████████████████████████████████████████████| 1/1 [00:00<00:00, 200.13it/s]\u001b[A"
     ]
    },
    {
     "name": "stdout",
     "output_type": "stream",
     "text": [
      "Set the pipeline.\n",
      "Answer start.\n"
     ]
    },
    {
     "name": "stderr",
     "output_type": "stream",
     "text": [
      "\n",
      "  2%|█▌                                                                                 | 1/53 [00:00<00:21,  2.39it/s]\n",
      "Converting examples to features: 100%|███████████████████████████████████████████████████| 1/1 [00:00<00:00, 32.26it/s]\u001b[A\n",
      "  4%|███▏                                                                               | 2/53 [00:01<00:27,  1.87it/s]\n",
      "Converting examples to features: 100%|██████████████████████████████████████████████████| 1/1 [00:00<00:00, 100.01it/s]\u001b[A\n",
      "  6%|████▋                                                                              | 3/53 [00:01<00:24,  2.01it/s]\n",
      "Converting examples to features: 100%|██████████████████████████████████████████████████| 1/1 [00:00<00:00, 142.77it/s]\u001b[A\n",
      "  8%|██████▎                                                                            | 4/53 [00:02<00:23,  2.08it/s]\n",
      "Converting examples to features: 100%|███████████████████████████████████████████████████| 1/1 [00:00<00:00, 52.64it/s]\u001b[A\n",
      "  9%|███████▊                                                                           | 5/53 [00:02<00:22,  2.16it/s]\n",
      "Converting examples to features: 100%|███████████████████████████████████████████████████| 1/1 [00:00<00:00, 55.56it/s]\u001b[A\n",
      " 11%|█████████▍                                                                         | 6/53 [00:02<00:21,  2.18it/s]\n",
      "Converting examples to features: 100%|███████████████████████████████████████████████████| 1/1 [00:00<00:00, 71.44it/s]\u001b[A\n",
      " 13%|██████████▉                                                                        | 7/53 [00:03<00:20,  2.20it/s]\n",
      "Converting examples to features: 100%|███████████████████████████████████████████████████| 1/1 [00:00<00:00, 55.57it/s]\u001b[A\n",
      " 15%|████████████▌                                                                      | 8/53 [00:03<00:19,  2.29it/s]\n",
      "Converting examples to features: 100%|███████████████████████████████████████████████████| 1/1 [00:00<00:00, 17.54it/s]\u001b[A\n",
      " 17%|██████████████                                                                     | 9/53 [00:05<00:34,  1.28it/s]\n",
      "Converting examples to features: 100%|███████████████████████████████████████████████████| 1/1 [00:00<00:00, 32.21it/s]\u001b[A\n",
      " 19%|███████████████▍                                                                  | 10/53 [00:06<00:38,  1.10it/s]\n",
      "Converting examples to features: 100%|███████████████████████████████████████████████████| 1/1 [00:00<00:00, 32.26it/s]\u001b[A\n",
      " 21%|█████████████████                                                                 | 11/53 [00:07<00:32,  1.30it/s]\n",
      "Converting examples to features: 100%|███████████████████████████████████████████████████| 1/1 [00:00<00:00, 33.34it/s]\u001b[A\n",
      " 23%|██████████████████▌                                                               | 12/53 [00:07<00:32,  1.28it/s]\n",
      "Converting examples to features: 100%|███████████████████████████████████████████████████| 1/1 [00:00<00:00, 34.48it/s]\u001b[A\n",
      " 25%|████████████████████                                                              | 13/53 [00:08<00:31,  1.25it/s]\n",
      "Converting examples to features: 100%|███████████████████████████████████████████████████| 1/1 [00:00<00:00, 58.83it/s]\u001b[A\n",
      " 26%|█████████████████████▋                                                            | 14/53 [00:09<00:26,  1.46it/s]\n",
      "Converting examples to features: 100%|██████████████████████████████████████████████████| 1/1 [00:00<00:00, 165.70it/s]\u001b[A\n",
      " 28%|███████████████████████▏                                                          | 15/53 [00:09<00:23,  1.65it/s]\n",
      "Converting examples to features: 100%|███████████████████████████████████████████████████| 1/1 [00:00<00:00, 37.04it/s]\u001b[A\n",
      " 30%|████████████████████████▊                                                         | 16/53 [00:09<00:20,  1.82it/s]\n",
      "Converting examples to features: 100%|███████████████████████████████████████████████████| 1/1 [00:00<00:00, 40.00it/s]\u001b[A\n",
      " 32%|██████████████████████████▎                                                       | 17/53 [00:10<00:23,  1.55it/s]\n",
      "Converting examples to features: 100%|███████████████████████████████████████████████████| 1/1 [00:00<00:00, 27.78it/s]\u001b[A\n",
      " 34%|███████████████████████████▊                                                      | 18/53 [00:11<00:24,  1.45it/s]\n",
      "Converting examples to features: 100%|██████████████████████████████████████████████████| 1/1 [00:00<00:00, 125.03it/s]\u001b[A\n",
      " 36%|█████████████████████████████▍                                                    | 19/53 [00:12<00:21,  1.61it/s]\n",
      "Converting examples to features: 100%|███████████████████████████████████████████████████| 1/1 [00:00<00:00, 76.94it/s]\u001b[A\n",
      " 38%|██████████████████████████████▉                                                   | 20/53 [00:12<00:18,  1.76it/s]\n",
      "Converting examples to features: 100%|███████████████████████████████████████████████████| 1/1 [00:00<00:00, 55.55it/s]\u001b[A\n",
      " 40%|████████████████████████████████▍                                                 | 21/53 [00:12<00:16,  1.93it/s]\n",
      "Converting examples to features: 100%|███████████████████████████████████████████████████| 1/1 [00:00<00:00, 50.00it/s]\u001b[A\n",
      " 42%|██████████████████████████████████                                                | 22/53 [00:13<00:15,  2.03it/s]\n",
      "Converting examples to features: 100%|███████████████████████████████████████████████████| 1/1 [00:00<00:00, 40.00it/s]\u001b[A\n",
      " 43%|███████████████████████████████████▌                                              | 23/53 [00:14<00:17,  1.74it/s]\n",
      "Converting examples to features: 100%|███████████████████████████████████████████████████| 1/1 [00:00<00:00, 58.83it/s]\u001b[A\n",
      " 45%|█████████████████████████████████████▏                                            | 24/53 [00:14<00:15,  1.87it/s]\n",
      "Converting examples to features: 100%|███████████████████████████████████████████████████| 1/1 [00:00<00:00, 66.67it/s]\u001b[A\n",
      " 47%|██████████████████████████████████████▋                                           | 25/53 [00:14<00:13,  2.02it/s]\n",
      "Converting examples to features: 100%|███████████████████████████████████████████████████| 1/1 [00:00<00:00, 55.54it/s]\u001b[A\n",
      " 49%|████████████████████████████████████████▏                                         | 26/53 [00:15<00:12,  2.11it/s]\n",
      "Converting examples to features: 100%|███████████████████████████████████████████████████| 1/1 [00:00<00:00, 62.50it/s]\u001b[A\n",
      " 51%|█████████████████████████████████████████▊                                        | 27/53 [00:15<00:11,  2.21it/s]\n",
      "Converting examples to features: 100%|██████████████████████████████████████████████████| 1/1 [00:00<00:00, 111.16it/s]\u001b[A\n",
      " 53%|███████████████████████████████████████████▎                                      | 28/53 [00:16<00:11,  2.23it/s]\n",
      "Converting examples to features: 100%|███████████████████████████████████████████████████| 1/1 [00:00<00:00, 50.00it/s]\u001b[A\n",
      " 55%|████████████████████████████████████████████▊                                     | 29/53 [00:16<00:10,  2.24it/s]\n",
      "Converting examples to features: 100%|███████████████████████████████████████████████████| 1/1 [00:00<00:00, 62.50it/s]\u001b[A\n",
      " 57%|██████████████████████████████████████████████▍                                   | 30/53 [00:17<00:10,  2.21it/s]\n",
      "Converting examples to features: 100%|███████████████████████████████████████████████████| 1/1 [00:00<00:00, 14.09it/s]\u001b[A\n",
      " 58%|███████████████████████████████████████████████▉                                  | 31/53 [00:19<00:21,  1.05it/s]\n",
      "Converting examples to features: 100%|███████████████████████████████████████████████████| 1/1 [00:00<00:00, 22.22it/s]\u001b[A\n",
      " 60%|█████████████████████████████████████████████████▌                                | 32/53 [00:21<00:25,  1.23s/it]\n",
      "Converting examples to features: 100%|███████████████████████████████████████████████████| 1/1 [00:00<00:00, 47.62it/s]\u001b[A\n",
      " 62%|███████████████████████████████████████████████████                               | 33/53 [00:21<00:20,  1.00s/it]\n",
      "Converting examples to features: 100%|███████████████████████████████████████████████████| 1/1 [00:00<00:00, 52.62it/s]\u001b[A\n",
      " 64%|████████████████████████████████████████████████████▌                             | 34/53 [00:22<00:15,  1.20it/s]\n"
     ]
    },
    {
     "name": "stderr",
     "output_type": "stream",
     "text": [
      "Converting examples to features: 100%|███████████████████████████████████████████████████| 1/1 [00:00<00:00, 83.31it/s]\u001b[A\n",
      " 66%|██████████████████████████████████████████████████████▏                           | 35/53 [00:22<00:12,  1.40it/s]\n",
      "Converting examples to features: 100%|██████████████████████████████████████████████████| 1/1 [00:00<00:00, 250.09it/s]\u001b[A\n",
      " 68%|███████████████████████████████████████████████████████▋                          | 36/53 [00:22<00:10,  1.59it/s]\n",
      "Converting examples to features: 100%|███████████████████████████████████████████████████| 1/1 [00:00<00:00, 50.00it/s]\u001b[A\n",
      " 70%|█████████████████████████████████████████████████████████▏                        | 37/53 [00:23<00:09,  1.75it/s]\n",
      "Converting examples to features: 100%|███████████████████████████████████████████████████| 1/1 [00:00<00:00, 45.46it/s]\u001b[A\n",
      " 72%|██████████████████████████████████████████████████████████▊                       | 38/53 [00:24<00:09,  1.56it/s]\n",
      "Converting examples to features: 100%|███████████████████████████████████████████████████| 1/1 [00:00<00:00, 58.82it/s]\u001b[A\n",
      " 74%|████████████████████████████████████████████████████████████▎                     | 39/53 [00:24<00:08,  1.72it/s]\n",
      "Converting examples to features: 100%|██████████████████████████████████████████████████| 1/1 [00:00<00:00, 111.13it/s]\u001b[A\n",
      " 75%|█████████████████████████████████████████████████████████████▉                    | 40/53 [00:24<00:06,  1.90it/s]\n",
      "Converting examples to features: 100%|███████████████████████████████████████████████████| 1/1 [00:00<00:00, 52.64it/s]\u001b[A\n",
      " 77%|███████████████████████████████████████████████████████████████▍                  | 41/53 [00:25<00:06,  1.95it/s]\n",
      "Converting examples to features: 100%|███████████████████████████████████████████████████| 1/1 [00:00<00:00, 15.15it/s]\u001b[A\n",
      " 79%|████████████████████████████████████████████████████████████████▉                 | 42/53 [00:26<00:08,  1.34it/s]\n",
      "Converting examples to features: 100%|███████████████████████████████████████████████████| 1/1 [00:00<00:00, 90.93it/s]\u001b[A\n",
      " 81%|██████████████████████████████████████████████████████████████████▌               | 43/53 [00:27<00:06,  1.55it/s]\n",
      "Converting examples to features: 100%|██████████████████████████████████████████████████| 1/1 [00:00<00:00, 200.20it/s]\u001b[A\n",
      " 83%|████████████████████████████████████████████████████████████████████              | 44/53 [00:27<00:05,  1.69it/s]\n",
      "Converting examples to features: 100%|███████████████████████████████████████████████████| 1/1 [00:00<00:00, 37.04it/s]\u001b[A\n",
      " 85%|█████████████████████████████████████████████████████████████████████▌            | 45/53 [00:28<00:04,  1.82it/s]\n",
      "Converting examples to features: 100%|███████████████████████████████████████████████████| 1/1 [00:00<00:00, 23.81it/s]\u001b[A\n",
      " 87%|███████████████████████████████████████████████████████████████████████▏          | 46/53 [00:29<00:05,  1.18it/s]\n",
      "Converting examples to features: 100%|███████████████████████████████████████████████████| 1/1 [00:00<00:00, 49.99it/s]\u001b[A\n",
      " 89%|████████████████████████████████████████████████████████████████████████▋         | 47/53 [00:30<00:04,  1.37it/s]\n",
      "Converting examples to features: 100%|██████████████████████████████████████████████████| 1/1 [00:00<00:00, 111.12it/s]\u001b[A\n",
      " 91%|██████████████████████████████████████████████████████████████████████████▎       | 48/53 [00:30<00:03,  1.55it/s]\n",
      "Converting examples to features: 100%|███████████████████████████████████████████████████| 1/1 [00:00<00:00, 21.74it/s]\u001b[A\n",
      " 92%|███████████████████████████████████████████████████████████████████████████▊      | 49/53 [00:31<00:03,  1.16it/s]\n",
      "Converting examples to features: 100%|███████████████████████████████████████████████████| 1/1 [00:00<00:00, 43.48it/s]\u001b[A\n",
      " 94%|█████████████████████████████████████████████████████████████████████████████▎    | 50/53 [00:32<00:02,  1.34it/s]\n",
      "Converting examples to features: 100%|███████████████████████████████████████████████████| 1/1 [00:00<00:00, 23.26it/s]\u001b[A\n",
      " 96%|██████████████████████████████████████████████████████████████████████████████▉   | 51/53 [00:33<00:01,  1.09it/s]\n",
      "Converting examples to features: 100%|██████████████████████████████████████████████████| 1/1 [00:00<00:00, 142.84it/s]\u001b[A\n",
      " 98%|████████████████████████████████████████████████████████████████████████████████▍ | 52/53 [00:34<00:00,  1.28it/s]\n",
      "Converting examples to features: 100%|███████████████████████████████████████████████████| 1/1 [00:00<00:00, 20.00it/s]\u001b[A\n",
      "100%|██████████████████████████████████████████████████████████████████████████████████| 53/53 [00:35<00:00,  1.50it/s]\n"
     ]
    }
   ],
   "source": [
    "question_context = matched[\"content\"].apply(lambda s: (asking.lower(), s)).tolist()\n",
    "answers = answer(\"distilbert-base-uncased-distilled-squad\", question_context)"
   ]
  },
  {
   "cell_type": "code",
   "execution_count": 19,
   "metadata": {},
   "outputs": [
    {
     "data": {
      "text/html": [
       "<div>\n",
       "<style scoped>\n",
       "    .dataframe tbody tr th:only-of-type {\n",
       "        vertical-align: middle;\n",
       "    }\n",
       "\n",
       "    .dataframe tbody tr th {\n",
       "        vertical-align: top;\n",
       "    }\n",
       "\n",
       "    .dataframe thead th {\n",
       "        text-align: right;\n",
       "    }\n",
       "</style>\n",
       "<table border=\"1\" class=\"dataframe\">\n",
       "  <thead>\n",
       "    <tr style=\"text-align: right;\">\n",
       "      <th></th>\n",
       "      <th>score</th>\n",
       "      <th>start</th>\n",
       "      <th>end</th>\n",
       "      <th>answer</th>\n",
       "    </tr>\n",
       "  </thead>\n",
       "  <tbody>\n",
       "    <tr>\n",
       "      <th>0</th>\n",
       "      <td>0.623756</td>\n",
       "      <td>275</td>\n",
       "      <td>286</td>\n",
       "      <td>situa-tion,</td>\n",
       "    </tr>\n",
       "    <tr>\n",
       "      <th>1</th>\n",
       "      <td>0.352997</td>\n",
       "      <td>1036</td>\n",
       "      <td>1061</td>\n",
       "      <td>corporate culture reform,</td>\n",
       "    </tr>\n",
       "    <tr>\n",
       "      <th>2</th>\n",
       "      <td>0.369260</td>\n",
       "      <td>208</td>\n",
       "      <td>239</td>\n",
       "      <td>cfo capital policytechnological</td>\n",
       "    </tr>\n",
       "    <tr>\n",
       "      <th>3</th>\n",
       "      <td>0.056642</td>\n",
       "      <td>234</td>\n",
       "      <td>303</td>\n",
       "      <td>continue to hone our competitiveness in the re...</td>\n",
       "    </tr>\n",
       "    <tr>\n",
       "      <th>4</th>\n",
       "      <td>0.039247</td>\n",
       "      <td>388</td>\n",
       "      <td>418</td>\n",
       "      <td>toyota new global architecture</td>\n",
       "    </tr>\n",
       "  </tbody>\n",
       "</table>\n",
       "</div>"
      ],
      "text/plain": [
       "      score  start   end                                             answer\n",
       "0  0.623756    275   286                                        situa-tion,\n",
       "1  0.352997   1036  1061                          corporate culture reform,\n",
       "2  0.369260    208   239                    cfo capital policytechnological\n",
       "3  0.056642    234   303  continue to hone our competitiveness in the re...\n",
       "4  0.039247    388   418                     toyota new global architecture"
      ]
     },
     "execution_count": 19,
     "metadata": {},
     "output_type": "execute_result"
    }
   ],
   "source": [
    "pd.DataFrame(answers).head(5)"
   ]
  },
  {
   "cell_type": "markdown",
   "metadata": {},
   "source": [
    "answerは抽出できているが、意味が通らないものが多い。  \n",
    "手法のせいなのか、学習データがあればうまく動くのかは、現時点ではわからない(質問と回答のペアを作る必要がある)。\n",
    "\n",
    "#### 4.2 Use Feature Representation\n",
    "\n",
    "直接質問回答ではなく、評価の質問に近い文を抽出してみる(あればチェック、なければチェックしない)。  \n",
    "先ほどのキーワードでの抽出と変えて、もう少し文の意味を考慮できる手法を使用する。具体的には、Googleの検索で最近採用された手法を使用する。\n",
    "\n",
    "* [BERT](https://www.blog.google/products/search/search-language-understanding-bert/)\n",
    "\n",
    "まずは、セクションを文に分割する。"
   ]
  },
  {
   "cell_type": "code",
   "execution_count": 20,
   "metadata": {},
   "outputs": [
    {
     "data": {
      "text/html": [
       "<div>\n",
       "<style scoped>\n",
       "    .dataframe tbody tr th:only-of-type {\n",
       "        vertical-align: middle;\n",
       "    }\n",
       "\n",
       "    .dataframe tbody tr th {\n",
       "        vertical-align: top;\n",
       "    }\n",
       "\n",
       "    .dataframe thead th {\n",
       "        text-align: right;\n",
       "    }\n",
       "</style>\n",
       "<table border=\"1\" class=\"dataframe\">\n",
       "  <thead>\n",
       "    <tr style=\"text-align: right;\">\n",
       "      <th></th>\n",
       "      <th>page</th>\n",
       "      <th>section_order</th>\n",
       "      <th>sentence_order</th>\n",
       "      <th>sentence</th>\n",
       "      <th>length</th>\n",
       "    </tr>\n",
       "  </thead>\n",
       "  <tbody>\n",
       "    <tr>\n",
       "      <th>0</th>\n",
       "      <td>2</td>\n",
       "      <td>2</td>\n",
       "      <td>0</td>\n",
       "      <td>reforming our company to become a “mobility co...</td>\n",
       "      <td>143</td>\n",
       "    </tr>\n",
       "    <tr>\n",
       "      <th>1</th>\n",
       "      <td>2</td>\n",
       "      <td>2</td>\n",
       "      <td>1</td>\n",
       "      <td>in light of technolog-ical innovations in “ca...</td>\n",
       "      <td>118</td>\n",
       "    </tr>\n",
       "    <tr>\n",
       "      <th>2</th>\n",
       "      <td>2</td>\n",
       "      <td>2</td>\n",
       "      <td>2</td>\n",
       "      <td>given this situa-tion, we must transform our ...</td>\n",
       "      <td>103</td>\n",
       "    </tr>\n",
       "    <tr>\n",
       "      <th>3</th>\n",
       "      <td>2</td>\n",
       "      <td>2</td>\n",
       "      <td>3</td>\n",
       "      <td></td>\n",
       "      <td>0</td>\n",
       "    </tr>\n",
       "    <tr>\n",
       "      <th>4</th>\n",
       "      <td>4</td>\n",
       "      <td>2</td>\n",
       "      <td>0</td>\n",
       "      <td>unwavering commitment to the development of ou...</td>\n",
       "      <td>130</td>\n",
       "    </tr>\n",
       "  </tbody>\n",
       "</table>\n",
       "</div>"
      ],
      "text/plain": [
       "   page  section_order  sentence_order  \\\n",
       "0     2              2               0   \n",
       "1     2              2               1   \n",
       "2     2              2               2   \n",
       "3     2              2               3   \n",
       "4     4              2               0   \n",
       "\n",
       "                                            sentence  length  \n",
       "0  reforming our company to become a “mobility co...     143  \n",
       "1   in light of technolog-ical innovations in “ca...     118  \n",
       "2   given this situa-tion, we must transform our ...     103  \n",
       "3                                                          0  \n",
       "4  unwavering commitment to the development of ou...     130  "
      ]
     },
     "execution_count": 20,
     "metadata": {},
     "output_type": "execute_result"
    }
   ],
   "source": [
    "sentences = []\n",
    "for i, row in matched.iterrows():\n",
    "    c = row[\"content\"]\n",
    "    for j, s in enumerate(c.replace(\"•\", \".\").replace(\";\", \".\").split(\".\")):\n",
    "        sentences.append({\n",
    "            \"page\": row[\"page\"],\n",
    "            \"section_order\": row[\"order\"],\n",
    "            \"sentence_order\": j,\n",
    "            \"sentence\": s,\n",
    "            \"length\": len(s)\n",
    "        })\n",
    "\n",
    "sentences = pd.DataFrame(sentences)\n",
    "sentences.head(5)"
   ]
  },
  {
   "cell_type": "markdown",
   "metadata": {},
   "source": [
    "文をベクトル表現(BERT表現)に変換する。"
   ]
  },
  {
   "cell_type": "code",
   "execution_count": 21,
   "metadata": {},
   "outputs": [],
   "source": [
    "from evaluator.features.encoder import encode"
   ]
  },
  {
   "cell_type": "code",
   "execution_count": 22,
   "metadata": {},
   "outputs": [],
   "source": [
    "model_name = \"bert-base-uncased\""
   ]
  },
  {
   "cell_type": "code",
   "execution_count": 23,
   "metadata": {},
   "outputs": [
    {
     "name": "stdout",
     "output_type": "stream",
     "text": [
      "Loading pretrained model...\n",
      "Prepair the tokenizer...\n"
     ]
    },
    {
     "name": "stderr",
     "output_type": "stream",
     "text": [
      "  3%|██▋                                                                                | 2/63 [00:00<00:04, 12.50it/s]"
     ]
    },
    {
     "name": "stdout",
     "output_type": "stream",
     "text": [
      "Set the pipeline.\n",
      "Inference start.\n"
     ]
    },
    {
     "name": "stderr",
     "output_type": "stream",
     "text": [
      "100%|██████████████████████████████████████████████████████████████████████████████████| 63/63 [00:43<00:00,  1.45it/s]\n"
     ]
    }
   ],
   "source": [
    "embeddings = encode(model_name, sentences[\"sentence\"].values.tolist())"
   ]
  },
  {
   "cell_type": "code",
   "execution_count": 24,
   "metadata": {},
   "outputs": [
    {
     "data": {
      "text/plain": [
       "(625, 768)"
      ]
     },
     "execution_count": 24,
     "metadata": {},
     "output_type": "execute_result"
    }
   ],
   "source": [
    "embeddings.shape"
   ]
  },
  {
   "cell_type": "markdown",
   "metadata": {},
   "source": [
    "評価項目の質問と、文書中の文とで、ベクトル表現が近いものを抽出する。"
   ]
  },
  {
   "cell_type": "code",
   "execution_count": 25,
   "metadata": {},
   "outputs": [
    {
     "name": "stdout",
     "output_type": "stream",
     "text": [
      "Loading pretrained model...\n",
      "Prepair the tokenizer...\n",
      "Set the pipeline.\n",
      "Inference start.\n"
     ]
    }
   ],
   "source": [
    "query = encode(model_name, \"Climate Change impact including CO2 / GHG emissions. Policy or commitment statement\".lower())\n",
    "query = np.reshape(query, (1, -1))"
   ]
  },
  {
   "cell_type": "code",
   "execution_count": 26,
   "metadata": {},
   "outputs": [
    {
     "data": {
      "text/plain": [
       "array([-0.8077492 , -0.76283298, -0.74784697, -0.74546636, -0.70889445,\n",
       "       -0.6956646 , -0.69559286, -0.69314511, -0.67987736, -0.66801694])"
      ]
     },
     "execution_count": 26,
     "metadata": {},
     "output_type": "execute_result"
    }
   ],
   "source": [
    "from sklearn.metrics.pairwise import cosine_similarity\n",
    "\n",
    "\n",
    "distance = cosine_similarity(query, embeddings)\n",
    "np.sort(-distance).flatten()[:10]"
   ]
  },
  {
   "cell_type": "markdown",
   "metadata": {},
   "source": [
    "質問に近い文トップ10を表示"
   ]
  },
  {
   "cell_type": "code",
   "execution_count": 27,
   "metadata": {},
   "outputs": [
    {
     "data": {
      "text/html": [
       "<div>\n",
       "<style scoped>\n",
       "    .dataframe tbody tr th:only-of-type {\n",
       "        vertical-align: middle;\n",
       "    }\n",
       "\n",
       "    .dataframe tbody tr th {\n",
       "        vertical-align: top;\n",
       "    }\n",
       "\n",
       "    .dataframe thead th {\n",
       "        text-align: right;\n",
       "    }\n",
       "</style>\n",
       "<table border=\"1\" class=\"dataframe\">\n",
       "  <thead>\n",
       "    <tr style=\"text-align: right;\">\n",
       "      <th></th>\n",
       "      <th>page</th>\n",
       "      <th>section_order</th>\n",
       "      <th>sentence_order</th>\n",
       "      <th>sentence</th>\n",
       "      <th>length</th>\n",
       "      <th>distance</th>\n",
       "    </tr>\n",
       "  </thead>\n",
       "  <tbody>\n",
       "    <tr>\n",
       "      <th>430</th>\n",
       "      <td>33</td>\n",
       "      <td>24</td>\n",
       "      <td>3</td>\n",
       "      <td>the average co2 emissions (g-co2/km) of new vehicles in each year, based on fuel efficiency values   (co2 emissions) certified by the respective national authorities2020 target: 22%</td>\n",
       "      <td>182</td>\n",
       "      <td>0.807749</td>\n",
       "    </tr>\n",
       "    <tr>\n",
       "      <th>267</th>\n",
       "      <td>25</td>\n",
       "      <td>1</td>\n",
       "      <td>7</td>\n",
       "      <td>the agree-ment set the long-term goal of limiting global warming to well below 2°c compared with pre-industrial levels and calls for reaching net zero anthropogenic emissions of co2 and other greenhouse gases during the second half of the 21st century</td>\n",
       "      <td>252</td>\n",
       "      <td>0.762833</td>\n",
       "    </tr>\n",
       "    <tr>\n",
       "      <th>427</th>\n",
       "      <td>33</td>\n",
       "      <td>24</td>\n",
       "      <td>0</td>\n",
       "      <td>global average co2 emissions from new vehicles reduction rate versus 2010 (japan, u</td>\n",
       "      <td>83</td>\n",
       "      <td>0.747847</td>\n",
       "    </tr>\n",
       "    <tr>\n",
       "      <th>140</th>\n",
       "      <td>12</td>\n",
       "      <td>2</td>\n",
       "      <td>4</td>\n",
       "      <td>under this framework, which is increas-ingly being adopted by countries worldwide, the required level of cuts in co2 emissions rises each year</td>\n",
       "      <td>143</td>\n",
       "      <td>0.745466</td>\n",
       "    </tr>\n",
       "    <tr>\n",
       "      <th>123</th>\n",
       "      <td>12</td>\n",
       "      <td>1</td>\n",
       "      <td>1</td>\n",
       "      <td>as part of the toyota environmental challenge 2050, launched in 2015, we set for ourselves the new vehicle zero co2 emissions challenge, under which we aim to reduce by 90% toyota’s global average new vehicle co2 emissions during operation by 2050, compared with the 2010 level</td>\n",
       "      <td>278</td>\n",
       "      <td>0.708894</td>\n",
       "    </tr>\n",
       "    <tr>\n",
       "      <th>402</th>\n",
       "      <td>32</td>\n",
       "      <td>2</td>\n",
       "      <td>4</td>\n",
       "      <td>in 2019, toyota became a signatory to the task force on climate-related financial disclosures (tcfd) recom-mendations</td>\n",
       "      <td>118</td>\n",
       "      <td>0.695665</td>\n",
       "    </tr>\n",
       "    <tr>\n",
       "      <th>143</th>\n",
       "      <td>12</td>\n",
       "      <td>2</td>\n",
       "      <td>7</td>\n",
       "      <td>the second trend entails regulations for zero emis-sion vehicles (zevs), which have come into effect in some parts of the united states and canada, and regulations for new energy vehicles (nevs) in china</td>\n",
       "      <td>205</td>\n",
       "      <td>0.695593</td>\n",
       "    </tr>\n",
       "    <tr>\n",
       "      <th>409</th>\n",
       "      <td>33</td>\n",
       "      <td>1</td>\n",
       "      <td>4</td>\n",
       "      <td>our objective is to achieve zero co2 emissions at our plants all over the world by 2050</td>\n",
       "      <td>88</td>\n",
       "      <td>0.693145</td>\n",
       "    </tr>\n",
       "    <tr>\n",
       "      <th>124</th>\n",
       "      <td>12</td>\n",
       "      <td>1</td>\n",
       "      <td>2</td>\n",
       "      <td>since launching the prius hybrid elec-tric vehicle (hev) in 1997, toyota has sold approxi-mately 14 million electrified vehicles around the world (as of july 2019), helping to cut co2 emissions by more than an estimated 113 million tons</td>\n",
       "      <td>237</td>\n",
       "      <td>0.679877</td>\n",
       "    </tr>\n",
       "    <tr>\n",
       "      <th>95</th>\n",
       "      <td>10</td>\n",
       "      <td>4</td>\n",
       "      <td>4</td>\n",
       "      <td>in light of these circumstances, toyota is working with a wide range of partners to contribute to commu-nities by utilizing fuel cell technologies, which emit no co2 or other air pollutants</td>\n",
       "      <td>191</td>\n",
       "      <td>0.668017</td>\n",
       "    </tr>\n",
       "  </tbody>\n",
       "</table>\n",
       "</div>"
      ],
      "text/plain": [
       "     page  section_order  sentence_order  \\\n",
       "430  33    24             3                \n",
       "267  25    1              7                \n",
       "427  33    24             0                \n",
       "140  12    2              4                \n",
       "123  12    1              1                \n",
       "402  32    2              4                \n",
       "143  12    2              7                \n",
       "409  33    1              4                \n",
       "124  12    1              2                \n",
       "95   10    4              4                \n",
       "\n",
       "                                                                                                                                                                                                                                                                                   sentence  \\\n",
       "430   the average co2 emissions (g-co2/km) of new vehicles in each year, based on fuel efficiency values   (co2 emissions) certified by the respective national authorities2020 target: 22%                                                                                                   \n",
       "267   the agree-ment set the long-term goal of limiting global warming to well below 2°c compared with pre-industrial levels and calls for reaching net zero anthropogenic emissions of co2 and other greenhouse gases during the second half of the 21st century                             \n",
       "427  global average co2 emissions from new vehicles reduction rate versus 2010 (japan, u                                                                                                                                                                                                      \n",
       "140   under this framework, which is increas-ingly being adopted by countries worldwide, the required level of cuts in co2 emissions rises each year                                                                                                                                          \n",
       "123   as part of the toyota environmental challenge 2050, launched in 2015, we set for ourselves the new vehicle zero co2 emissions challenge, under which we aim to reduce by 90% toyota’s global average new vehicle co2 emissions during operation by 2050, compared with the 2010 level   \n",
       "402   in 2019, toyota became a signatory to the task force on climate-related financial disclosures (tcfd) recom-mendations                                                                                                                                                                   \n",
       "143    the second trend entails regulations for zero emis-sion vehicles (zevs), which have come into effect in some parts of the united states and canada, and regulations for new energy vehicles (nevs) in china                                                                            \n",
       "409   our objective is to achieve zero co2 emissions at our plants all over the world by 2050                                                                                                                                                                                                 \n",
       "124   since launching the prius hybrid elec-tric vehicle (hev) in 1997, toyota has sold approxi-mately 14 million electrified vehicles around the world (as of july 2019), helping to cut co2 emissions by more than an estimated 113 million tons                                            \n",
       "95     in light of these circumstances, toyota is working with a wide range of partners to contribute to commu-nities by utilizing fuel cell technologies, which emit no co2 or other air pollutants                                                                                          \n",
       "\n",
       "     length  distance  \n",
       "430  182     0.807749  \n",
       "267  252     0.762833  \n",
       "427  83      0.747847  \n",
       "140  143     0.745466  \n",
       "123  278     0.708894  \n",
       "402  118     0.695665  \n",
       "143  205     0.695593  \n",
       "409  88      0.693145  \n",
       "124  237     0.679877  \n",
       "95   191     0.668017  "
      ]
     },
     "execution_count": 27,
     "metadata": {},
     "output_type": "execute_result"
    }
   ],
   "source": [
    "pd.set_option(\"display.max_colwidth\", -1)\n",
    "sentences.assign(distance=distance.flatten()).iloc[np.argsort(-distance).flatten()].head(10)"
   ]
  },
  {
   "cell_type": "markdown",
   "metadata": {},
   "source": [
    "そこそこ関連ある文章は取れているように思える。\"the agree-ment set the long-term\"等を見ると、\"Policy\"がトヨタのものなのか世界的なものなのか判別つかない問題が考えられる。"
   ]
  },
  {
   "cell_type": "code",
   "execution_count": null,
   "metadata": {},
   "outputs": [],
   "source": []
  }
 ],
 "metadata": {
  "kernelspec": {
   "display_name": "Python 3",
   "language": "python",
   "name": "python3"
  },
  "language_info": {
   "codemirror_mode": {
    "name": "ipython",
    "version": 3
   },
   "file_extension": ".py",
   "mimetype": "text/x-python",
   "name": "python",
   "nbconvert_exporter": "python",
   "pygments_lexer": "ipython3",
   "version": "3.7.4"
  }
 },
 "nbformat": 4,
 "nbformat_minor": 2
}
