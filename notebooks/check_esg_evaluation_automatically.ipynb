{
 "cells": [
  {
   "cell_type": "markdown",
   "metadata": {},
   "source": [
    "## Check ESG evaluation automatically\n",
    "\n",
    "ESG評価に使用しているチェックリストを、自動でチェックできるか検証する。\n",
    "\n",
    "1. Upload: PDFファイル(統合報告書)のアップロード・読み取り\n",
    "2. Preprocess: 読み込んだテキストを解析しやすいよう整形\n",
    "3. Retrieval: 関連個所の抽出\n",
    "4. Answering: チェックの実行\n",
    "\n",
    "結論\n",
    "\n",
    "* 評価項目に関連する箇所を抽出することは可能。\n",
    "  * 現時点では、キーワード検索のほうが優秀。\n",
    "  * 近年の自然言語処理技術(テキストをベクトルに変換して検索などを行う技術)では、あまり良好な精度が得られていない。\n",
    "* 「チェックする」は難しい。\n",
    "  * まず、条件設定が難しい(関連箇所がN件以上ならチェックする/しない、など)。\n",
    "\n",
    "キーワードでどの程度役に立つか、また学習データをある程度作成した場合自然言語処理技術が聞くかどうか、検証したい。\n",
    "\n",
    "### 0. Preparation\n",
    "\n",
    "プログラムの実行に必要なライブラリや設定の実行\n"
   ]
  },
  {
   "cell_type": "code",
   "execution_count": 1,
   "metadata": {},
   "outputs": [],
   "source": [
    "import os\n",
    "import sys\n",
    "import numpy as np\n",
    "import pandas as pd"
   ]
  },
  {
   "cell_type": "code",
   "execution_count": 2,
   "metadata": {},
   "outputs": [],
   "source": [
    "def set_root():\n",
    "    root = os.path.join(os.path.realpath(\".\"), \"../\")\n",
    "    if root not in sys.path:\n",
    "        sys.path.append(root)\n",
    "    return root\n",
    "\n",
    "ROOT_DIR = set_root()\n",
    "DATA_DIR = os.path.join(ROOT_DIR, \"data\")"
   ]
  },
  {
   "cell_type": "markdown",
   "metadata": {},
   "source": [
    "### 1. Upload\n",
    "\n",
    "(※実際システムになる時はPDFのUploadだが、現在はファイルを取ってくるのでDownload)\n",
    "ああ\n"
   ]
  },
  {
   "cell_type": "code",
   "execution_count": 3,
   "metadata": {},
   "outputs": [],
   "source": [
    "# トヨタの統合報告書\n",
    "url = \"https://global.toyota/pages/global_toyota/ir/library/annual/2019_001_annual_en.pdf\""
   ]
  },
  {
   "cell_type": "code",
   "execution_count": 4,
   "metadata": {},
   "outputs": [],
   "source": [
    "from chariot.storage import Storage\n",
    "from evaluator.data.pdf_reader import PDFReader"
   ]
  },
  {
   "cell_type": "code",
   "execution_count": 5,
   "metadata": {},
   "outputs": [
    {
     "data": {
      "application/vnd.jupyter.widget-view+json": {
       "model_id": "418c9c38cf2542469c2ec6996af53915",
       "version_major": 2,
       "version_minor": 0
      },
      "text/plain": [
       "HBox(children=(FloatProgress(value=0.0, max=11276.41015625), HTML(value='')))"
      ]
     },
     "metadata": {},
     "output_type": "display_data"
    },
    {
     "name": "stdout",
     "output_type": "stream",
     "text": [
      "\n"
     ]
    }
   ],
   "source": [
    "storage = Storage(DATA_DIR)\n",
    "\n",
    "file_name = os.path.basename(url)\n",
    "file_path = storage.download(url, f\"raw/{file_name}\")\n",
    "reader = PDFReader()\n",
    "df = reader.read_to_frame(file_path)"
   ]
  },
  {
   "cell_type": "markdown",
   "metadata": {},
   "source": [
    "PDF読み込み結果の表示\n",
    "\n",
    "* page: ページ番号\n",
    "* order: ページ内のセクション番号(登場順に上からカウント)\n"
   ]
  },
  {
   "cell_type": "code",
   "execution_count": 6,
   "metadata": {},
   "outputs": [
    {
     "data": {
      "text/html": [
       "<div>\n",
       "<style scoped>\n",
       "    .dataframe tbody tr th:only-of-type {\n",
       "        vertical-align: middle;\n",
       "    }\n",
       "\n",
       "    .dataframe tbody tr th {\n",
       "        vertical-align: top;\n",
       "    }\n",
       "\n",
       "    .dataframe thead th {\n",
       "        text-align: right;\n",
       "    }\n",
       "</style>\n",
       "<table border=\"1\" class=\"dataframe\">\n",
       "  <thead>\n",
       "    <tr style=\"text-align: right;\">\n",
       "      <th></th>\n",
       "      <th>page</th>\n",
       "      <th>order</th>\n",
       "      <th>content</th>\n",
       "    </tr>\n",
       "  </thead>\n",
       "  <tbody>\n",
       "    <tr>\n",
       "      <th>0</th>\n",
       "      <td>0</td>\n",
       "      <td>0</td>\n",
       "      <td>Page 1</td>\n",
       "    </tr>\n",
       "    <tr>\n",
       "      <th>1</th>\n",
       "      <td>0</td>\n",
       "      <td>1</td>\n",
       "      <td>Annual Report \\nAnnual Report 2019\\nFiscal yea...</td>\n",
       "    </tr>\n",
       "    <tr>\n",
       "      <th>2</th>\n",
       "      <td>1</td>\n",
       "      <td>0</td>\n",
       "      <td>Page 1</td>\n",
       "    </tr>\n",
       "    <tr>\n",
       "      <th>3</th>\n",
       "      <td>1</td>\n",
       "      <td>1</td>\n",
       "      <td>Table of Contents</td>\n",
       "    </tr>\n",
       "    <tr>\n",
       "      <th>4</th>\n",
       "      <td>1</td>\n",
       "      <td>2</td>\n",
       "      <td>1 \\nTable of Contents\\n2 \\nMessage from the Pr...</td>\n",
       "    </tr>\n",
       "  </tbody>\n",
       "</table>\n",
       "</div>"
      ],
      "text/plain": [
       "   page  order                                            content\n",
       "0     0      0                                             Page 1\n",
       "1     0      1  Annual Report \\nAnnual Report 2019\\nFiscal yea...\n",
       "2     1      0                                             Page 1\n",
       "3     1      1                                  Table of Contents\n",
       "4     1      2  1 \\nTable of Contents\\n2 \\nMessage from the Pr..."
      ]
     },
     "execution_count": 6,
     "metadata": {},
     "output_type": "execute_result"
    }
   ],
   "source": [
    "df.head(5)"
   ]
  },
  {
   "cell_type": "markdown",
   "metadata": {},
   "source": [
    "### 2. Preprocess\n",
    "\n",
    "PDF読み込み結果は様々なノイズを含んでいるので、処理しやすいよう前処理を行う。\n"
   ]
  },
  {
   "cell_type": "code",
   "execution_count": 7,
   "metadata": {},
   "outputs": [
    {
     "data": {
      "text/html": [
       "<div>\n",
       "<style scoped>\n",
       "    .dataframe tbody tr th:only-of-type {\n",
       "        vertical-align: middle;\n",
       "    }\n",
       "\n",
       "    .dataframe tbody tr th {\n",
       "        vertical-align: top;\n",
       "    }\n",
       "\n",
       "    .dataframe thead th {\n",
       "        text-align: right;\n",
       "    }\n",
       "</style>\n",
       "<table border=\"1\" class=\"dataframe\">\n",
       "  <thead>\n",
       "    <tr style=\"text-align: right;\">\n",
       "      <th></th>\n",
       "      <th>page</th>\n",
       "      <th>order</th>\n",
       "      <th>content</th>\n",
       "    </tr>\n",
       "  </thead>\n",
       "  <tbody>\n",
       "    <tr>\n",
       "      <th>0</th>\n",
       "      <td>0</td>\n",
       "      <td>0</td>\n",
       "      <td>page 1</td>\n",
       "    </tr>\n",
       "    <tr>\n",
       "      <th>1</th>\n",
       "      <td>0</td>\n",
       "      <td>1</td>\n",
       "      <td>annual report annual report 2019fiscal year en...</td>\n",
       "    </tr>\n",
       "    <tr>\n",
       "      <th>2</th>\n",
       "      <td>1</td>\n",
       "      <td>0</td>\n",
       "      <td>page 1</td>\n",
       "    </tr>\n",
       "    <tr>\n",
       "      <th>3</th>\n",
       "      <td>1</td>\n",
       "      <td>1</td>\n",
       "      <td>table of contents</td>\n",
       "    </tr>\n",
       "    <tr>\n",
       "      <th>4</th>\n",
       "      <td>1</td>\n",
       "      <td>2</td>\n",
       "      <td>1 table of contents2 message from the presiden...</td>\n",
       "    </tr>\n",
       "  </tbody>\n",
       "</table>\n",
       "</div>"
      ],
      "text/plain": [
       "   page  order                                            content\n",
       "0     0      0                                             page 1\n",
       "1     0      1  annual report annual report 2019fiscal year en...\n",
       "2     1      0                                             page 1\n",
       "3     1      1                                  table of contents\n",
       "4     1      2  1 table of contents2 message from the presiden..."
      ]
     },
     "execution_count": 7,
     "metadata": {},
     "output_type": "execute_result"
    }
   ],
   "source": [
    "preprocessed = reader.preprocess_frame(df)\n",
    "preprocessed.head(5)"
   ]
  },
  {
   "cell_type": "markdown",
   "metadata": {},
   "source": [
    "文を含んでいないセクションを除外"
   ]
  },
  {
   "cell_type": "code",
   "execution_count": 8,
   "metadata": {},
   "outputs": [],
   "source": [
    "import re\n",
    "\n",
    "\n",
    "has_sentence = re.compile(\"[A-Za-z](\\s)?\\.\")\n",
    "preprocessed = preprocessed[preprocessed[\"content\"].apply(lambda s: re.search(has_sentence, s) is not None)]"
   ]
  },
  {
   "cell_type": "code",
   "execution_count": 9,
   "metadata": {},
   "outputs": [
    {
     "name": "stdout",
     "output_type": "stream",
     "text": [
      "Rows are decreased from 747 to 189\n"
     ]
    }
   ],
   "source": [
    "print(f\"Rows are decreased from {len(df)} to {len(preprocessed)}\")"
   ]
  },
  {
   "cell_type": "code",
   "execution_count": 10,
   "metadata": {},
   "outputs": [
    {
     "data": {
      "text/html": [
       "<div>\n",
       "<style scoped>\n",
       "    .dataframe tbody tr th:only-of-type {\n",
       "        vertical-align: middle;\n",
       "    }\n",
       "\n",
       "    .dataframe tbody tr th {\n",
       "        vertical-align: top;\n",
       "    }\n",
       "\n",
       "    .dataframe thead th {\n",
       "        text-align: right;\n",
       "    }\n",
       "</style>\n",
       "<table border=\"1\" class=\"dataframe\">\n",
       "  <thead>\n",
       "    <tr style=\"text-align: right;\">\n",
       "      <th></th>\n",
       "      <th>page</th>\n",
       "      <th>order</th>\n",
       "      <th>content</th>\n",
       "    </tr>\n",
       "  </thead>\n",
       "  <tbody>\n",
       "    <tr>\n",
       "      <th>5</th>\n",
       "      <td>1</td>\n",
       "      <td>3</td>\n",
       "      <td>the annual report 2019 is intended to communic...</td>\n",
       "    </tr>\n",
       "    <tr>\n",
       "      <th>6</th>\n",
       "      <td>1</td>\n",
       "      <td>4</td>\n",
       "      <td>about the pdfthis file is an interactive pdf a...</td>\n",
       "    </tr>\n",
       "    <tr>\n",
       "      <th>10</th>\n",
       "      <td>1</td>\n",
       "      <td>8</td>\n",
       "      <td>icons found in each section link to related pa...</td>\n",
       "    </tr>\n",
       "    <tr>\n",
       "      <th>17</th>\n",
       "      <td>1</td>\n",
       "      <td>15</td>\n",
       "      <td>toyota’s reports and publications*  toyota als...</td>\n",
       "    </tr>\n",
       "    <tr>\n",
       "      <th>26</th>\n",
       "      <td>2</td>\n",
       "      <td>2</td>\n",
       "      <td>reforming our company to become a “mobility co...</td>\n",
       "    </tr>\n",
       "  </tbody>\n",
       "</table>\n",
       "</div>"
      ],
      "text/plain": [
       "    page  order                                            content\n",
       "5      1      3  the annual report 2019 is intended to communic...\n",
       "6      1      4  about the pdfthis file is an interactive pdf a...\n",
       "10     1      8  icons found in each section link to related pa...\n",
       "17     1     15  toyota’s reports and publications*  toyota als...\n",
       "26     2      2  reforming our company to become a “mobility co..."
      ]
     },
     "execution_count": 10,
     "metadata": {},
     "output_type": "execute_result"
    }
   ],
   "source": [
    "preprocessed.assign(length=preprocessed[\"content\"].apply(lambda s: len(s)))\n",
    "preprocessed.head(5)"
   ]
  },
  {
   "cell_type": "markdown",
   "metadata": {},
   "source": [
    "### 3. Retrieval\n",
    "\n",
    "評価項目に関係しているセクションを抽出する。  \n",
    "手法は様々あるが、単純に評価項目の質問に含まれているキーワードを含むセクションを抽出する。実際自分でやってみたところ、「CO2」などのキーワードでまず検索することが多かったので。\n"
   ]
  },
  {
   "cell_type": "code",
   "execution_count": 11,
   "metadata": {},
   "outputs": [],
   "source": [
    "question = \"Climate Change impact including CO2 / GHG emissions. Policy or commitment statement\"\n",
    "question = question.lower()\n",
    "language = \"en\""
   ]
  },
  {
   "cell_type": "code",
   "execution_count": 12,
   "metadata": {},
   "outputs": [],
   "source": [
    "from spacy.util import get_lang_class\n",
    "\n",
    "\n",
    "class Parser():\n",
    "\n",
    "    def __init__(self, lang):\n",
    "        self.lang = lang\n",
    "        self.parser = get_lang_class(self.lang)()\n",
    "    \n",
    "    def parse(self, text):\n",
    "        return self.parser(text)"
   ]
  },
  {
   "cell_type": "markdown",
   "metadata": {},
   "source": [
    "評価項目の質問から、キーワードを抽出"
   ]
  },
  {
   "cell_type": "code",
   "execution_count": 13,
   "metadata": {},
   "outputs": [
    {
     "data": {
      "text/plain": [
       "['climate',\n",
       " 'change',\n",
       " 'impact',\n",
       " 'including',\n",
       " 'co2',\n",
       " 'ghg',\n",
       " 'emissions',\n",
       " 'policy',\n",
       " 'commitment',\n",
       " 'statement']"
      ]
     },
     "execution_count": 13,
     "metadata": {},
     "output_type": "execute_result"
    }
   ],
   "source": [
    "parser = Parser(language)\n",
    "question_words = [t.lemma_ for t in parser.parse(question) if not t.is_stop and not re.match(\"\\'|\\.|\\?|\\/|\\,\", t.text)]\n",
    "question_words"
   ]
  },
  {
   "cell_type": "markdown",
   "metadata": {},
   "source": [
    "文書内の各セクションについて、キーワードが含まれる数を計算"
   ]
  },
  {
   "cell_type": "code",
   "execution_count": 14,
   "metadata": {},
   "outputs": [],
   "source": [
    "def count_keyword_match(parser, keywords, text):\n",
    "    tokens = parser.parse(text)\n",
    "    count = 0\n",
    "    _keywords = [k for k in keywords]\n",
    "    for t in tokens:\n",
    "        if t.lemma_ in _keywords:\n",
    "            count += 1\n",
    "    return count\n",
    "\n",
    "\n",
    "counted = preprocessed.assign(\n",
    "    keyword_match=preprocessed[\"content\"].apply(\n",
    "        lambda s: count_keyword_match(parser, question_words, s)))"
   ]
  },
  {
   "cell_type": "code",
   "execution_count": 15,
   "metadata": {},
   "outputs": [
    {
     "data": {
      "text/html": [
       "<div>\n",
       "<style scoped>\n",
       "    .dataframe tbody tr th:only-of-type {\n",
       "        vertical-align: middle;\n",
       "    }\n",
       "\n",
       "    .dataframe tbody tr th {\n",
       "        vertical-align: top;\n",
       "    }\n",
       "\n",
       "    .dataframe thead th {\n",
       "        text-align: right;\n",
       "    }\n",
       "</style>\n",
       "<table border=\"1\" class=\"dataframe\">\n",
       "  <thead>\n",
       "    <tr style=\"text-align: right;\">\n",
       "      <th></th>\n",
       "      <th>page</th>\n",
       "      <th>order</th>\n",
       "      <th>content</th>\n",
       "      <th>keyword_match</th>\n",
       "    </tr>\n",
       "  </thead>\n",
       "  <tbody>\n",
       "    <tr>\n",
       "      <th>157</th>\n",
       "      <td>12</td>\n",
       "      <td>2</td>\n",
       "      <td>regulations are being tightened,  along with n...</td>\n",
       "      <td>11</td>\n",
       "    </tr>\n",
       "    <tr>\n",
       "      <th>486</th>\n",
       "      <td>33</td>\n",
       "      <td>24</td>\n",
       "      <td>global average co2 emissions from new vehicles...</td>\n",
       "      <td>7</td>\n",
       "    </tr>\n",
       "    <tr>\n",
       "      <th>156</th>\n",
       "      <td>12</td>\n",
       "      <td>1</td>\n",
       "      <td>speeding the popularization of electrified veh...</td>\n",
       "      <td>7</td>\n",
       "    </tr>\n",
       "    <tr>\n",
       "      <th>741</th>\n",
       "      <td>47</td>\n",
       "      <td>1</td>\n",
       "      <td>this report contains forward-looking statement...</td>\n",
       "      <td>6</td>\n",
       "    </tr>\n",
       "    <tr>\n",
       "      <th>463</th>\n",
       "      <td>33</td>\n",
       "      <td>1</td>\n",
       "      <td>one means of decarbonization regarded as holdi...</td>\n",
       "      <td>5</td>\n",
       "    </tr>\n",
       "  </tbody>\n",
       "</table>\n",
       "</div>"
      ],
      "text/plain": [
       "     page  order                                            content  \\\n",
       "157    12      2  regulations are being tightened,  along with n...   \n",
       "486    33     24  global average co2 emissions from new vehicles...   \n",
       "156    12      1  speeding the popularization of electrified veh...   \n",
       "741    47      1  this report contains forward-looking statement...   \n",
       "463    33      1  one means of decarbonization regarded as holdi...   \n",
       "\n",
       "     keyword_match  \n",
       "157             11  \n",
       "486              7  \n",
       "156              7  \n",
       "741              6  \n",
       "463              5  "
      ]
     },
     "execution_count": 15,
     "metadata": {},
     "output_type": "execute_result"
    }
   ],
   "source": [
    "matched = counted[counted[\"keyword_match\"] > 0]\n",
    "matched.sort_values(by=[\"keyword_match\"], ascending=False).head(5)"
   ]
  },
  {
   "cell_type": "markdown",
   "metadata": {},
   "source": [
    "当然ながら、検索でかかるようなセクションは取れている。"
   ]
  },
  {
   "cell_type": "markdown",
   "metadata": {},
   "source": [
    "### 4.Answering\n",
    "\n",
    "#### 4.1 Use Question Answering Model\n",
    "\n",
    "キーワード検索から絞り込んだ結果から、具体的な回答関連箇所を抽出する。抜粋に成功したらチェック?とできるか。  \n",
    "(=>実際のチェック結果が現在手に入らないので、結果の確認はできない)\n",
    "\n",
    "回答箇所の抽出には、自然言語処理の質問回答の手法を使用。Wikipediaをベースにした質問回答のデータセット(SQuADと呼ばれる)を学習させれば、一応[人間より精度は高くなる](https://rajpurkar.github.io/SQuAD-explorer/)。ただESGの質問回答データセットはないので、SQuADで学習したモデルをESGにそのまま適用してみる。\n",
    "\n",
    "実際人間がチェックすると以下の箇所になる\n",
    "![image](./images/answer.PNG)"
   ]
  },
  {
   "cell_type": "code",
   "execution_count": 16,
   "metadata": {},
   "outputs": [],
   "source": [
    "from evaluator.models.question_answer import answer"
   ]
  },
  {
   "cell_type": "code",
   "execution_count": 17,
   "metadata": {},
   "outputs": [],
   "source": [
    "# Climate Change impact including CO2 / GHG emissions. Policy or commitment statement\n",
    "asking = \"What policy or commitment does company have for climate change impact including CO2 / GHG emissions ?\""
   ]
  },
  {
   "cell_type": "markdown",
   "metadata": {},
   "source": [
    "回答箇所抜粋"
   ]
  },
  {
   "cell_type": "code",
   "execution_count": 18,
   "metadata": {},
   "outputs": [
    {
     "name": "stdout",
     "output_type": "stream",
     "text": [
      "Loading pretrained model...\n",
      "Prepair the tokenizer...\n"
     ]
    },
    {
     "name": "stderr",
     "output_type": "stream",
     "text": [
      "  0%|                                                                                           | 0/53 [00:00<?, ?it/s]\n",
      "Converting examples to features: 100%|██████████████████████████████████████████████████| 1/1 [00:00<00:00, 199.97it/s]\u001b[A"
     ]
    },
    {
     "name": "stdout",
     "output_type": "stream",
     "text": [
      "Set the pipeline.\n",
      "Answer start.\n"
     ]
    },
    {
     "name": "stderr",
     "output_type": "stream",
     "text": [
      "\n",
      "  2%|█▌                                                                                 | 1/53 [00:00<00:21,  2.42it/s]\n",
      "Converting examples to features: 100%|███████████████████████████████████████████████████| 1/1 [00:00<00:00, 45.46it/s]\u001b[A\n",
      "  4%|███▏                                                                               | 2/53 [00:01<00:27,  1.83it/s]\n",
      "Converting examples to features: 100%|██████████████████████████████████████████████████| 1/1 [00:00<00:00, 142.94it/s]\u001b[A\n",
      "  6%|████▋                                                                              | 3/53 [00:01<00:25,  1.93it/s]\n",
      "Converting examples to features: 100%|██████████████████████████████████████████████████| 1/1 [00:00<00:00, 142.89it/s]\u001b[A\n",
      "  8%|██████▎                                                                            | 4/53 [00:02<00:23,  2.04it/s]\n",
      "Converting examples to features: 100%|███████████████████████████████████████████████████| 1/1 [00:00<00:00, 58.83it/s]\u001b[A\n",
      "  9%|███████▊                                                                           | 5/53 [00:02<00:23,  2.07it/s]\n",
      "Converting examples to features: 100%|███████████████████████████████████████████████████| 1/1 [00:00<00:00, 58.84it/s]\u001b[A\n",
      " 11%|█████████▍                                                                         | 6/53 [00:03<00:22,  2.12it/s]\n",
      "Converting examples to features: 100%|███████████████████████████████████████████████████| 1/1 [00:00<00:00, 37.03it/s]\u001b[A\n",
      " 13%|██████████▉                                                                        | 7/53 [00:03<00:21,  2.12it/s]\n",
      "Converting examples to features: 100%|███████████████████████████████████████████████████| 1/1 [00:00<00:00, 76.90it/s]\u001b[A\n",
      " 15%|████████████▌                                                                      | 8/53 [00:03<00:20,  2.20it/s]\n",
      "Converting examples to features: 100%|███████████████████████████████████████████████████| 1/1 [00:00<00:00, 16.39it/s]\u001b[A\n",
      " 17%|██████████████                                                                     | 9/53 [00:05<00:37,  1.19it/s]\n",
      "Converting examples to features: 100%|███████████████████████████████████████████████████| 1/1 [00:00<00:00, 25.00it/s]\u001b[A\n",
      " 19%|███████████████▍                                                                  | 10/53 [00:07<00:45,  1.05s/it]\n",
      "Converting examples to features: 100%|███████████████████████████████████████████████████| 1/1 [00:00<00:00, 17.86it/s]\u001b[A\n",
      " 21%|█████████████████                                                                 | 11/53 [00:07<00:38,  1.09it/s]\n",
      "Converting examples to features: 100%|███████████████████████████████████████████████████| 1/1 [00:00<00:00, 37.04it/s]\u001b[A\n",
      " 23%|██████████████████▌                                                               | 12/53 [00:08<00:38,  1.06it/s]\n",
      "Converting examples to features: 100%|███████████████████████████████████████████████████| 1/1 [00:00<00:00, 30.30it/s]\u001b[A\n",
      " 25%|████████████████████                                                              | 13/53 [00:09<00:38,  1.03it/s]\n",
      "Converting examples to features: 100%|███████████████████████████████████████████████████| 1/1 [00:00<00:00, 41.67it/s]\u001b[A\n",
      " 26%|█████████████████████▋                                                            | 14/53 [00:10<00:33,  1.17it/s]\n",
      "Converting examples to features: 100%|███████████████████████████████████████████████████| 1/1 [00:00<00:00, 62.51it/s]\u001b[A\n",
      " 28%|███████████████████████▏                                                          | 15/53 [00:11<00:30,  1.25it/s]\n",
      "Converting examples to features: 100%|███████████████████████████████████████████████████| 1/1 [00:00<00:00, 40.00it/s]\u001b[A\n",
      " 30%|████████████████████████▊                                                         | 16/53 [00:11<00:25,  1.43it/s]\n",
      "Converting examples to features: 100%|███████████████████████████████████████████████████| 1/1 [00:00<00:00, 50.00it/s]\u001b[A\n",
      " 32%|██████████████████████████▎                                                       | 17/53 [00:12<00:27,  1.33it/s]\n",
      "Converting examples to features: 100%|███████████████████████████████████████████████████| 1/1 [00:00<00:00, 20.16it/s]\u001b[A\n",
      " 34%|███████████████████████████▊                                                      | 18/53 [00:13<00:28,  1.23it/s]\n",
      "Converting examples to features: 100%|███████████████████████████████████████████████████| 1/1 [00:00<00:00, 83.35it/s]\u001b[A\n",
      " 36%|█████████████████████████████▍                                                    | 19/53 [00:13<00:23,  1.44it/s]\n",
      "Converting examples to features: 100%|███████████████████████████████████████████████████| 1/1 [00:00<00:00, 83.35it/s]\u001b[A\n",
      " 38%|██████████████████████████████▉                                                   | 20/53 [00:14<00:20,  1.60it/s]\n",
      "Converting examples to features: 100%|███████████████████████████████████████████████████| 1/1 [00:00<00:00, 99.97it/s]\u001b[A\n",
      " 40%|████████████████████████████████▍                                                 | 21/53 [00:14<00:18,  1.75it/s]\n",
      "Converting examples to features: 100%|███████████████████████████████████████████████████| 1/1 [00:00<00:00, 66.67it/s]\u001b[A\n",
      " 42%|██████████████████████████████████                                                | 22/53 [00:15<00:16,  1.88it/s]\n",
      "Converting examples to features: 100%|███████████████████████████████████████████████████| 1/1 [00:00<00:00, 47.62it/s]\u001b[A\n",
      " 43%|███████████████████████████████████▌                                              | 23/53 [00:16<00:18,  1.60it/s]\n",
      "Converting examples to features: 100%|███████████████████████████████████████████████████| 1/1 [00:00<00:00, 76.90it/s]\u001b[A\n",
      " 45%|█████████████████████████████████████▏                                            | 24/53 [00:16<00:16,  1.75it/s]\n",
      "Converting examples to features: 100%|███████████████████████████████████████████████████| 1/1 [00:00<00:00, 52.63it/s]\u001b[A\n",
      " 47%|██████████████████████████████████████▋                                           | 25/53 [00:16<00:15,  1.85it/s]\n",
      "Converting examples to features: 100%|███████████████████████████████████████████████████| 1/1 [00:00<00:00, 55.56it/s]\u001b[A\n",
      " 49%|████████████████████████████████████████▏                                         | 26/53 [00:17<00:13,  1.96it/s]\n",
      "Converting examples to features: 100%|███████████████████████████████████████████████████| 1/1 [00:00<00:00, 66.67it/s]\u001b[A\n",
      " 51%|█████████████████████████████████████████▊                                        | 27/53 [00:17<00:12,  2.11it/s]\n",
      "Converting examples to features: 100%|██████████████████████████████████████████████████| 1/1 [00:00<00:00, 111.12it/s]\u001b[A\n",
      " 53%|███████████████████████████████████████████▎                                      | 28/53 [00:18<00:11,  2.13it/s]\n",
      "Converting examples to features: 100%|███████████████████████████████████████████████████| 1/1 [00:00<00:00, 35.71it/s]\u001b[A\n",
      " 55%|████████████████████████████████████████████▊                                     | 29/53 [00:18<00:11,  2.14it/s]\n",
      "Converting examples to features: 100%|███████████████████████████████████████████████████| 1/1 [00:00<00:00, 90.58it/s]\u001b[A\n",
      " 57%|██████████████████████████████████████████████▍                                   | 30/53 [00:19<00:10,  2.20it/s]\n",
      "Converting examples to features: 100%|███████████████████████████████████████████████████| 1/1 [00:00<00:00, 20.40it/s]\u001b[A\n",
      " 58%|███████████████████████████████████████████████▉                                  | 31/53 [00:21<00:20,  1.10it/s]\n",
      "Converting examples to features: 100%|███████████████████████████████████████████████████| 1/1 [00:00<00:00, 17.24it/s]\u001b[A\n",
      " 60%|█████████████████████████████████████████████████▌                                | 32/53 [00:22<00:25,  1.21s/it]\n",
      "Converting examples to features: 100%|███████████████████████████████████████████████████| 1/1 [00:00<00:00, 55.57it/s]\u001b[A\n",
      " 62%|███████████████████████████████████████████████████                               | 33/53 [00:23<00:19,  1.02it/s]\n",
      "Converting examples to features: 100%|███████████████████████████████████████████████████| 1/1 [00:00<00:00, 71.43it/s]\u001b[A\n",
      " 64%|████████████████████████████████████████████████████▌                             | 34/53 [00:23<00:15,  1.22it/s]\n"
     ]
    },
    {
     "name": "stderr",
     "output_type": "stream",
     "text": [
      "Converting examples to features: 100%|██████████████████████████████████████████████████| 1/1 [00:00<00:00, 111.12it/s]\u001b[A\n",
      " 66%|██████████████████████████████████████████████████████▏                           | 35/53 [00:24<00:12,  1.43it/s]\n",
      "Converting examples to features: 100%|██████████████████████████████████████████████████| 1/1 [00:00<00:00, 142.86it/s]\u001b[A\n",
      " 68%|███████████████████████████████████████████████████████▋                          | 36/53 [00:24<00:10,  1.64it/s]\n",
      "Converting examples to features: 100%|███████████████████████████████████████████████████| 1/1 [00:00<00:00, 50.00it/s]\u001b[A\n",
      " 70%|█████████████████████████████████████████████████████████▏                        | 37/53 [00:25<00:08,  1.79it/s]\n",
      "Converting examples to features: 100%|███████████████████████████████████████████████████| 1/1 [00:00<00:00, 35.68it/s]\u001b[A\n",
      " 72%|██████████████████████████████████████████████████████████▊                       | 38/53 [00:26<00:09,  1.52it/s]\n",
      "Converting examples to features: 100%|███████████████████████████████████████████████████| 1/1 [00:00<00:00, 62.51it/s]\u001b[A\n",
      " 74%|████████████████████████████████████████████████████████████▎                     | 39/53 [00:26<00:08,  1.70it/s]\n",
      "Converting examples to features: 100%|██████████████████████████████████████████████████| 1/1 [00:00<00:00, 111.13it/s]\u001b[A\n",
      " 75%|█████████████████████████████████████████████████████████████▉                    | 40/53 [00:26<00:07,  1.85it/s]\n",
      "Converting examples to features: 100%|███████████████████████████████████████████████████| 1/1 [00:00<00:00, 76.97it/s]\u001b[A\n",
      " 77%|███████████████████████████████████████████████████████████████▍                  | 41/53 [00:27<00:06,  1.98it/s]\n",
      "Converting examples to features: 100%|███████████████████████████████████████████████████| 1/1 [00:00<00:00, 27.03it/s]\u001b[A\n",
      " 79%|████████████████████████████████████████████████████████████████▉                 | 42/53 [00:28<00:07,  1.41it/s]\n",
      "Converting examples to features: 100%|██████████████████████████████████████████████████| 1/1 [00:00<00:00, 125.03it/s]\u001b[A\n",
      " 81%|██████████████████████████████████████████████████████████████████▌               | 43/53 [00:28<00:06,  1.60it/s]\n",
      "Converting examples to features: 100%|██████████████████████████████████████████████████| 1/1 [00:00<00:00, 166.69it/s]\u001b[A\n",
      " 83%|████████████████████████████████████████████████████████████████████              | 44/53 [00:29<00:05,  1.77it/s]\n",
      "Converting examples to features: 100%|███████████████████████████████████████████████████| 1/1 [00:00<00:00, 76.93it/s]\u001b[A\n",
      " 85%|█████████████████████████████████████████████████████████████████████▌            | 45/53 [00:29<00:04,  1.89it/s]\n",
      "Converting examples to features: 100%|███████████████████████████████████████████████████| 1/1 [00:00<00:00, 27.03it/s]\u001b[A\n",
      " 87%|███████████████████████████████████████████████████████████████████████▏          | 46/53 [00:31<00:05,  1.21it/s]\n",
      "Converting examples to features: 100%|███████████████████████████████████████████████████| 1/1 [00:00<00:00, 41.66it/s]\u001b[A\n",
      " 89%|████████████████████████████████████████████████████████████████████████▋         | 47/53 [00:31<00:04,  1.40it/s]\n",
      "Converting examples to features: 100%|██████████████████████████████████████████████████| 1/1 [00:00<00:00, 166.78it/s]\u001b[A\n",
      " 91%|██████████████████████████████████████████████████████████████████████████▎       | 48/53 [00:32<00:03,  1.61it/s]\n",
      "Converting examples to features: 100%|███████████████████████████████████████████████████| 1/1 [00:00<00:00, 27.78it/s]\u001b[A\n",
      " 92%|███████████████████████████████████████████████████████████████████████████▊      | 49/53 [00:33<00:03,  1.24it/s]\n",
      "Converting examples to features: 100%|███████████████████████████████████████████████████| 1/1 [00:00<00:00, 58.84it/s]\u001b[A\n",
      " 94%|█████████████████████████████████████████████████████████████████████████████▎    | 50/53 [00:33<00:02,  1.43it/s]\n",
      "Converting examples to features: 100%|███████████████████████████████████████████████████| 1/1 [00:00<00:00, 40.01it/s]\u001b[A\n",
      " 96%|██████████████████████████████████████████████████████████████████████████████▉   | 51/53 [00:35<00:01,  1.18it/s]\n",
      "Converting examples to features: 100%|██████████████████████████████████████████████████| 1/1 [00:00<00:00, 199.90it/s]\u001b[A\n",
      " 98%|████████████████████████████████████████████████████████████████████████████████▍ | 52/53 [00:35<00:00,  1.38it/s]\n",
      "Converting examples to features: 100%|███████████████████████████████████████████████████| 1/1 [00:00<00:00, 35.72it/s]\u001b[A\n",
      "100%|██████████████████████████████████████████████████████████████████████████████████| 53/53 [00:36<00:00,  1.44it/s]\n"
     ]
    }
   ],
   "source": [
    "question_context = matched[\"content\"].apply(lambda s: (asking.lower(), s)).tolist()\n",
    "answers = answer(\"distilbert-base-uncased-distilled-squad\", question_context)"
   ]
  },
  {
   "cell_type": "code",
   "execution_count": 19,
   "metadata": {},
   "outputs": [
    {
     "data": {
      "text/html": [
       "<div>\n",
       "<style scoped>\n",
       "    .dataframe tbody tr th:only-of-type {\n",
       "        vertical-align: middle;\n",
       "    }\n",
       "\n",
       "    .dataframe tbody tr th {\n",
       "        vertical-align: top;\n",
       "    }\n",
       "\n",
       "    .dataframe thead th {\n",
       "        text-align: right;\n",
       "    }\n",
       "</style>\n",
       "<table border=\"1\" class=\"dataframe\">\n",
       "  <thead>\n",
       "    <tr style=\"text-align: right;\">\n",
       "      <th></th>\n",
       "      <th>score</th>\n",
       "      <th>start</th>\n",
       "      <th>end</th>\n",
       "      <th>answer</th>\n",
       "    </tr>\n",
       "  </thead>\n",
       "  <tbody>\n",
       "    <tr>\n",
       "      <th>0</th>\n",
       "      <td>0.623756</td>\n",
       "      <td>275</td>\n",
       "      <td>286</td>\n",
       "      <td>situa-tion,</td>\n",
       "    </tr>\n",
       "    <tr>\n",
       "      <th>1</th>\n",
       "      <td>0.352997</td>\n",
       "      <td>1036</td>\n",
       "      <td>1061</td>\n",
       "      <td>corporate culture reform,</td>\n",
       "    </tr>\n",
       "    <tr>\n",
       "      <th>2</th>\n",
       "      <td>0.369260</td>\n",
       "      <td>208</td>\n",
       "      <td>239</td>\n",
       "      <td>cfo capital policytechnological</td>\n",
       "    </tr>\n",
       "    <tr>\n",
       "      <th>3</th>\n",
       "      <td>0.056642</td>\n",
       "      <td>234</td>\n",
       "      <td>303</td>\n",
       "      <td>continue to hone our competitiveness in the re...</td>\n",
       "    </tr>\n",
       "    <tr>\n",
       "      <th>4</th>\n",
       "      <td>0.039247</td>\n",
       "      <td>388</td>\n",
       "      <td>418</td>\n",
       "      <td>toyota new global architecture</td>\n",
       "    </tr>\n",
       "  </tbody>\n",
       "</table>\n",
       "</div>"
      ],
      "text/plain": [
       "      score  start   end                                             answer\n",
       "0  0.623756    275   286                                        situa-tion,\n",
       "1  0.352997   1036  1061                          corporate culture reform,\n",
       "2  0.369260    208   239                    cfo capital policytechnological\n",
       "3  0.056642    234   303  continue to hone our competitiveness in the re...\n",
       "4  0.039247    388   418                     toyota new global architecture"
      ]
     },
     "execution_count": 19,
     "metadata": {},
     "output_type": "execute_result"
    }
   ],
   "source": [
    "pd.DataFrame(answers).head(5)"
   ]
  },
  {
   "cell_type": "markdown",
   "metadata": {},
   "source": [
    "answerは抽出できているが、意味が通らないものが多い。  \n",
    "手法のせいなのか、学習データがあればうまく動くのかは、現時点ではわからない(質問と回答のペアを作る必要がある)。\n",
    "\n",
    "#### 4.2 Use Feature Representation\n",
    "\n",
    "直接質問回答ではなく、評価の質問に近い文を抽出してみる(あればチェック、なければチェックしない)。  \n",
    "先ほどのキーワードでの抽出と変えて、もう少し文の意味を考慮できる手法を使用する。具体的には、Googleの検索で最近採用された手法を使用する。\n",
    "\n",
    "* [BERT](https://www.blog.google/products/search/search-language-understanding-bert/)\n",
    "\n",
    "まずは、セクションを文に分割する。"
   ]
  },
  {
   "cell_type": "code",
   "execution_count": 20,
   "metadata": {},
   "outputs": [
    {
     "data": {
      "text/html": [
       "<div>\n",
       "<style scoped>\n",
       "    .dataframe tbody tr th:only-of-type {\n",
       "        vertical-align: middle;\n",
       "    }\n",
       "\n",
       "    .dataframe tbody tr th {\n",
       "        vertical-align: top;\n",
       "    }\n",
       "\n",
       "    .dataframe thead th {\n",
       "        text-align: right;\n",
       "    }\n",
       "</style>\n",
       "<table border=\"1\" class=\"dataframe\">\n",
       "  <thead>\n",
       "    <tr style=\"text-align: right;\">\n",
       "      <th></th>\n",
       "      <th>page</th>\n",
       "      <th>section_order</th>\n",
       "      <th>sentence_order</th>\n",
       "      <th>sentence</th>\n",
       "      <th>length</th>\n",
       "    </tr>\n",
       "  </thead>\n",
       "  <tbody>\n",
       "    <tr>\n",
       "      <th>0</th>\n",
       "      <td>2</td>\n",
       "      <td>2</td>\n",
       "      <td>0</td>\n",
       "      <td>reforming our company to become a “mobility co...</td>\n",
       "      <td>143</td>\n",
       "    </tr>\n",
       "    <tr>\n",
       "      <th>1</th>\n",
       "      <td>2</td>\n",
       "      <td>2</td>\n",
       "      <td>1</td>\n",
       "      <td>in light of technolog-ical innovations in “ca...</td>\n",
       "      <td>118</td>\n",
       "    </tr>\n",
       "    <tr>\n",
       "      <th>2</th>\n",
       "      <td>2</td>\n",
       "      <td>2</td>\n",
       "      <td>2</td>\n",
       "      <td>given this situa-tion, we must transform our ...</td>\n",
       "      <td>103</td>\n",
       "    </tr>\n",
       "    <tr>\n",
       "      <th>3</th>\n",
       "      <td>2</td>\n",
       "      <td>2</td>\n",
       "      <td>3</td>\n",
       "      <td></td>\n",
       "      <td>0</td>\n",
       "    </tr>\n",
       "    <tr>\n",
       "      <th>4</th>\n",
       "      <td>4</td>\n",
       "      <td>2</td>\n",
       "      <td>0</td>\n",
       "      <td>unwavering commitment to the development of ou...</td>\n",
       "      <td>130</td>\n",
       "    </tr>\n",
       "  </tbody>\n",
       "</table>\n",
       "</div>"
      ],
      "text/plain": [
       "   page  section_order  sentence_order  \\\n",
       "0     2              2               0   \n",
       "1     2              2               1   \n",
       "2     2              2               2   \n",
       "3     2              2               3   \n",
       "4     4              2               0   \n",
       "\n",
       "                                            sentence  length  \n",
       "0  reforming our company to become a “mobility co...     143  \n",
       "1   in light of technolog-ical innovations in “ca...     118  \n",
       "2   given this situa-tion, we must transform our ...     103  \n",
       "3                                                          0  \n",
       "4  unwavering commitment to the development of ou...     130  "
      ]
     },
     "execution_count": 20,
     "metadata": {},
     "output_type": "execute_result"
    }
   ],
   "source": [
    "sentences = []\n",
    "for i, row in matched.iterrows():\n",
    "    c = row[\"content\"]\n",
    "    for j, s in enumerate(c.split(\".\")):\n",
    "        sentences.append({\n",
    "            \"page\": row[\"page\"],\n",
    "            \"section_order\": row[\"order\"],\n",
    "            \"sentence_order\": j,\n",
    "            \"sentence\": s,\n",
    "            \"length\": len(s)\n",
    "        })\n",
    "\n",
    "sentences = pd.DataFrame(sentences)\n",
    "sentences.head(5)"
   ]
  },
  {
   "cell_type": "markdown",
   "metadata": {},
   "source": [
    "文をベクトル表現(BERT表現)に変換する。"
   ]
  },
  {
   "cell_type": "code",
   "execution_count": 21,
   "metadata": {},
   "outputs": [],
   "source": [
    "from evaluator.features.encoder import encode"
   ]
  },
  {
   "cell_type": "code",
   "execution_count": 22,
   "metadata": {},
   "outputs": [],
   "source": [
    "model_name = \"bert-base-uncased\""
   ]
  },
  {
   "cell_type": "code",
   "execution_count": 23,
   "metadata": {},
   "outputs": [
    {
     "name": "stdout",
     "output_type": "stream",
     "text": [
      "Loading pretrained model...\n",
      "Prepair the tokenizer...\n"
     ]
    },
    {
     "name": "stderr",
     "output_type": "stream",
     "text": [
      "  3%|██▊                                                                                | 2/60 [00:00<00:04, 13.61it/s]"
     ]
    },
    {
     "name": "stdout",
     "output_type": "stream",
     "text": [
      "Set the pipeline.\n",
      "Inference start.\n"
     ]
    },
    {
     "name": "stderr",
     "output_type": "stream",
     "text": [
      "100%|██████████████████████████████████████████████████████████████████████████████████| 60/60 [01:37<00:00,  1.62s/it]\n"
     ]
    }
   ],
   "source": [
    "embeddings = encode(model_name, sentences[\"sentence\"].values.tolist())"
   ]
  },
  {
   "cell_type": "code",
   "execution_count": 24,
   "metadata": {},
   "outputs": [
    {
     "data": {
      "text/plain": [
       "(599, 768)"
      ]
     },
     "execution_count": 24,
     "metadata": {},
     "output_type": "execute_result"
    }
   ],
   "source": [
    "embeddings.shape"
   ]
  },
  {
   "cell_type": "markdown",
   "metadata": {},
   "source": [
    "評価項目の質問と、文書中の文とで、ベクトル表現が近いものを抽出する。"
   ]
  },
  {
   "cell_type": "code",
   "execution_count": 25,
   "metadata": {},
   "outputs": [
    {
     "name": "stdout",
     "output_type": "stream",
     "text": [
      "Loading pretrained model...\n",
      "Prepair the tokenizer...\n",
      "Set the pipeline.\n",
      "Inference start.\n"
     ]
    }
   ],
   "source": [
    "query = encode(model_name, \"Climate Change impact including CO2 / GHG emissions. Policy or commitment statement\".lower())\n",
    "query = np.reshape(query, (1, -1))"
   ]
  },
  {
   "cell_type": "code",
   "execution_count": 26,
   "metadata": {},
   "outputs": [
    {
     "data": {
      "text/plain": [
       "array([-0.79577988, -0.77521259, -0.76369322, -0.75728184, -0.75303959,\n",
       "       -0.75146863, -0.74910982, -0.74798706, -0.74662738, -0.74573172])"
      ]
     },
     "execution_count": 26,
     "metadata": {},
     "output_type": "execute_result"
    }
   ],
   "source": [
    "from sklearn.metrics.pairwise import cosine_similarity\n",
    "\n",
    "\n",
    "distance = cosine_similarity(query, embeddings)\n",
    "np.sort(-distance).flatten()[:10]"
   ]
  },
  {
   "cell_type": "markdown",
   "metadata": {},
   "source": [
    "質問に近い文トップ10を表示"
   ]
  },
  {
   "cell_type": "code",
   "execution_count": 27,
   "metadata": {},
   "outputs": [
    {
     "data": {
      "text/html": [
       "<div>\n",
       "<style scoped>\n",
       "    .dataframe tbody tr th:only-of-type {\n",
       "        vertical-align: middle;\n",
       "    }\n",
       "\n",
       "    .dataframe tbody tr th {\n",
       "        vertical-align: top;\n",
       "    }\n",
       "\n",
       "    .dataframe thead th {\n",
       "        text-align: right;\n",
       "    }\n",
       "</style>\n",
       "<table border=\"1\" class=\"dataframe\">\n",
       "  <thead>\n",
       "    <tr style=\"text-align: right;\">\n",
       "      <th></th>\n",
       "      <th>page</th>\n",
       "      <th>section_order</th>\n",
       "      <th>sentence_order</th>\n",
       "      <th>sentence</th>\n",
       "      <th>length</th>\n",
       "      <th>distance</th>\n",
       "    </tr>\n",
       "  </thead>\n",
       "  <tbody>\n",
       "    <tr>\n",
       "      <th>419</th>\n",
       "      <td>33</td>\n",
       "      <td>24</td>\n",
       "      <td>2</td>\n",
       "      <td>, europe, china)(%)• the average co2 emissions (g-co2/km) of new vehicles in each year, based on fuel efficiency values   (co2 emissions) certified by the respective national authorities2020 target: 22%</td>\n",
       "      <td>202</td>\n",
       "      <td>0.795780</td>\n",
       "    </tr>\n",
       "    <tr>\n",
       "      <th>49</th>\n",
       "      <td>8</td>\n",
       "      <td>9</td>\n",
       "      <td>5</td>\n",
       "      <td>in addition to global changes, such as the shift from sedans to suvs, region-specific customer preferenc-es are in constant flux</td>\n",
       "      <td>129</td>\n",
       "      <td>0.775213</td>\n",
       "    </tr>\n",
       "    <tr>\n",
       "      <th>596</th>\n",
       "      <td>47</td>\n",
       "      <td>1</td>\n",
       "      <td>4</td>\n",
       "      <td>dollar, the euro, the australian dollar, the russian ruble, the canadian dollar and the british pound, and interest rates fluctuations; (iii) changes in funding environment in financial markets and increased competition in the financial services industry; (iv) toyota’s ability to market and distribute effectively; (v) toyota’s ability to realize production efficiencies and to implement capital expenditures at the levels and times planned by management; (vi) changes in the laws, regulations and government policies in the markets in which toyota operates that affect toyota’s automotive operations, par-ticularly laws, regulations and government policies relating to vehicle safety including remedial measures such as recalls, trade, environmental protection, vehicle emissions and vehicle fuel economy, as well as changes in laws, regulations and government policies that affect toyota’s other operations, including the outcome of current and future litigation and other legal proceed-ings, government proceedings and investigations; (vii) political and economic instability in the markets in which toyota operates; (viii) toyota’s ability to timely develop and achieve market acceptance of new products that meet customer demand; (ix) any damage to toyota’s brand image; (x) toyota’s reliance on various suppliers for the provision of supplies; (xi) increases in  prices of raw materials; (xii) toyota’s reliance on various digital and information technologies;  (xiii) fuel shortages or interruptions in electricity, transportation systems, labor strikes, work stop-pages or other interruptions to, or difficulties in, the employment of labor in the major markets where toyota purchases materials, components and supplies for the production of its products or where its products are produced, distributed or sold; and (xiv) the impact of natural calamities including the negative effect on toyota’s vehicle production and sales</td>\n",
       "      <td>1935</td>\n",
       "      <td>0.763693</td>\n",
       "    </tr>\n",
       "    <tr>\n",
       "      <th>336</th>\n",
       "      <td>30</td>\n",
       "      <td>6</td>\n",
       "      <td>0</td>\n",
       "      <td>board of directors and audit &amp; supervisory board members (as of october 1, 2019)apr</td>\n",
       "      <td>83</td>\n",
       "      <td>0.757282</td>\n",
       "    </tr>\n",
       "    <tr>\n",
       "      <th>126</th>\n",
       "      <td>12</td>\n",
       "      <td>1</td>\n",
       "      <td>4</td>\n",
       "      <td>5 million electrified vehi-cles, including at least 4</td>\n",
       "      <td>53</td>\n",
       "      <td>0.753040</td>\n",
       "    </tr>\n",
       "    <tr>\n",
       "      <th>389</th>\n",
       "      <td>30</td>\n",
       "      <td>6</td>\n",
       "      <td>53</td>\n",
       "      <td>2013 chairman of tmc (to present)akio toyodapositions and areas of responsibility:  chief executive officer chief branding officerapr</td>\n",
       "      <td>134</td>\n",
       "      <td>0.751469</td>\n",
       "    </tr>\n",
       "    <tr>\n",
       "      <th>341</th>\n",
       "      <td>30</td>\n",
       "      <td>6</td>\n",
       "      <td>5</td>\n",
       "      <td>2015 vice-minister of ministry of economy, trade and industryjul</td>\n",
       "      <td>65</td>\n",
       "      <td>0.749110</td>\n",
       "    </tr>\n",
       "    <tr>\n",
       "      <th>364</th>\n",
       "      <td>30</td>\n",
       "      <td>6</td>\n",
       "      <td>28</td>\n",
       "      <td>2017 managing executive officer of sumitomo mitsui banking corporation (to present)jun</td>\n",
       "      <td>87</td>\n",
       "      <td>0.747987</td>\n",
       "    </tr>\n",
       "    <tr>\n",
       "      <th>18</th>\n",
       "      <td>4</td>\n",
       "      <td>2</td>\n",
       "      <td>14</td>\n",
       "      <td>december 2019akio toyodapresident, member of the board of directorstoyota motor corporation</td>\n",
       "      <td>91</td>\n",
       "      <td>0.746627</td>\n",
       "    </tr>\n",
       "    <tr>\n",
       "      <th>417</th>\n",
       "      <td>33</td>\n",
       "      <td>24</td>\n",
       "      <td>0</td>\n",
       "      <td>global average co2 emissions from new vehicles reduction rate versus 2010 (japan, u</td>\n",
       "      <td>83</td>\n",
       "      <td>0.745732</td>\n",
       "    </tr>\n",
       "  </tbody>\n",
       "</table>\n",
       "</div>"
      ],
      "text/plain": [
       "     page  section_order  sentence_order  \\\n",
       "419  33    24             2                \n",
       "49   8     9              5                \n",
       "596  47    1              4                \n",
       "336  30    6              0                \n",
       "126  12    1              4                \n",
       "389  30    6              53               \n",
       "341  30    6              5                \n",
       "364  30    6              28               \n",
       "18   4     2              14               \n",
       "417  33    24             0                \n",
       "\n",
       "                                                                                                                                                                                                                                                                                                                                                                                                                                                                                                                                                                                                                                                                                                                                                                                                                                                                                                                                                                                                                                                                                                                                                                                                                                                                                                                                                                                                                                                                                                                                                                                                                                                                                                                                                                                                                                                                                                                                                                                                            sentence  \\\n",
       "419  , europe, china)(%)• the average co2 emissions (g-co2/km) of new vehicles in each year, based on fuel efficiency values   (co2 emissions) certified by the respective national authorities2020 target: 22%                                                                                                                                                                                                                                                                                                                                                                                                                                                                                                                                                                                                                                                                                                                                                                                                                                                                                                                                                                                                                                                                                                                                                                                                                                                                                                                                                                                                                                                                                                                                                                                                                                                                                                                                                                                                        \n",
       "49    in addition to global changes, such as the shift from sedans to suvs, region-specific customer preferenc-es are in constant flux                                                                                                                                                                                                                                                                                                                                                                                                                                                                                                                                                                                                                                                                                                                                                                                                                                                                                                                                                                                                                                                                                                                                                                                                                                                                                                                                                                                                                                                                                                                                                                                                                                                                                                                                                                                                                                                                                 \n",
       "596   dollar, the euro, the australian dollar, the russian ruble, the canadian dollar and the british pound, and interest rates fluctuations; (iii) changes in funding environment in financial markets and increased competition in the financial services industry; (iv) toyota’s ability to market and distribute effectively; (v) toyota’s ability to realize production efficiencies and to implement capital expenditures at the levels and times planned by management; (vi) changes in the laws, regulations and government policies in the markets in which toyota operates that affect toyota’s automotive operations, par-ticularly laws, regulations and government policies relating to vehicle safety including remedial measures such as recalls, trade, environmental protection, vehicle emissions and vehicle fuel economy, as well as changes in laws, regulations and government policies that affect toyota’s other operations, including the outcome of current and future litigation and other legal proceed-ings, government proceedings and investigations; (vii) political and economic instability in the markets in which toyota operates; (viii) toyota’s ability to timely develop and achieve market acceptance of new products that meet customer demand; (ix) any damage to toyota’s brand image; (x) toyota’s reliance on various suppliers for the provision of supplies; (xi) increases in  prices of raw materials; (xii) toyota’s reliance on various digital and information technologies;  (xiii) fuel shortages or interruptions in electricity, transportation systems, labor strikes, work stop-pages or other interruptions to, or difficulties in, the employment of labor in the major markets where toyota purchases materials, components and supplies for the production of its products or where its products are produced, distributed or sold; and (xiv) the impact of natural calamities including the negative effect on toyota’s vehicle production and sales   \n",
       "336  board of directors and audit & supervisory board members (as of october 1, 2019)apr                                                                                                                                                                                                                                                                                                                                                                                                                                                                                                                                                                                                                                                                                                                                                                                                                                                                                                                                                                                                                                                                                                                                                                                                                                                                                                                                                                                                                                                                                                                                                                                                                                                                                                                                                                                                                                                                                                                               \n",
       "126  5 million electrified vehi-cles, including at least 4                                                                                                                                                                                                                                                                                                                                                                                                                                                                                                                                                                                                                                                                                                                                                                                                                                                                                                                                                                                                                                                                                                                                                                                                                                                                                                                                                                                                                                                                                                                                                                                                                                                                                                                                                                                                                                                                                                                                                             \n",
       "389   2013 chairman of tmc (to present)akio toyodapositions and areas of responsibility:  chief executive officer chief branding officerapr                                                                                                                                                                                                                                                                                                                                                                                                                                                                                                                                                                                                                                                                                                                                                                                                                                                                                                                                                                                                                                                                                                                                                                                                                                                                                                                                                                                                                                                                                                                                                                                                                                                                                                                                                                                                                                                                            \n",
       "341   2015 vice-minister of ministry of economy, trade and industryjul                                                                                                                                                                                                                                                                                                                                                                                                                                                                                                                                                                                                                                                                                                                                                                                                                                                                                                                                                                                                                                                                                                                                                                                                                                                                                                                                                                                                                                                                                                                                                                                                                                                                                                                                                                                                                                                                                                                                                 \n",
       "364   2017 managing executive officer of sumitomo mitsui banking corporation (to present)jun                                                                                                                                                                                                                                                                                                                                                                                                                                                                                                                                                                                                                                                                                                                                                                                                                                                                                                                                                                                                                                                                                                                                                                                                                                                                                                                                                                                                                                                                                                                                                                                                                                                                                                                                                                                                                                                                                                                           \n",
       "18   december 2019akio toyodapresident, member of the board of directorstoyota motor corporation                                                                                                                                                                                                                                                                                                                                                                                                                                                                                                                                                                                                                                                                                                                                                                                                                                                                                                                                                                                                                                                                                                                                                                                                                                                                                                                                                                                                                                                                                                                                                                                                                                                                                                                                                                                                                                                                                                                       \n",
       "417  global average co2 emissions from new vehicles reduction rate versus 2010 (japan, u                                                                                                                                                                                                                                                                                                                                                                                                                                                                                                                                                                                                                                                                                                                                                                                                                                                                                                                                                                                                                                                                                                                                                                                                                                                                                                                                                                                                                                                                                                                                                                                                                                                                                                                                                                                                                                                                                                                               \n",
       "\n",
       "     length  distance  \n",
       "419  202     0.795780  \n",
       "49   129     0.775213  \n",
       "596  1935    0.763693  \n",
       "336  83      0.757282  \n",
       "126  53      0.753040  \n",
       "389  134     0.751469  \n",
       "341  65      0.749110  \n",
       "364  87      0.747987  \n",
       "18   91      0.746627  \n",
       "417  83      0.745732  "
      ]
     },
     "execution_count": 27,
     "metadata": {},
     "output_type": "execute_result"
    }
   ],
   "source": [
    "pd.set_option(\"display.max_colwidth\", -1)\n",
    "sentences.assign(distance=distance.flatten()).iloc[np.argsort(-distance).flatten()].head(10)"
   ]
  },
  {
   "cell_type": "markdown",
   "metadata": {},
   "source": [
    "つながりがよくわからない文章が多い。\"global average co2 emissions from new vehicles reduction rate versus 2010\"など、関係がありそうな箇所も取れてはいるが、同じスコア(distance)でも関係ある/ないで分散が大きい。"
   ]
  },
  {
   "cell_type": "code",
   "execution_count": null,
   "metadata": {},
   "outputs": [],
   "source": []
  }
 ],
 "metadata": {
  "kernelspec": {
   "display_name": "Python 3",
   "language": "python",
   "name": "python3"
  },
  "language_info": {
   "codemirror_mode": {
    "name": "ipython",
    "version": 3
   },
   "file_extension": ".py",
   "mimetype": "text/x-python",
   "name": "python",
   "nbconvert_exporter": "python",
   "pygments_lexer": "ipython3",
   "version": "3.7.4"
  }
 },
 "nbformat": 4,
 "nbformat_minor": 2
}
