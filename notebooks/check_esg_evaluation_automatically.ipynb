{
 "cells": [
  {
   "cell_type": "markdown",
   "metadata": {
    "tags": []
   },
   "source": [
    "# Efficient ESG evaluation by NLP\n",
    "\n",
    "チェックリストを用いた評価はESG評価の代表的な手法です。チェックリストとはESGに関する質問のリストです。「E」の中の「気候変動」のチェックリストでは「気候変動リスクを監視する委員会があるか」「気候変動リスクと機会を特定するプロセスがあるか」などが質問として挙げられます。気候変動以外にも水資源や生物多様性といった他のテーマについてもチェックリストがあり、各テーマのチェックスコアを企業の業種などに応じて重みづけしてESGのスコアを計算します。次の図は、評価機関として有名なRobecoSAMの評価プロセスです(2019年にS&Pグローバルに買収されましたが)。  \n",
    "\n",
    "![robecosam.PNG!](./images/robecosam.PNG)\n",
    "出典: [ESG格付け方法論の事例](http://www.env.go.jp/policy/j-hiroba/kigyo/R1/ESGkakudukeGirei.pdf)\n",
    "\n",
    "本デモでは、ESGの「E」の中の「気候変動」について、TCFDに基づいた開示が行われているのかを自然言語処理を用いて評価します。もちろん人間ほど正確ではありませんし、より精度を上げるにはテキスト抽出や評価の方法について手法を改善する必要があります。ただ、どのようなデータ処理を行えばテキストから評価ができるのか体験いただくには十分だと思います。\n",
    "\n",
    "デモの手順は以下の通りです。\n",
    "\n",
    "0. Setup: 環境を構築します\n",
    "1. Prepare: PDFファイル(統合報告書)からテキストを読み込みます。\n",
    "2. Preprocess: テキスト解析しやすいよう整形します。\n",
    "3. Retrieve: 質問に関連する箇所を抽出します。単語ベースとベクトルベースの2つを行います。\n",
    "4. Evaluate: 抽出結果を評価します。\n",
    "\n",
    "![demo.PNG](./images/demo.PNG)\n",
    "\n",
    "### 0. Setup\n",
    "\n",
    "本Notebookを実行するには、必要なライブラリをインストールした環境が必要です。`environment.yml`を右クリックして\"Build Conda Environment\"を実行してください。この操作は、File > New > Terminalからターミナルを起動し、次のコマンドを実行したのと同じ効果があります。\n",
    "\n",
    "* `conda env create -f environment.yml`\n",
    "* `conda activate esg-nlp`\n",
    "\n",
    "メニューバーのKearnel > Change Kearnel...で`esg-nlp`が選択できるようになっているはずです。表示されるには少し時間がかかります。Kearnelは特定のNotebookを動かすための専用環境のイメージです。もし選択できない場合、次のコマンドを実行しJupyterがKernelを認識できるようにしてください。\n",
    "\n",
    "```\n",
    "ipython kernel install --user --name=esg-nlp\n",
    "```\n",
    "\n",
    "`ipython`がインストールされていない場合、次のコマンドでインストールしてください。\n",
    "\n",
    "* `conda install ipython`\n",
    "\n",
    "作成したKernelは他のNotebookでも利用できます。本ノートブックをベースに、いろんなテキストを分析してみましょう！\n",
    "\n",
    "![select_kernel/PNG](./images/select_kernel.PNG)\n",
    "\n",
    "最後に、テキストを解析するのに必要な言語ごとのモデルをダウンロードします。日本語と英語のモデルをダウンロードしていますが、他の言語のモデルが必要な場合[Install spaCy](https://spacy.io/usage)を参照してください。"
   ]
  },
  {
   "cell_type": "code",
   "execution_count": 1,
   "metadata": {
    "scrolled": true,
    "tags": []
   },
   "outputs": [
    {
     "name": "stdout",
     "output_type": "stream",
     "text": [
      "Collecting en-core-web-sm==3.3.0\n",
      "  Downloading https://github.com/explosion/spacy-models/releases/download/en_core_web_sm-3.3.0/en_core_web_sm-3.3.0-py3-none-any.whl (12.8 MB)\n",
      "\u001b[2K     \u001b[90m━━━━━━━━━━━━━━━━━━━━━━━━━━━━━━━━━━━━━━━━\u001b[0m \u001b[32m12.8/12.8 MB\u001b[0m \u001b[31m60.6 MB/s\u001b[0m eta \u001b[36m0:00:00\u001b[0m00:01\u001b[0m00:01\u001b[0m\n",
      "\u001b[?25hRequirement already satisfied: spacy<3.4.0,>=3.3.0.dev0 in /home/studio-lab-user/.conda/envs/esg-nlp/lib/python3.8/site-packages (from en-core-web-sm==3.3.0) (3.3.0)\n",
      "Requirement already satisfied: catalogue<2.1.0,>=2.0.6 in /home/studio-lab-user/.conda/envs/esg-nlp/lib/python3.8/site-packages (from spacy<3.4.0,>=3.3.0.dev0->en-core-web-sm==3.3.0) (2.0.6)\n",
      "Requirement already satisfied: numpy>=1.15.0 in /home/studio-lab-user/.conda/envs/esg-nlp/lib/python3.8/site-packages (from spacy<3.4.0,>=3.3.0.dev0->en-core-web-sm==3.3.0) (1.22.4)\n",
      "Requirement already satisfied: spacy-legacy<3.1.0,>=3.0.9 in /home/studio-lab-user/.conda/envs/esg-nlp/lib/python3.8/site-packages (from spacy<3.4.0,>=3.3.0.dev0->en-core-web-sm==3.3.0) (3.0.9)\n",
      "Requirement already satisfied: typer<0.5.0,>=0.3.0 in /home/studio-lab-user/.conda/envs/esg-nlp/lib/python3.8/site-packages (from spacy<3.4.0,>=3.3.0.dev0->en-core-web-sm==3.3.0) (0.4.1)\n",
      "Requirement already satisfied: jinja2 in /home/studio-lab-user/.conda/envs/esg-nlp/lib/python3.8/site-packages (from spacy<3.4.0,>=3.3.0.dev0->en-core-web-sm==3.3.0) (3.1.2)\n",
      "Requirement already satisfied: thinc<8.1.0,>=8.0.14 in /home/studio-lab-user/.conda/envs/esg-nlp/lib/python3.8/site-packages (from spacy<3.4.0,>=3.3.0.dev0->en-core-web-sm==3.3.0) (8.0.15)\n",
      "Requirement already satisfied: pathy>=0.3.5 in /home/studio-lab-user/.conda/envs/esg-nlp/lib/python3.8/site-packages (from spacy<3.4.0,>=3.3.0.dev0->en-core-web-sm==3.3.0) (0.6.1)\n",
      "Requirement already satisfied: packaging>=20.0 in /home/studio-lab-user/.conda/envs/esg-nlp/lib/python3.8/site-packages (from spacy<3.4.0,>=3.3.0.dev0->en-core-web-sm==3.3.0) (21.3)\n",
      "Requirement already satisfied: wasabi<1.1.0,>=0.9.1 in /home/studio-lab-user/.conda/envs/esg-nlp/lib/python3.8/site-packages (from spacy<3.4.0,>=3.3.0.dev0->en-core-web-sm==3.3.0) (0.9.1)\n",
      "Requirement already satisfied: setuptools in /home/studio-lab-user/.conda/envs/esg-nlp/lib/python3.8/site-packages (from spacy<3.4.0,>=3.3.0.dev0->en-core-web-sm==3.3.0) (62.3.2)\n",
      "Requirement already satisfied: spacy-loggers<2.0.0,>=1.0.0 in /home/studio-lab-user/.conda/envs/esg-nlp/lib/python3.8/site-packages (from spacy<3.4.0,>=3.3.0.dev0->en-core-web-sm==3.3.0) (1.0.2)\n",
      "Requirement already satisfied: cymem<2.1.0,>=2.0.2 in /home/studio-lab-user/.conda/envs/esg-nlp/lib/python3.8/site-packages (from spacy<3.4.0,>=3.3.0.dev0->en-core-web-sm==3.3.0) (2.0.6)\n",
      "Requirement already satisfied: preshed<3.1.0,>=3.0.2 in /home/studio-lab-user/.conda/envs/esg-nlp/lib/python3.8/site-packages (from spacy<3.4.0,>=3.3.0.dev0->en-core-web-sm==3.3.0) (3.0.6)\n",
      "Requirement already satisfied: murmurhash<1.1.0,>=0.28.0 in /home/studio-lab-user/.conda/envs/esg-nlp/lib/python3.8/site-packages (from spacy<3.4.0,>=3.3.0.dev0->en-core-web-sm==3.3.0) (1.0.7)\n",
      "Requirement already satisfied: pydantic!=1.8,!=1.8.1,<1.9.0,>=1.7.4 in /home/studio-lab-user/.conda/envs/esg-nlp/lib/python3.8/site-packages (from spacy<3.4.0,>=3.3.0.dev0->en-core-web-sm==3.3.0) (1.8.2)\n",
      "Requirement already satisfied: requests<3.0.0,>=2.13.0 in /home/studio-lab-user/.conda/envs/esg-nlp/lib/python3.8/site-packages (from spacy<3.4.0,>=3.3.0.dev0->en-core-web-sm==3.3.0) (2.27.1)\n",
      "Requirement already satisfied: blis<0.8.0,>=0.4.0 in /home/studio-lab-user/.conda/envs/esg-nlp/lib/python3.8/site-packages (from spacy<3.4.0,>=3.3.0.dev0->en-core-web-sm==3.3.0) (0.7.7)\n",
      "Requirement already satisfied: tqdm<5.0.0,>=4.38.0 in /home/studio-lab-user/.conda/envs/esg-nlp/lib/python3.8/site-packages (from spacy<3.4.0,>=3.3.0.dev0->en-core-web-sm==3.3.0) (4.64.0)\n",
      "Requirement already satisfied: langcodes<4.0.0,>=3.2.0 in /home/studio-lab-user/.conda/envs/esg-nlp/lib/python3.8/site-packages (from spacy<3.4.0,>=3.3.0.dev0->en-core-web-sm==3.3.0) (3.3.0)\n",
      "Requirement already satisfied: srsly<3.0.0,>=2.4.3 in /home/studio-lab-user/.conda/envs/esg-nlp/lib/python3.8/site-packages (from spacy<3.4.0,>=3.3.0.dev0->en-core-web-sm==3.3.0) (2.4.3)\n",
      "Requirement already satisfied: pyparsing!=3.0.5,>=2.0.2 in /home/studio-lab-user/.conda/envs/esg-nlp/lib/python3.8/site-packages (from packaging>=20.0->spacy<3.4.0,>=3.3.0.dev0->en-core-web-sm==3.3.0) (3.0.9)\n",
      "Requirement already satisfied: smart-open<6.0.0,>=5.0.0 in /home/studio-lab-user/.conda/envs/esg-nlp/lib/python3.8/site-packages (from pathy>=0.3.5->spacy<3.4.0,>=3.3.0.dev0->en-core-web-sm==3.3.0) (5.2.1)\n",
      "Requirement already satisfied: typing-extensions>=3.7.4.3 in /home/studio-lab-user/.conda/envs/esg-nlp/lib/python3.8/site-packages (from pydantic!=1.8,!=1.8.1,<1.9.0,>=1.7.4->spacy<3.4.0,>=3.3.0.dev0->en-core-web-sm==3.3.0) (4.2.0)\n",
      "Requirement already satisfied: charset-normalizer~=2.0.0 in /home/studio-lab-user/.conda/envs/esg-nlp/lib/python3.8/site-packages (from requests<3.0.0,>=2.13.0->spacy<3.4.0,>=3.3.0.dev0->en-core-web-sm==3.3.0) (2.0.12)\n",
      "Requirement already satisfied: certifi>=2017.4.17 in /home/studio-lab-user/.conda/envs/esg-nlp/lib/python3.8/site-packages (from requests<3.0.0,>=2.13.0->spacy<3.4.0,>=3.3.0.dev0->en-core-web-sm==3.3.0) (2022.5.18.1)\n",
      "Requirement already satisfied: idna<4,>=2.5 in /home/studio-lab-user/.conda/envs/esg-nlp/lib/python3.8/site-packages (from requests<3.0.0,>=2.13.0->spacy<3.4.0,>=3.3.0.dev0->en-core-web-sm==3.3.0) (3.3)\n",
      "Requirement already satisfied: urllib3<1.27,>=1.21.1 in /home/studio-lab-user/.conda/envs/esg-nlp/lib/python3.8/site-packages (from requests<3.0.0,>=2.13.0->spacy<3.4.0,>=3.3.0.dev0->en-core-web-sm==3.3.0) (1.26.9)\n",
      "Requirement already satisfied: click<9.0.0,>=7.1.1 in /home/studio-lab-user/.conda/envs/esg-nlp/lib/python3.8/site-packages (from typer<0.5.0,>=0.3.0->spacy<3.4.0,>=3.3.0.dev0->en-core-web-sm==3.3.0) (8.1.3)\n",
      "Requirement already satisfied: MarkupSafe>=2.0 in /home/studio-lab-user/.conda/envs/esg-nlp/lib/python3.8/site-packages (from jinja2->spacy<3.4.0,>=3.3.0.dev0->en-core-web-sm==3.3.0) (2.1.1)\n",
      "Installing collected packages: en-core-web-sm\n",
      "Successfully installed en-core-web-sm-3.3.0\n",
      "\u001b[38;5;2m✔ Download and installation successful\u001b[0m\n",
      "You can now load the package via spacy.load('en_core_web_sm')\n",
      "Collecting ja-core-news-sm==3.3.0\n",
      "  Downloading https://github.com/explosion/spacy-models/releases/download/ja_core_news_sm-3.3.0/ja_core_news_sm-3.3.0-py3-none-any.whl (12.0 MB)\n",
      "\u001b[2K     \u001b[90m━━━━━━━━━━━━━━━━━━━━━━━━━━━━━━━━━━━━━━━━\u001b[0m \u001b[32m12.0/12.0 MB\u001b[0m \u001b[31m52.2 MB/s\u001b[0m eta \u001b[36m0:00:00\u001b[0m00:01\u001b[0m00:01\u001b[0m\n",
      "\u001b[?25hCollecting sudachidict-core>=20211220\n",
      "  Using cached SudachiDict_core-20220519-py3-none-any.whl\n",
      "Collecting sudachipy!=0.6.1,>=0.5.2\n",
      "  Using cached SudachiPy-0.6.3-cp38-cp38-manylinux_2_5_x86_64.manylinux1_x86_64.manylinux_2_12_x86_64.manylinux2010_x86_64.whl (2.2 MB)\n",
      "Requirement already satisfied: spacy<3.4.0,>=3.3.0.dev0 in /home/studio-lab-user/.conda/envs/esg-nlp/lib/python3.8/site-packages (from ja-core-news-sm==3.3.0) (3.3.0)\n",
      "Requirement already satisfied: numpy>=1.15.0 in /home/studio-lab-user/.conda/envs/esg-nlp/lib/python3.8/site-packages (from spacy<3.4.0,>=3.3.0.dev0->ja-core-news-sm==3.3.0) (1.22.4)\n",
      "Requirement already satisfied: tqdm<5.0.0,>=4.38.0 in /home/studio-lab-user/.conda/envs/esg-nlp/lib/python3.8/site-packages (from spacy<3.4.0,>=3.3.0.dev0->ja-core-news-sm==3.3.0) (4.64.0)\n",
      "Requirement already satisfied: preshed<3.1.0,>=3.0.2 in /home/studio-lab-user/.conda/envs/esg-nlp/lib/python3.8/site-packages (from spacy<3.4.0,>=3.3.0.dev0->ja-core-news-sm==3.3.0) (3.0.6)\n",
      "Requirement already satisfied: setuptools in /home/studio-lab-user/.conda/envs/esg-nlp/lib/python3.8/site-packages (from spacy<3.4.0,>=3.3.0.dev0->ja-core-news-sm==3.3.0) (62.3.2)\n",
      "Requirement already satisfied: pydantic!=1.8,!=1.8.1,<1.9.0,>=1.7.4 in /home/studio-lab-user/.conda/envs/esg-nlp/lib/python3.8/site-packages (from spacy<3.4.0,>=3.3.0.dev0->ja-core-news-sm==3.3.0) (1.8.2)\n",
      "Requirement already satisfied: murmurhash<1.1.0,>=0.28.0 in /home/studio-lab-user/.conda/envs/esg-nlp/lib/python3.8/site-packages (from spacy<3.4.0,>=3.3.0.dev0->ja-core-news-sm==3.3.0) (1.0.7)\n",
      "Requirement already satisfied: wasabi<1.1.0,>=0.9.1 in /home/studio-lab-user/.conda/envs/esg-nlp/lib/python3.8/site-packages (from spacy<3.4.0,>=3.3.0.dev0->ja-core-news-sm==3.3.0) (0.9.1)\n",
      "Requirement already satisfied: blis<0.8.0,>=0.4.0 in /home/studio-lab-user/.conda/envs/esg-nlp/lib/python3.8/site-packages (from spacy<3.4.0,>=3.3.0.dev0->ja-core-news-sm==3.3.0) (0.7.7)\n",
      "Requirement already satisfied: cymem<2.1.0,>=2.0.2 in /home/studio-lab-user/.conda/envs/esg-nlp/lib/python3.8/site-packages (from spacy<3.4.0,>=3.3.0.dev0->ja-core-news-sm==3.3.0) (2.0.6)\n",
      "Requirement already satisfied: srsly<3.0.0,>=2.4.3 in /home/studio-lab-user/.conda/envs/esg-nlp/lib/python3.8/site-packages (from spacy<3.4.0,>=3.3.0.dev0->ja-core-news-sm==3.3.0) (2.4.3)\n",
      "Requirement already satisfied: packaging>=20.0 in /home/studio-lab-user/.conda/envs/esg-nlp/lib/python3.8/site-packages (from spacy<3.4.0,>=3.3.0.dev0->ja-core-news-sm==3.3.0) (21.3)\n",
      "Requirement already satisfied: spacy-loggers<2.0.0,>=1.0.0 in /home/studio-lab-user/.conda/envs/esg-nlp/lib/python3.8/site-packages (from spacy<3.4.0,>=3.3.0.dev0->ja-core-news-sm==3.3.0) (1.0.2)\n",
      "Requirement already satisfied: typer<0.5.0,>=0.3.0 in /home/studio-lab-user/.conda/envs/esg-nlp/lib/python3.8/site-packages (from spacy<3.4.0,>=3.3.0.dev0->ja-core-news-sm==3.3.0) (0.4.1)\n",
      "Requirement already satisfied: langcodes<4.0.0,>=3.2.0 in /home/studio-lab-user/.conda/envs/esg-nlp/lib/python3.8/site-packages (from spacy<3.4.0,>=3.3.0.dev0->ja-core-news-sm==3.3.0) (3.3.0)\n",
      "Requirement already satisfied: spacy-legacy<3.1.0,>=3.0.9 in /home/studio-lab-user/.conda/envs/esg-nlp/lib/python3.8/site-packages (from spacy<3.4.0,>=3.3.0.dev0->ja-core-news-sm==3.3.0) (3.0.9)\n",
      "Requirement already satisfied: pathy>=0.3.5 in /home/studio-lab-user/.conda/envs/esg-nlp/lib/python3.8/site-packages (from spacy<3.4.0,>=3.3.0.dev0->ja-core-news-sm==3.3.0) (0.6.1)\n",
      "Requirement already satisfied: requests<3.0.0,>=2.13.0 in /home/studio-lab-user/.conda/envs/esg-nlp/lib/python3.8/site-packages (from spacy<3.4.0,>=3.3.0.dev0->ja-core-news-sm==3.3.0) (2.27.1)\n",
      "Requirement already satisfied: catalogue<2.1.0,>=2.0.6 in /home/studio-lab-user/.conda/envs/esg-nlp/lib/python3.8/site-packages (from spacy<3.4.0,>=3.3.0.dev0->ja-core-news-sm==3.3.0) (2.0.6)\n",
      "Requirement already satisfied: thinc<8.1.0,>=8.0.14 in /home/studio-lab-user/.conda/envs/esg-nlp/lib/python3.8/site-packages (from spacy<3.4.0,>=3.3.0.dev0->ja-core-news-sm==3.3.0) (8.0.15)\n",
      "Requirement already satisfied: jinja2 in /home/studio-lab-user/.conda/envs/esg-nlp/lib/python3.8/site-packages (from spacy<3.4.0,>=3.3.0.dev0->ja-core-news-sm==3.3.0) (3.1.2)\n",
      "Requirement already satisfied: pyparsing!=3.0.5,>=2.0.2 in /home/studio-lab-user/.conda/envs/esg-nlp/lib/python3.8/site-packages (from packaging>=20.0->spacy<3.4.0,>=3.3.0.dev0->ja-core-news-sm==3.3.0) (3.0.9)\n",
      "Requirement already satisfied: smart-open<6.0.0,>=5.0.0 in /home/studio-lab-user/.conda/envs/esg-nlp/lib/python3.8/site-packages (from pathy>=0.3.5->spacy<3.4.0,>=3.3.0.dev0->ja-core-news-sm==3.3.0) (5.2.1)\n",
      "Requirement already satisfied: typing-extensions>=3.7.4.3 in /home/studio-lab-user/.conda/envs/esg-nlp/lib/python3.8/site-packages (from pydantic!=1.8,!=1.8.1,<1.9.0,>=1.7.4->spacy<3.4.0,>=3.3.0.dev0->ja-core-news-sm==3.3.0) (4.2.0)\n",
      "Requirement already satisfied: idna<4,>=2.5 in /home/studio-lab-user/.conda/envs/esg-nlp/lib/python3.8/site-packages (from requests<3.0.0,>=2.13.0->spacy<3.4.0,>=3.3.0.dev0->ja-core-news-sm==3.3.0) (3.3)\n",
      "Requirement already satisfied: urllib3<1.27,>=1.21.1 in /home/studio-lab-user/.conda/envs/esg-nlp/lib/python3.8/site-packages (from requests<3.0.0,>=2.13.0->spacy<3.4.0,>=3.3.0.dev0->ja-core-news-sm==3.3.0) (1.26.9)\n",
      "Requirement already satisfied: certifi>=2017.4.17 in /home/studio-lab-user/.conda/envs/esg-nlp/lib/python3.8/site-packages (from requests<3.0.0,>=2.13.0->spacy<3.4.0,>=3.3.0.dev0->ja-core-news-sm==3.3.0) (2022.5.18.1)\n",
      "Requirement already satisfied: charset-normalizer~=2.0.0 in /home/studio-lab-user/.conda/envs/esg-nlp/lib/python3.8/site-packages (from requests<3.0.0,>=2.13.0->spacy<3.4.0,>=3.3.0.dev0->ja-core-news-sm==3.3.0) (2.0.12)\n",
      "Requirement already satisfied: click<9.0.0,>=7.1.1 in /home/studio-lab-user/.conda/envs/esg-nlp/lib/python3.8/site-packages (from typer<0.5.0,>=0.3.0->spacy<3.4.0,>=3.3.0.dev0->ja-core-news-sm==3.3.0) (8.1.3)\n",
      "Requirement already satisfied: MarkupSafe>=2.0 in /home/studio-lab-user/.conda/envs/esg-nlp/lib/python3.8/site-packages (from jinja2->spacy<3.4.0,>=3.3.0.dev0->ja-core-news-sm==3.3.0) (2.1.1)\n",
      "Installing collected packages: sudachipy, sudachidict-core, ja-core-news-sm\n",
      "Successfully installed ja-core-news-sm-3.3.0 sudachidict-core-20220519 sudachipy-0.6.3\n",
      "\u001b[38;5;2m✔ Download and installation successful\u001b[0m\n",
      "You can now load the package via spacy.load('ja_core_news_sm')\n"
     ]
    }
   ],
   "source": [
    "!python -m spacy download en_core_web_sm\n",
    "!python -m spacy download ja_core_news_sm"
   ]
  },
  {
   "cell_type": "markdown",
   "metadata": {
    "tags": []
   },
   "source": [
    "## 1. Prepare\n",
    "\n",
    "はじめに、PDFファイルからテキストを読み込みます。デモでは2021年のトヨタの統合報告書を使用します。他のファイルを試してみたい場合、ファイルを`data/raw`のディレクトリに配置した後、下のセルの`file_name`の値を書き替えてください。例えば、2019年のトヨタの統合報告書の場合は`2019_001_annual_en.pdf`になります(2019年の報告書はすでに格納済みです)。\n",
    "\n",
    "![upload_file.PNG](./images/upload_file.PNG)"
   ]
  },
  {
   "cell_type": "code",
   "execution_count": 2,
   "metadata": {},
   "outputs": [],
   "source": [
    "# ファイルはdata/raw/のディレクトリに配置してください\n",
    "\n",
    "file_name = \"2021_001_integrated_en.pdf\"\n",
    "# file_name = \"2019_001_annual_en.pdf\"\n",
    "# file_name = \"2021_001_integrated_jp.pdf\""
   ]
  },
  {
   "cell_type": "markdown",
   "metadata": {},
   "source": [
    "ファイルの言語を指定します。日本語のファイルを使う場合は\"ja\"と設定してください。"
   ]
  },
  {
   "cell_type": "code",
   "execution_count": 3,
   "metadata": {},
   "outputs": [],
   "source": [
    "LANG = \"en\"\n",
    "# LANG = \"ja\""
   ]
  },
  {
   "cell_type": "markdown",
   "metadata": {},
   "source": [
    "PDFファイルからのテキスト抽出は、事前に作成しておいた`PDFReader`クラスを使用します。内部的には[`pdfminer.six`](https://github.com/pdfminer/pdfminer.six)を使用しています。実装に興味がある方は[ソースコード](./esg_nlp/data/pdf_reader.py)を参照してください。"
   ]
  },
  {
   "cell_type": "code",
   "execution_count": 4,
   "metadata": {},
   "outputs": [],
   "source": [
    "import os, sys\n",
    "sys.path.append(\"../\")\n",
    "from pathlib import Path\n",
    "import pandas as pd\n",
    "import numpy as np\n",
    "from esg_nlp.data.pdf_reader import PDFReader\n",
    "\n",
    "\n",
    "path = f\"../data/raw/{file_name}\"\n",
    "reader = PDFReader()\n",
    "df = reader.read_to_frame(path)"
   ]
  },
  {
   "cell_type": "markdown",
   "metadata": {
    "tags": []
   },
   "source": [
    "PDFファイルを読み込んだ結果を表示します。`page`はページ番号、`order`はページ内でテキストが出現した位置です。"
   ]
  },
  {
   "cell_type": "code",
   "execution_count": 5,
   "metadata": {},
   "outputs": [
    {
     "data": {
      "text/html": [
       "<div>\n",
       "<style scoped>\n",
       "    .dataframe tbody tr th:only-of-type {\n",
       "        vertical-align: middle;\n",
       "    }\n",
       "\n",
       "    .dataframe tbody tr th {\n",
       "        vertical-align: top;\n",
       "    }\n",
       "\n",
       "    .dataframe thead th {\n",
       "        text-align: right;\n",
       "    }\n",
       "</style>\n",
       "<table border=\"1\" class=\"dataframe\">\n",
       "  <thead>\n",
       "    <tr style=\"text-align: right;\">\n",
       "      <th></th>\n",
       "      <th>page</th>\n",
       "      <th>order</th>\n",
       "      <th>content</th>\n",
       "    </tr>\n",
       "  </thead>\n",
       "  <tbody>\n",
       "    <tr>\n",
       "      <th>0</th>\n",
       "      <td>0</td>\n",
       "      <td>0</td>\n",
       "      <td>Page 1</td>\n",
       "    </tr>\n",
       "    <tr>\n",
       "      <th>1</th>\n",
       "      <td>0</td>\n",
       "      <td>1</td>\n",
       "      <td>Integrated Report \\n2021\\nIntegrated Report 20...</td>\n",
       "    </tr>\n",
       "    <tr>\n",
       "      <th>2</th>\n",
       "      <td>1</td>\n",
       "      <td>0</td>\n",
       "      <td>Page 1</td>\n",
       "    </tr>\n",
       "    <tr>\n",
       "      <th>3</th>\n",
       "      <td>1</td>\n",
       "      <td>1</td>\n",
       "      <td>Contents</td>\n",
       "    </tr>\n",
       "    <tr>\n",
       "      <th>4</th>\n",
       "      <td>1</td>\n",
       "      <td>2</td>\n",
       "      <td>Period Covered\\nFiscal 2021 (April 2020 to Mar...</td>\n",
       "    </tr>\n",
       "  </tbody>\n",
       "</table>\n",
       "</div>"
      ],
      "text/plain": [
       "   page  order                                            content\n",
       "0     0      0                                             Page 1\n",
       "1     0      1  Integrated Report \\n2021\\nIntegrated Report 20...\n",
       "2     1      0                                             Page 1\n",
       "3     1      1                                           Contents\n",
       "4     1      2  Period Covered\\nFiscal 2021 (April 2020 to Mar..."
      ]
     },
     "execution_count": 5,
     "metadata": {},
     "output_type": "execute_result"
    }
   ],
   "source": [
    "df.head(5)"
   ]
  },
  {
   "cell_type": "markdown",
   "metadata": {},
   "source": [
    "Page1といったページ番号のこ項目や、Contents、といった目次項目まで読み込まれていることがわかります。目次やページ番号はもちろんテキスト解析の対象とはしたくないため、次の`Preprocess`で除去していきます。**PDFの読み込み結果はノイズが非常に多いため、前処理が欠かせません。**"
   ]
  },
  {
   "cell_type": "markdown",
   "metadata": {},
   "source": [
    "## 2. Preprocess\n",
    "\n",
    "前処理では、テキストを整形してから不要なテキストを除去するフィルタ処理などを行います。テキストの整形とは、文字コードや文字種の統一などです。テキストの整形をすることで、フィルタ処理が書きやすくなります。具体的には、大文字か小文字かでルールを2つ作るなどの必要がなくなります。"
   ]
  },
  {
   "cell_type": "code",
   "execution_count": 6,
   "metadata": {
    "tags": []
   },
   "outputs": [],
   "source": [
    "import unicodedata\n",
    "\n",
    "\n",
    "def preprocess(text):\n",
    "    if text is None:\n",
    "        return \"\"\n",
    "    _text = text\n",
    "    _text = unicodedata.normalize(\"NFKC\", _text)  #半角/全角の統一\n",
    "    _text = _text.replace(\"\\r\", \"\").replace(\"\\n\", \" \")  # 文中改行の削除\n",
    "    _text = _text.lower()\n",
    "    return _text\n",
    "\n",
    "\n",
    "df[\"preprocessed\"] = df.content.apply(preprocess)"
   ]
  },
  {
   "cell_type": "markdown",
   "metadata": {},
   "source": [
    "内容が同一の読み取り結果を削除します。例えば、PDFの右上などに表示される目次項目などです。"
   ]
  },
  {
   "cell_type": "code",
   "execution_count": 7,
   "metadata": {},
   "outputs": [],
   "source": [
    "preprocessed_df = df.drop_duplicates(subset=[\"preprocessed\"])"
   ]
  },
  {
   "cell_type": "markdown",
   "metadata": {
    "tags": []
   },
   "source": [
    "`Page 1`など、タイトルのみで文を含んでいないセクションを除外します。文の判定は、単純に長さで行います。100は適当な値です。"
   ]
  },
  {
   "cell_type": "code",
   "execution_count": 8,
   "metadata": {},
   "outputs": [],
   "source": [
    "limit_length = 100"
   ]
  },
  {
   "cell_type": "code",
   "execution_count": 9,
   "metadata": {
    "tags": []
   },
   "outputs": [],
   "source": [
    "preprocessed_df = preprocessed_df.assign(length=preprocessed_df[\"preprocessed\"].apply(lambda s: len(s)))\n",
    "preprocessed_df = preprocessed_df[preprocessed_df[\"length\"] > limit_length]"
   ]
  },
  {
   "cell_type": "code",
   "execution_count": 10,
   "metadata": {
    "tags": []
   },
   "outputs": [
    {
     "name": "stdout",
     "output_type": "stream",
     "text": [
      "Rows are decreased from 1340 to 249\n"
     ]
    }
   ],
   "source": [
    "print(f\"Rows are decreased from {len(df)} to {len(preprocessed_df)}\")"
   ]
  },
  {
   "cell_type": "code",
   "execution_count": 11,
   "metadata": {
    "tags": []
   },
   "outputs": [
    {
     "data": {
      "text/html": [
       "<div>\n",
       "<style scoped>\n",
       "    .dataframe tbody tr th:only-of-type {\n",
       "        vertical-align: middle;\n",
       "    }\n",
       "\n",
       "    .dataframe tbody tr th {\n",
       "        vertical-align: top;\n",
       "    }\n",
       "\n",
       "    .dataframe thead th {\n",
       "        text-align: right;\n",
       "    }\n",
       "</style>\n",
       "<table border=\"1\" class=\"dataframe\">\n",
       "  <thead>\n",
       "    <tr style=\"text-align: right;\">\n",
       "      <th></th>\n",
       "      <th>page</th>\n",
       "      <th>order</th>\n",
       "      <th>content</th>\n",
       "      <th>preprocessed</th>\n",
       "      <th>length</th>\n",
       "    </tr>\n",
       "  </thead>\n",
       "  <tbody>\n",
       "    <tr>\n",
       "      <th>4</th>\n",
       "      <td>1</td>\n",
       "      <td>2</td>\n",
       "      <td>Period Covered\\nFiscal 2021 (April 2020 to Mar...</td>\n",
       "      <td>period covered fiscal 2021 (april 2020 to marc...</td>\n",
       "      <td>553</td>\n",
       "    </tr>\n",
       "    <tr>\n",
       "      <th>7</th>\n",
       "      <td>1</td>\n",
       "      <td>5</td>\n",
       "      <td>icons that link to relevant web pages online.\\...</td>\n",
       "      <td>icons that link to relevant web pages online. ...</td>\n",
       "      <td>182</td>\n",
       "    </tr>\n",
       "    <tr>\n",
       "      <th>8</th>\n",
       "      <td>1</td>\n",
       "      <td>6</td>\n",
       "      <td>2   \\nMessage from the President\\n5   \\nThe So...</td>\n",
       "      <td>2    message from the president 5    the sourc...</td>\n",
       "      <td>1120</td>\n",
       "    </tr>\n",
       "    <tr>\n",
       "      <th>9</th>\n",
       "      <td>1</td>\n",
       "      <td>7</td>\n",
       "      <td>The \\nIntegrated Report 2021\\n is intended to ...</td>\n",
       "      <td>the  integrated report 2021  is intended to co...</td>\n",
       "      <td>317</td>\n",
       "    </tr>\n",
       "    <tr>\n",
       "      <th>31</th>\n",
       "      <td>1</td>\n",
       "      <td>29</td>\n",
       "      <td>On December 14, 2021, Toyota held a briefing o...</td>\n",
       "      <td>on december 14, 2021, toyota held a briefing o...</td>\n",
       "      <td>869</td>\n",
       "    </tr>\n",
       "    <tr>\n",
       "      <th>32</th>\n",
       "      <td>1</td>\n",
       "      <td>30</td>\n",
       "      <td>Toyota’s part for carbon neutrality\\nAs the op...</td>\n",
       "      <td>toyota’s part for carbon neutrality as the ope...</td>\n",
       "      <td>880</td>\n",
       "    </tr>\n",
       "    <tr>\n",
       "      <th>33</th>\n",
       "      <td>1</td>\n",
       "      <td>31</td>\n",
       "      <td>We are living in a diversified world and in an...</td>\n",
       "      <td>we are living in a diversified world and in an...</td>\n",
       "      <td>830</td>\n",
       "    </tr>\n",
       "    <tr>\n",
       "      <th>34</th>\n",
       "      <td>1</td>\n",
       "      <td>32</td>\n",
       "      <td>Five Toyota bZs revealed\\nAkio\\nToday, we woul...</td>\n",
       "      <td>five toyota bzs revealed akio today, we would ...</td>\n",
       "      <td>709</td>\n",
       "    </tr>\n",
       "    <tr>\n",
       "      <th>35</th>\n",
       "      <td>1</td>\n",
       "      <td>33</td>\n",
       "      <td>enabled us to pursue smoothness and maneuverab...</td>\n",
       "      <td>enabled us to pursue smoothness and maneuverab...</td>\n",
       "      <td>855</td>\n",
       "    </tr>\n",
       "    <tr>\n",
       "      <th>36</th>\n",
       "      <td>1</td>\n",
       "      <td>34</td>\n",
       "      <td>The important thing is determining to what deg...</td>\n",
       "      <td>the important thing is determining to what deg...</td>\n",
       "      <td>1111</td>\n",
       "    </tr>\n",
       "  </tbody>\n",
       "</table>\n",
       "</div>"
      ],
      "text/plain": [
       "    page  order                                            content  \\\n",
       "4      1      2  Period Covered\\nFiscal 2021 (April 2020 to Mar...   \n",
       "7      1      5  icons that link to relevant web pages online.\\...   \n",
       "8      1      6  2   \\nMessage from the President\\n5   \\nThe So...   \n",
       "9      1      7  The \\nIntegrated Report 2021\\n is intended to ...   \n",
       "31     1     29  On December 14, 2021, Toyota held a briefing o...   \n",
       "32     1     30  Toyota’s part for carbon neutrality\\nAs the op...   \n",
       "33     1     31  We are living in a diversified world and in an...   \n",
       "34     1     32  Five Toyota bZs revealed\\nAkio\\nToday, we woul...   \n",
       "35     1     33  enabled us to pursue smoothness and maneuverab...   \n",
       "36     1     34  The important thing is determining to what deg...   \n",
       "\n",
       "                                         preprocessed  length  \n",
       "4   period covered fiscal 2021 (april 2020 to marc...     553  \n",
       "7   icons that link to relevant web pages online. ...     182  \n",
       "8   2    message from the president 5    the sourc...    1120  \n",
       "9   the  integrated report 2021  is intended to co...     317  \n",
       "31  on december 14, 2021, toyota held a briefing o...     869  \n",
       "32  toyota’s part for carbon neutrality as the ope...     880  \n",
       "33  we are living in a diversified world and in an...     830  \n",
       "34  five toyota bzs revealed akio today, we would ...     709  \n",
       "35  enabled us to pursue smoothness and maneuverab...     855  \n",
       "36  the important thing is determining to what deg...    1111  "
      ]
     },
     "execution_count": 11,
     "metadata": {},
     "output_type": "execute_result"
    }
   ],
   "source": [
    "preprocessed_df.head(10)"
   ]
  },
  {
   "cell_type": "markdown",
   "metadata": {},
   "source": [
    "おおむねテキストらしいテキストが残っていることがわかります。"
   ]
  },
  {
   "cell_type": "markdown",
   "metadata": {},
   "source": [
    "## 3. Retrieve\n",
    "\n",
    "チェックリストの質問に関係しているセクションを抽出します。単語ベースで行う手法と、ベクトルベースで行う手法を紹介します。\n",
    "\n",
    "デモではチェックリストの説明として、TCFDの推奨開示を使用します。いかに、日本語と英語の推奨開示事項を示します。\n",
    "\n",
    "* [気候関連財務情報開示タスクフォース（TCFD）最終報告書](https://www.ecohotline.com/tcfd_compass/download/)\n",
    "* [The 2017 TCFD recommendations report outlines the TCFD framework for reporting climate-related financial information.](https://www.fsb-tcfd.org/publications/#recommendations)\n",
    "\n",
    "![tcfd.PNG](./images/tcfd.PNG)\n",
    "![tcfd_en.PNG](./images/tcfd_en.PNG)"
   ]
  },
  {
   "cell_type": "markdown",
   "metadata": {},
   "source": [
    "デモとして、戦略のa) を使用します。"
   ]
  },
  {
   "cell_type": "code",
   "execution_count": 12,
   "metadata": {},
   "outputs": [],
   "source": [
    "if LANG == \"ja\":\n",
    "    question = \"組織が特定した、短期・中期・長期の気候関連のリスクと機会を記述する。\"    \n",
    "else:\n",
    "    question = \"Describe the climate-related risks and opportunities the organization has identified over the short, medium, and long term.\"\n",
    "question = question.lower()"
   ]
  },
  {
   "cell_type": "markdown",
   "metadata": {},
   "source": [
    "人間が抽出すると、p35の箇所が該当します。\n",
    "\n",
    "![human_annotation.PNG](./images/human_annotation.PNG)"
   ]
  },
  {
   "cell_type": "markdown",
   "metadata": {},
   "source": [
    "## 3.1 Word base retrieval\n",
    "\n",
    "単純に質問文に含まれている単語を含むセクションを抽出します。次の図のように、質問文に含まれる単語がセクションに出現する回数を数えていきます。\n",
    "\n",
    "![word_based.PNG](./images/word_based.PNG)\n",
    "\n",
    "文を単語に区切るため[spaCy](https://spacy.io/)を利用します。"
   ]
  },
  {
   "cell_type": "code",
   "execution_count": 13,
   "metadata": {
    "tags": []
   },
   "outputs": [
    {
     "name": "stderr",
     "output_type": "stream",
     "text": [
      "/home/studio-lab-user/.conda/envs/esg-nlp/lib/python3.8/site-packages/tqdm/auto.py:22: TqdmWarning: IProgress not found. Please update jupyter and ipywidgets. See https://ipywidgets.readthedocs.io/en/stable/user_install.html\n",
      "  from .autonotebook import tqdm as notebook_tqdm\n"
     ]
    }
   ],
   "source": [
    "import re\n",
    "from spacy.util import get_lang_class\n",
    "\n",
    "\n",
    "class Parser():\n",
    "\n",
    "    def __init__(self, lang):\n",
    "        self.lang = lang\n",
    "        self.parser = get_lang_class(self.lang)()\n",
    "    \n",
    "    def parse(self, text):\n",
    "        return self.parser(text)"
   ]
  },
  {
   "cell_type": "markdown",
   "metadata": {
    "tags": []
   },
   "source": [
    "質問から単語を抽出します。この時、ストップワードと呼ばれる一般的すぎる単語は除外します。"
   ]
  },
  {
   "cell_type": "code",
   "execution_count": 14,
   "metadata": {
    "tags": []
   },
   "outputs": [
    {
     "data": {
      "text/plain": [
       "['describe',\n",
       " 'climate',\n",
       " 'related',\n",
       " 'risks',\n",
       " 'opportunities',\n",
       " 'organization',\n",
       " 'identified',\n",
       " 'short',\n",
       " 'medium',\n",
       " 'long',\n",
       " 'term']"
      ]
     },
     "execution_count": 14,
     "metadata": {},
     "output_type": "execute_result"
    }
   ],
   "source": [
    "parser = Parser(LANG)\n",
    "question_words = [str(t).strip() for t in parser.parse(question) if not t.is_stop and not re.match(\"\\'|\\.|\\?|\\/|\\,|\\-|、|・|。\", t.text)]\n",
    "question_words"
   ]
  },
  {
   "cell_type": "markdown",
   "metadata": {},
   "source": [
    "セクションごとにキーワードが含まれる数をカウントします。"
   ]
  },
  {
   "cell_type": "code",
   "execution_count": 15,
   "metadata": {
    "tags": []
   },
   "outputs": [],
   "source": [
    "def count_keyword_match(text, keywords):\n",
    "    count = 0\n",
    "    for k in keywords:\n",
    "        if k in text:\n",
    "            count += 1\n",
    "    return count\n",
    "\n",
    "\n",
    "preprocessed_df = preprocessed_df.assign(\n",
    "    keyword_match=preprocessed_df[\"preprocessed\"].apply(\n",
    "        lambda s: count_keyword_match(s, question_words))\n",
    ")"
   ]
  },
  {
   "cell_type": "code",
   "execution_count": 16,
   "metadata": {
    "tags": []
   },
   "outputs": [
    {
     "data": {
      "text/html": [
       "<div>\n",
       "<style scoped>\n",
       "    .dataframe tbody tr th:only-of-type {\n",
       "        vertical-align: middle;\n",
       "    }\n",
       "\n",
       "    .dataframe tbody tr th {\n",
       "        vertical-align: top;\n",
       "    }\n",
       "\n",
       "    .dataframe thead th {\n",
       "        text-align: right;\n",
       "    }\n",
       "</style>\n",
       "<table border=\"1\" class=\"dataframe\">\n",
       "  <thead>\n",
       "    <tr style=\"text-align: right;\">\n",
       "      <th></th>\n",
       "      <th>page</th>\n",
       "      <th>order</th>\n",
       "      <th>content</th>\n",
       "      <th>preprocessed</th>\n",
       "      <th>length</th>\n",
       "      <th>keyword_match</th>\n",
       "    </tr>\n",
       "  </thead>\n",
       "  <tbody>\n",
       "    <tr>\n",
       "      <th>722</th>\n",
       "      <td>32</td>\n",
       "      <td>16</td>\n",
       "      <td>4\\n  communication with stakeholders such as s...</td>\n",
       "      <td>4   communication with stakeholders such as sh...</td>\n",
       "      <td>2233</td>\n",
       "      <td>7</td>\n",
       "    </tr>\n",
       "    <tr>\n",
       "      <th>791</th>\n",
       "      <td>35</td>\n",
       "      <td>9</td>\n",
       "      <td>Strategy\\nToyota Environmental Challenge 2050\\...</td>\n",
       "      <td>strategy toyota environmental challenge 2050 t...</td>\n",
       "      <td>2743</td>\n",
       "      <td>7</td>\n",
       "    </tr>\n",
       "    <tr>\n",
       "      <th>790</th>\n",
       "      <td>35</td>\n",
       "      <td>8</td>\n",
       "      <td>Toyota endorsed and signed on to the recom-\\nm...</td>\n",
       "      <td>toyota endorsed and signed on to the recom- me...</td>\n",
       "      <td>1819</td>\n",
       "      <td>7</td>\n",
       "    </tr>\n",
       "    <tr>\n",
       "      <th>717</th>\n",
       "      <td>32</td>\n",
       "      <td>11</td>\n",
       "      <td>4\\n  Besides the Board of Directors meetings, ...</td>\n",
       "      <td>4   besides the board of directors meetings, s...</td>\n",
       "      <td>3299</td>\n",
       "      <td>5</td>\n",
       "    </tr>\n",
       "    <tr>\n",
       "      <th>824</th>\n",
       "      <td>36</td>\n",
       "      <td>7</td>\n",
       "      <td>driving mode fuel efficiency) and the developm...</td>\n",
       "      <td>driving mode fuel efficiency) and the developm...</td>\n",
       "      <td>2059</td>\n",
       "      <td>5</td>\n",
       "    </tr>\n",
       "  </tbody>\n",
       "</table>\n",
       "</div>"
      ],
      "text/plain": [
       "     page  order                                            content  \\\n",
       "722    32     16  4\\n  communication with stakeholders such as s...   \n",
       "791    35      9  Strategy\\nToyota Environmental Challenge 2050\\...   \n",
       "790    35      8  Toyota endorsed and signed on to the recom-\\nm...   \n",
       "717    32     11  4\\n  Besides the Board of Directors meetings, ...   \n",
       "824    36      7  driving mode fuel efficiency) and the developm...   \n",
       "\n",
       "                                          preprocessed  length  keyword_match  \n",
       "722  4   communication with stakeholders such as sh...    2233              7  \n",
       "791  strategy toyota environmental challenge 2050 t...    2743              7  \n",
       "790  toyota endorsed and signed on to the recom- me...    1819              7  \n",
       "717  4   besides the board of directors meetings, s...    3299              5  \n",
       "824  driving mode fuel efficiency) and the developm...    2059              5  "
      ]
     },
     "execution_count": 16,
     "metadata": {},
     "output_type": "execute_result"
    }
   ],
   "source": [
    "matched_df = preprocessed_df[preprocessed_df[\"keyword_match\"] > 0]\n",
    "matched_df.sort_values(by=[\"keyword_match\"], ascending=False).head(5)"
   ]
  },
  {
   "cell_type": "markdown",
   "metadata": {},
   "source": [
    "p35の文がきちんととれていることがわかります。これにより、キーワードの一致数が多い、つまり重要なセクションにフォーカスして調査をすることが可能になります。\n",
    "\n",
    "## 3.2 Vector base retrieval\n",
    "\n",
    "キーワードだけでなく、文章の意味を考慮したセクションの抽出を行います。文章をベクトルとして表現し、ベクトル間の距離で意味の近さを判定します。次の図は、文書中の単語をベクトル化して平均をとることで文書ベクトルを作成しています。文書ベクトルについては「[はじめての自然言語処理 第1回 類似文書検索の手法と精度比較](https://www.ogis-ri.co.jp/otc/hiroba/technical/similar-document-search/part1.html)」などをご参照ください。\n",
    "\n",
    "![vector_based.PNG](./images/vector_based.PNG)\n",
    "\n",
    "単語をベクトル化することで、意味の近さを幾何学的に表すことができます(次の図は「[Creating Word Embeddings: Coding the Word2Vec Algorithm in Python using Deep Learning](https://towardsdatascience.com/creating-word-embeddings-coding-the-word2vec-algorithm-in-python-using-deep-learning-b337d0ba17a8)」より引用しました)。\n",
    "\n",
    "![word_vector_image.png](./images/word_vector_image.png)\n",
    "\n",
    "単語、また文章をベクトル化する手法はいくつかあります。今回は[BERT](https://blog.google/products/search/search-language-understanding-bert/)と呼ばれる手法を使用します。著名な検索エンジンでも使用されている代表的な手法です。[Hugging Face](https://huggingface.co/)というライブラリで比較的簡単に扱うことができます。\n",
    "\n",
    "セクションは非常に長いので、文単位に分割します。なお、文を単語に分割した数が512以上になる場合は無視されます(詳細は[Handling multiple sequences](https://huggingface.co/course/chapter2/5?fw=tf#longer-sequences)を参照してください)。"
   ]
  },
  {
   "cell_type": "code",
   "execution_count": 17,
   "metadata": {
    "tags": []
   },
   "outputs": [
    {
     "data": {
      "text/html": [
       "<div>\n",
       "<style scoped>\n",
       "    .dataframe tbody tr th:only-of-type {\n",
       "        vertical-align: middle;\n",
       "    }\n",
       "\n",
       "    .dataframe tbody tr th {\n",
       "        vertical-align: top;\n",
       "    }\n",
       "\n",
       "    .dataframe thead th {\n",
       "        text-align: right;\n",
       "    }\n",
       "</style>\n",
       "<table border=\"1\" class=\"dataframe\">\n",
       "  <thead>\n",
       "    <tr style=\"text-align: right;\">\n",
       "      <th></th>\n",
       "      <th>page</th>\n",
       "      <th>order</th>\n",
       "      <th>sentence_order</th>\n",
       "      <th>sentence</th>\n",
       "      <th>length</th>\n",
       "    </tr>\n",
       "  </thead>\n",
       "  <tbody>\n",
       "    <tr>\n",
       "      <th>0</th>\n",
       "      <td>1</td>\n",
       "      <td>2</td>\n",
       "      <td>0</td>\n",
       "      <td>period covered fiscal 2021 (april 2020 to marc...</td>\n",
       "      <td>53</td>\n",
       "    </tr>\n",
       "    <tr>\n",
       "      <th>1</th>\n",
       "      <td>1</td>\n",
       "      <td>2</td>\n",
       "      <td>1</td>\n",
       "      <td>some initiatives in fiscal 2022 (april to dec...</td>\n",
       "      <td>75</td>\n",
       "    </tr>\n",
       "    <tr>\n",
       "      <th>2</th>\n",
       "      <td>1</td>\n",
       "      <td>2</td>\n",
       "      <td>2</td>\n",
       "      <td>scope of report initiatives and activities of...</td>\n",
       "      <td>110</td>\n",
       "    </tr>\n",
       "    <tr>\n",
       "      <th>3</th>\n",
       "      <td>1</td>\n",
       "      <td>2</td>\n",
       "      <td>3</td>\n",
       "      <td>, in japan and overseas reference guidelines t...</td>\n",
       "      <td>183</td>\n",
       "    </tr>\n",
       "    <tr>\n",
       "      <th>4</th>\n",
       "      <td>1</td>\n",
       "      <td>2</td>\n",
       "      <td>4</td>\n",
       "      <td>about the pdf this file is an interactive pdf...</td>\n",
       "      <td>105</td>\n",
       "    </tr>\n",
       "  </tbody>\n",
       "</table>\n",
       "</div>"
      ],
      "text/plain": [
       "   page  order  sentence_order  \\\n",
       "0     1      2               0   \n",
       "1     1      2               1   \n",
       "2     1      2               2   \n",
       "3     1      2               3   \n",
       "4     1      2               4   \n",
       "\n",
       "                                            sentence  length  \n",
       "0  period covered fiscal 2021 (april 2020 to marc...      53  \n",
       "1   some initiatives in fiscal 2022 (april to dec...      75  \n",
       "2   scope of report initiatives and activities of...     110  \n",
       "3  , in japan and overseas reference guidelines t...     183  \n",
       "4   about the pdf this file is an interactive pdf...     105  "
      ]
     },
     "execution_count": 17,
     "metadata": {},
     "output_type": "execute_result"
    }
   ],
   "source": [
    "sentences = []\n",
    "for i, row in preprocessed_df.iterrows():\n",
    "    c = row[\"preprocessed\"]\n",
    "    for j, s in enumerate(c.replace(\"•\", \".\").replace(\";\", \".\").split(\".\")):\n",
    "        sentences.append({\n",
    "            \"page\": row[\"page\"],\n",
    "            \"order\": row[\"order\"],\n",
    "            \"sentence_order\": j,\n",
    "            \"sentence\": s[:512],\n",
    "            \"length\": len(s)\n",
    "        })\n",
    "\n",
    "sentences_df = pd.DataFrame(sentences)\n",
    "sentences_df.head(5)"
   ]
  },
  {
   "cell_type": "code",
   "execution_count": 18,
   "metadata": {
    "tags": []
   },
   "outputs": [
    {
     "data": {
      "text/plain": [
       "2429"
      ]
     },
     "execution_count": 18,
     "metadata": {},
     "output_type": "execute_result"
    }
   ],
   "source": [
    "len(sentences_df)"
   ]
  },
  {
   "cell_type": "markdown",
   "metadata": {},
   "source": [
    "BERTのモデルを使用し、文をベクトル表現に変換します。文をベクトルに変換するため、事前に作成しておいた`encode`関数を使用します。"
   ]
  },
  {
   "cell_type": "code",
   "execution_count": 19,
   "metadata": {},
   "outputs": [],
   "source": [
    "from esg_nlp.model.encoder import encode"
   ]
  },
  {
   "cell_type": "code",
   "execution_count": 20,
   "metadata": {},
   "outputs": [
    {
     "name": "stdout",
     "output_type": "stream",
     "text": [
      "Loading pretrained model...\n"
     ]
    },
    {
     "name": "stderr",
     "output_type": "stream",
     "text": [
      "Some weights of the model checkpoint at distilbert-base-uncased were not used when initializing DistilBertModel: ['vocab_transform.bias', 'vocab_projector.weight', 'vocab_projector.bias', 'vocab_layer_norm.weight', 'vocab_transform.weight', 'vocab_layer_norm.bias']\n",
      "- This IS expected if you are initializing DistilBertModel from the checkpoint of a model trained on another task or with another architecture (e.g. initializing a BertForSequenceClassification model from a BertForPreTraining model).\n",
      "- This IS NOT expected if you are initializing DistilBertModel from the checkpoint of a model that you expect to be exactly identical (initializing a BertForSequenceClassification model from a BertForSequenceClassification model).\n"
     ]
    },
    {
     "name": "stdout",
     "output_type": "stream",
     "text": [
      "Prepair the tokenizer...\n",
      "Set the pipeline.\n",
      "Inference start.\n"
     ]
    },
    {
     "name": "stderr",
     "output_type": "stream",
     "text": [
      "  0%|          | 0/243 [00:00<?, ?it/s]/home/studio-lab-user/.conda/envs/esg-nlp/lib/python3.8/site-packages/torch/utils/data/dataloader.py:487: UserWarning: This DataLoader will create 8 worker processes in total. Our suggested max number of worker in current system is 4, which is smaller than what this DataLoader is going to create. Please be aware that excessive worker creation might get DataLoader running slow or even freeze, lower the worker number to avoid potential slowness/freeze if necessary.\n",
      "  warnings.warn(_create_warning_msg(\n",
      "100%|██████████| 243/243 [02:47<00:00,  1.45it/s]\n"
     ]
    }
   ],
   "source": [
    "if LANG == \"ja\":\n",
    "    # 参考: https://github.com/BandaiNamcoResearchInc/DistilBERT-base-jp/blob/main/docs/GUIDE.md\n",
    "    model_name = \"bandainamco-mirai/distilbert-base-japanese\"\n",
    "    pretrained_tokenizer_name = \"cl-tohoku/bert-base-japanese-whole-word-masking\"\n",
    "else:\n",
    "    model_name = \"distilbert-base-uncased\"\n",
    "    pretrained_tokenizer_name = \"\"\n",
    "\n",
    "embeddings = encode(model_name,sentences_df[\"sentence\"].values.tolist(),\n",
    "                    pretrained_tokenizer_name=pretrained_tokenizer_name)"
   ]
  },
  {
   "cell_type": "code",
   "execution_count": 21,
   "metadata": {},
   "outputs": [
    {
     "data": {
      "text/plain": [
       "(2429, 768)"
      ]
     },
     "execution_count": 21,
     "metadata": {},
     "output_type": "execute_result"
    }
   ],
   "source": [
    "embeddings.shape"
   ]
  },
  {
   "cell_type": "markdown",
   "metadata": {},
   "source": [
    "それぞれの文に対し、768次元のベクトルが得られました。質問文もベクトルにします。"
   ]
  },
  {
   "cell_type": "code",
   "execution_count": 22,
   "metadata": {},
   "outputs": [
    {
     "name": "stdout",
     "output_type": "stream",
     "text": [
      "Loading pretrained model...\n"
     ]
    },
    {
     "name": "stderr",
     "output_type": "stream",
     "text": [
      "Some weights of the model checkpoint at distilbert-base-uncased were not used when initializing DistilBertModel: ['vocab_transform.bias', 'vocab_projector.weight', 'vocab_projector.bias', 'vocab_layer_norm.weight', 'vocab_transform.weight', 'vocab_layer_norm.bias']\n",
      "- This IS expected if you are initializing DistilBertModel from the checkpoint of a model trained on another task or with another architecture (e.g. initializing a BertForSequenceClassification model from a BertForPreTraining model).\n",
      "- This IS NOT expected if you are initializing DistilBertModel from the checkpoint of a model that you expect to be exactly identical (initializing a BertForSequenceClassification model from a BertForSequenceClassification model).\n"
     ]
    },
    {
     "name": "stdout",
     "output_type": "stream",
     "text": [
      "Prepair the tokenizer...\n",
      "Set the pipeline.\n",
      "Inference start.\n"
     ]
    }
   ],
   "source": [
    "query = encode(model_name, question, pretrained_tokenizer_name=pretrained_tokenizer_name)\n",
    "query = np.reshape(query, (1, -1))"
   ]
  },
  {
   "cell_type": "code",
   "execution_count": 23,
   "metadata": {},
   "outputs": [
    {
     "data": {
      "text/plain": [
       "(1, 768)"
      ]
     },
     "execution_count": 23,
     "metadata": {},
     "output_type": "execute_result"
    }
   ],
   "source": [
    "query.shape"
   ]
  },
  {
   "cell_type": "markdown",
   "metadata": {},
   "source": [
    "質問文のベクトルと、各文のベクトルとの距離を算出します。距離はコサイン類似度を用います。1に近いほど似ていて、-1に近いほど似ていません。"
   ]
  },
  {
   "cell_type": "code",
   "execution_count": 24,
   "metadata": {
    "tags": []
   },
   "outputs": [
    {
     "data": {
      "text/html": [
       "<div>\n",
       "<style scoped>\n",
       "    .dataframe tbody tr th:only-of-type {\n",
       "        vertical-align: middle;\n",
       "    }\n",
       "\n",
       "    .dataframe tbody tr th {\n",
       "        vertical-align: top;\n",
       "    }\n",
       "\n",
       "    .dataframe thead th {\n",
       "        text-align: right;\n",
       "    }\n",
       "</style>\n",
       "<table border=\"1\" class=\"dataframe\">\n",
       "  <thead>\n",
       "    <tr style=\"text-align: right;\">\n",
       "      <th></th>\n",
       "      <th>page</th>\n",
       "      <th>order</th>\n",
       "      <th>sentence_order</th>\n",
       "      <th>sentence</th>\n",
       "      <th>length</th>\n",
       "      <th>distance</th>\n",
       "    </tr>\n",
       "  </thead>\n",
       "  <tbody>\n",
       "    <tr>\n",
       "      <th>1964</th>\n",
       "      <td>43</td>\n",
       "      <td>7</td>\n",
       "      <td>0</td>\n",
       "      <td>through this process of bcp formulation and  r...</td>\n",
       "      <td>130</td>\n",
       "      <td>0.876025</td>\n",
       "    </tr>\n",
       "    <tr>\n",
       "      <th>1504</th>\n",
       "      <td>35</td>\n",
       "      <td>9</td>\n",
       "      <td>6</td>\n",
       "      <td>in accordance with this understanding, we hav...</td>\n",
       "      <td>238</td>\n",
       "      <td>0.871666</td>\n",
       "    </tr>\n",
       "    <tr>\n",
       "      <th>1500</th>\n",
       "      <td>35</td>\n",
       "      <td>9</td>\n",
       "      <td>2</td>\n",
       "      <td>among these risks and opportunities, climate ...</td>\n",
       "      <td>176</td>\n",
       "      <td>0.867956</td>\n",
       "    </tr>\n",
       "    <tr>\n",
       "      <th>1498</th>\n",
       "      <td>35</td>\n",
       "      <td>9</td>\n",
       "      <td>0</td>\n",
       "      <td>strategy toyota environmental challenge 2050 t...</td>\n",
       "      <td>406</td>\n",
       "      <td>0.867128</td>\n",
       "    </tr>\n",
       "    <tr>\n",
       "      <th>957</th>\n",
       "      <td>22</td>\n",
       "      <td>8</td>\n",
       "      <td>11</td>\n",
       "      <td>to realize carbon neutrality, we need to expa...</td>\n",
       "      <td>171</td>\n",
       "      <td>0.866645</td>\n",
       "    </tr>\n",
       "    <tr>\n",
       "      <th>1495</th>\n",
       "      <td>35</td>\n",
       "      <td>8</td>\n",
       "      <td>5</td>\n",
       "      <td>moreover, the sustainability meeting, which ...</td>\n",
       "      <td>348</td>\n",
       "      <td>0.864610</td>\n",
       "    </tr>\n",
       "    <tr>\n",
       "      <th>1558</th>\n",
       "      <td>36</td>\n",
       "      <td>7</td>\n",
       "      <td>8</td>\n",
       "      <td>risk management relating to climate change we...</td>\n",
       "      <td>256</td>\n",
       "      <td>0.855451</td>\n",
       "    </tr>\n",
       "    <tr>\n",
       "      <th>1755</th>\n",
       "      <td>39</td>\n",
       "      <td>10</td>\n",
       "      <td>1</td>\n",
       "      <td>working together with suppliers on risk monit...</td>\n",
       "      <td>181</td>\n",
       "      <td>0.850521</td>\n",
       "    </tr>\n",
       "    <tr>\n",
       "      <th>723</th>\n",
       "      <td>17</td>\n",
       "      <td>9</td>\n",
       "      <td>2</td>\n",
       "      <td>by presenting a guideline in the product plann...</td>\n",
       "      <td>145</td>\n",
       "      <td>0.848186</td>\n",
       "    </tr>\n",
       "    <tr>\n",
       "      <th>1739</th>\n",
       "      <td>38</td>\n",
       "      <td>23</td>\n",
       "      <td>2</td>\n",
       "      <td>to adapt to recent environmental changes, ats...</td>\n",
       "      <td>71</td>\n",
       "      <td>0.847480</td>\n",
       "    </tr>\n",
       "  </tbody>\n",
       "</table>\n",
       "</div>"
      ],
      "text/plain": [
       "      page  order  sentence_order  \\\n",
       "1964    43      7               0   \n",
       "1504    35      9               6   \n",
       "1500    35      9               2   \n",
       "1498    35      9               0   \n",
       "957     22      8              11   \n",
       "1495    35      8               5   \n",
       "1558    36      7               8   \n",
       "1755    39     10               1   \n",
       "723     17      9               2   \n",
       "1739    38     23               2   \n",
       "\n",
       "                                               sentence  length  distance  \n",
       "1964  through this process of bcp formulation and  r...     130  0.876025  \n",
       "1504   in accordance with this understanding, we hav...     238  0.871666  \n",
       "1500   among these risks and opportunities, climate ...     176  0.867956  \n",
       "1498  strategy toyota environmental challenge 2050 t...     406  0.867128  \n",
       "957    to realize carbon neutrality, we need to expa...     171  0.866645  \n",
       "1495    moreover, the sustainability meeting, which ...     348  0.864610  \n",
       "1558   risk management relating to climate change we...     256  0.855451  \n",
       "1755   working together with suppliers on risk monit...     181  0.850521  \n",
       "723   by presenting a guideline in the product plann...     145  0.848186  \n",
       "1739   to adapt to recent environmental changes, ats...      71  0.847480  "
      ]
     },
     "execution_count": 24,
     "metadata": {},
     "output_type": "execute_result"
    }
   ],
   "source": [
    "from sklearn.metrics.pairwise import cosine_similarity\n",
    "\n",
    "\n",
    "distance = cosine_similarity(query, embeddings)\n",
    "measured_df = sentences_df.assign(distance=distance.flatten())\n",
    "measured_df.sort_values(\"distance\", ascending=False, inplace=True)\n",
    "measured_df.head(10)"
   ]
  },
  {
   "cell_type": "markdown",
   "metadata": {},
   "source": [
    "p35以外の、あまり関係ない箇所の文書もリストアップされています。厳密に文を取りたい場合にはノイズが多くなりそうです。\n",
    "\n",
    "文ごとの近さを、セクション単位に集約します。"
   ]
  },
  {
   "cell_type": "code",
   "execution_count": 25,
   "metadata": {},
   "outputs": [
    {
     "data": {
      "text/html": [
       "<div>\n",
       "<style scoped>\n",
       "    .dataframe tbody tr th:only-of-type {\n",
       "        vertical-align: middle;\n",
       "    }\n",
       "\n",
       "    .dataframe tbody tr th {\n",
       "        vertical-align: top;\n",
       "    }\n",
       "\n",
       "    .dataframe thead th {\n",
       "        text-align: right;\n",
       "    }\n",
       "</style>\n",
       "<table border=\"1\" class=\"dataframe\">\n",
       "  <thead>\n",
       "    <tr style=\"text-align: right;\">\n",
       "      <th></th>\n",
       "      <th>page</th>\n",
       "      <th>order</th>\n",
       "      <th>content</th>\n",
       "      <th>preprocessed</th>\n",
       "      <th>length</th>\n",
       "      <th>keyword_match</th>\n",
       "      <th>distance</th>\n",
       "    </tr>\n",
       "  </thead>\n",
       "  <tbody>\n",
       "    <tr>\n",
       "      <th>159</th>\n",
       "      <td>35</td>\n",
       "      <td>15</td>\n",
       "      <td>Purchasing &amp; production\\nLarge-scale introduct...</td>\n",
       "      <td>purchasing &amp; production large-scale introducti...</td>\n",
       "      <td>167</td>\n",
       "      <td>0</td>\n",
       "      <td>0.824555</td>\n",
       "    </tr>\n",
       "    <tr>\n",
       "      <th>155</th>\n",
       "      <td>35</td>\n",
       "      <td>8</td>\n",
       "      <td>Toyota endorsed and signed on to the recom-\\nm...</td>\n",
       "      <td>toyota endorsed and signed on to the recom- me...</td>\n",
       "      <td>1819</td>\n",
       "      <td>7</td>\n",
       "      <td>0.819167</td>\n",
       "    </tr>\n",
       "    <tr>\n",
       "      <th>180</th>\n",
       "      <td>38</td>\n",
       "      <td>23</td>\n",
       "      <td>affiliates, as an information security framewo...</td>\n",
       "      <td>affiliates, as an information security framewo...</td>\n",
       "      <td>1895</td>\n",
       "      <td>2</td>\n",
       "      <td>0.800432</td>\n",
       "    </tr>\n",
       "    <tr>\n",
       "      <th>131</th>\n",
       "      <td>31</td>\n",
       "      <td>8</td>\n",
       "      <td>Fundamental Approach\\nToyota regards sustainab...</td>\n",
       "      <td>fundamental approach toyota regards sustainabl...</td>\n",
       "      <td>492</td>\n",
       "      <td>2</td>\n",
       "      <td>0.797904</td>\n",
       "    </tr>\n",
       "    <tr>\n",
       "      <th>41</th>\n",
       "      <td>12</td>\n",
       "      <td>6</td>\n",
       "      <td>Corporate Data\\nQuickly Adapting to Changes in...</td>\n",
       "      <td>corporate data quickly adapting to changes in ...</td>\n",
       "      <td>108</td>\n",
       "      <td>0</td>\n",
       "      <td>0.796639</td>\n",
       "    </tr>\n",
       "  </tbody>\n",
       "</table>\n",
       "</div>"
      ],
      "text/plain": [
       "     page  order                                            content  \\\n",
       "159    35     15  Purchasing & production\\nLarge-scale introduct...   \n",
       "155    35      8  Toyota endorsed and signed on to the recom-\\nm...   \n",
       "180    38     23  affiliates, as an information security framewo...   \n",
       "131    31      8  Fundamental Approach\\nToyota regards sustainab...   \n",
       "41     12      6  Corporate Data\\nQuickly Adapting to Changes in...   \n",
       "\n",
       "                                          preprocessed  length  keyword_match  \\\n",
       "159  purchasing & production large-scale introducti...     167              0   \n",
       "155  toyota endorsed and signed on to the recom- me...    1819              7   \n",
       "180  affiliates, as an information security framewo...    1895              2   \n",
       "131  fundamental approach toyota regards sustainabl...     492              2   \n",
       "41   corporate data quickly adapting to changes in ...     108              0   \n",
       "\n",
       "     distance  \n",
       "159  0.824555  \n",
       "155  0.819167  \n",
       "180  0.800432  \n",
       "131  0.797904  \n",
       "41   0.796639  "
      ]
     },
     "execution_count": 25,
     "metadata": {},
     "output_type": "execute_result"
    }
   ],
   "source": [
    "distance_df = measured_df.groupby([\"page\", \"order\"]).median()[\"distance\"].reset_index()\n",
    "evaluation_df = pd.merge(preprocessed_df, distance_df, how=\"inner\", on=[\"page\", \"order\"])\n",
    "evaluation_df.sort_values(\"distance\", ascending=False).head(5)"
   ]
  },
  {
   "cell_type": "markdown",
   "metadata": {},
   "source": [
    "## 4. Evaluate\n",
    "\n",
    "TCFDの推奨事項に近いセクションを、単語ベース、ベクトルベースの2つで抽出してきました。抽出に使用したスコアは、評価にも利用できます。\n",
    "\n",
    "単語の一致、距離をいずれも0から1へのスコアに変換して評価をしてみます。\n",
    "\n",
    "* 単語の一致: キーワードリストの個数で割って0~1に\n",
    "* 距離: マイナスの値は0にして0~1に"
   ]
  },
  {
   "cell_type": "code",
   "execution_count": 26,
   "metadata": {},
   "outputs": [],
   "source": [
    "evaluation_df[\"keyword_score\"] = evaluation_df[\"keyword_match\"] / len(question_words)\n",
    "evaluation_df[\"similarity_score\"] = evaluation_df[\"distance\"].clip(lower=0)"
   ]
  },
  {
   "cell_type": "code",
   "execution_count": 27,
   "metadata": {},
   "outputs": [
    {
     "data": {
      "text/html": [
       "<div>\n",
       "<style scoped>\n",
       "    .dataframe tbody tr th:only-of-type {\n",
       "        vertical-align: middle;\n",
       "    }\n",
       "\n",
       "    .dataframe tbody tr th {\n",
       "        vertical-align: top;\n",
       "    }\n",
       "\n",
       "    .dataframe thead th {\n",
       "        text-align: right;\n",
       "    }\n",
       "</style>\n",
       "<table border=\"1\" class=\"dataframe\">\n",
       "  <thead>\n",
       "    <tr style=\"text-align: right;\">\n",
       "      <th></th>\n",
       "      <th>page</th>\n",
       "      <th>order</th>\n",
       "      <th>content</th>\n",
       "      <th>preprocessed</th>\n",
       "      <th>length</th>\n",
       "      <th>keyword_match</th>\n",
       "      <th>distance</th>\n",
       "      <th>keyword_score</th>\n",
       "      <th>similarity_score</th>\n",
       "    </tr>\n",
       "  </thead>\n",
       "  <tbody>\n",
       "    <tr>\n",
       "      <th>0</th>\n",
       "      <td>1</td>\n",
       "      <td>2</td>\n",
       "      <td>Period Covered\\nFiscal 2021 (April 2020 to Mar...</td>\n",
       "      <td>period covered fiscal 2021 (april 2020 to marc...</td>\n",
       "      <td>553</td>\n",
       "      <td>0</td>\n",
       "      <td>0.721724</td>\n",
       "      <td>0.000000</td>\n",
       "      <td>0.721724</td>\n",
       "    </tr>\n",
       "    <tr>\n",
       "      <th>1</th>\n",
       "      <td>1</td>\n",
       "      <td>5</td>\n",
       "      <td>icons that link to relevant web pages online.\\...</td>\n",
       "      <td>icons that link to relevant web pages online. ...</td>\n",
       "      <td>182</td>\n",
       "      <td>0</td>\n",
       "      <td>0.634651</td>\n",
       "      <td>0.000000</td>\n",
       "      <td>0.634651</td>\n",
       "    </tr>\n",
       "    <tr>\n",
       "      <th>2</th>\n",
       "      <td>1</td>\n",
       "      <td>6</td>\n",
       "      <td>2   \\nMessage from the President\\n5   \\nThe So...</td>\n",
       "      <td>2    message from the president 5    the sourc...</td>\n",
       "      <td>1120</td>\n",
       "      <td>1</td>\n",
       "      <td>0.710247</td>\n",
       "      <td>0.090909</td>\n",
       "      <td>0.710247</td>\n",
       "    </tr>\n",
       "    <tr>\n",
       "      <th>3</th>\n",
       "      <td>1</td>\n",
       "      <td>7</td>\n",
       "      <td>The \\nIntegrated Report 2021\\n is intended to ...</td>\n",
       "      <td>the  integrated report 2021  is intended to co...</td>\n",
       "      <td>317</td>\n",
       "      <td>0</td>\n",
       "      <td>0.691350</td>\n",
       "      <td>0.000000</td>\n",
       "      <td>0.691350</td>\n",
       "    </tr>\n",
       "    <tr>\n",
       "      <th>4</th>\n",
       "      <td>1</td>\n",
       "      <td>29</td>\n",
       "      <td>On December 14, 2021, Toyota held a briefing o...</td>\n",
       "      <td>on december 14, 2021, toyota held a briefing o...</td>\n",
       "      <td>869</td>\n",
       "      <td>0</td>\n",
       "      <td>0.729347</td>\n",
       "      <td>0.000000</td>\n",
       "      <td>0.729347</td>\n",
       "    </tr>\n",
       "  </tbody>\n",
       "</table>\n",
       "</div>"
      ],
      "text/plain": [
       "   page  order                                            content  \\\n",
       "0     1      2  Period Covered\\nFiscal 2021 (April 2020 to Mar...   \n",
       "1     1      5  icons that link to relevant web pages online.\\...   \n",
       "2     1      6  2   \\nMessage from the President\\n5   \\nThe So...   \n",
       "3     1      7  The \\nIntegrated Report 2021\\n is intended to ...   \n",
       "4     1     29  On December 14, 2021, Toyota held a briefing o...   \n",
       "\n",
       "                                        preprocessed  length  keyword_match  \\\n",
       "0  period covered fiscal 2021 (april 2020 to marc...     553              0   \n",
       "1  icons that link to relevant web pages online. ...     182              0   \n",
       "2  2    message from the president 5    the sourc...    1120              1   \n",
       "3  the  integrated report 2021  is intended to co...     317              0   \n",
       "4  on december 14, 2021, toyota held a briefing o...     869              0   \n",
       "\n",
       "   distance  keyword_score  similarity_score  \n",
       "0  0.721724       0.000000          0.721724  \n",
       "1  0.634651       0.000000          0.634651  \n",
       "2  0.710247       0.090909          0.710247  \n",
       "3  0.691350       0.000000          0.691350  \n",
       "4  0.729347       0.000000          0.729347  "
      ]
     },
     "execution_count": 27,
     "metadata": {},
     "output_type": "execute_result"
    }
   ],
   "source": [
    "evaluation_df.head(5)"
   ]
  },
  {
   "cell_type": "markdown",
   "metadata": {},
   "source": [
    "キーワードへの一致を0.8、類似は0.2として重みをつけてスコアを計算してみます。"
   ]
  },
  {
   "cell_type": "code",
   "execution_count": 28,
   "metadata": {},
   "outputs": [
    {
     "data": {
      "text/html": [
       "<div>\n",
       "<style scoped>\n",
       "    .dataframe tbody tr th:only-of-type {\n",
       "        vertical-align: middle;\n",
       "    }\n",
       "\n",
       "    .dataframe tbody tr th {\n",
       "        vertical-align: top;\n",
       "    }\n",
       "\n",
       "    .dataframe thead th {\n",
       "        text-align: right;\n",
       "    }\n",
       "</style>\n",
       "<table border=\"1\" class=\"dataframe\">\n",
       "  <thead>\n",
       "    <tr style=\"text-align: right;\">\n",
       "      <th></th>\n",
       "      <th>page</th>\n",
       "      <th>order</th>\n",
       "      <th>content</th>\n",
       "      <th>preprocessed</th>\n",
       "      <th>length</th>\n",
       "      <th>keyword_match</th>\n",
       "      <th>distance</th>\n",
       "      <th>keyword_score</th>\n",
       "      <th>similarity_score</th>\n",
       "      <th>score</th>\n",
       "    </tr>\n",
       "  </thead>\n",
       "  <tbody>\n",
       "    <tr>\n",
       "      <th>155</th>\n",
       "      <td>35</td>\n",
       "      <td>8</td>\n",
       "      <td>Toyota endorsed and signed on to the recom-\\nm...</td>\n",
       "      <td>toyota endorsed and signed on to the recom- me...</td>\n",
       "      <td>1819</td>\n",
       "      <td>7</td>\n",
       "      <td>0.819167</td>\n",
       "      <td>0.636364</td>\n",
       "      <td>0.819167</td>\n",
       "      <td>0.672924</td>\n",
       "    </tr>\n",
       "    <tr>\n",
       "      <th>156</th>\n",
       "      <td>35</td>\n",
       "      <td>9</td>\n",
       "      <td>Strategy\\nToyota Environmental Challenge 2050\\...</td>\n",
       "      <td>strategy toyota environmental challenge 2050 t...</td>\n",
       "      <td>2743</td>\n",
       "      <td>7</td>\n",
       "      <td>0.784217</td>\n",
       "      <td>0.636364</td>\n",
       "      <td>0.784217</td>\n",
       "      <td>0.665934</td>\n",
       "    </tr>\n",
       "    <tr>\n",
       "      <th>142</th>\n",
       "      <td>32</td>\n",
       "      <td>16</td>\n",
       "      <td>4\\n  communication with stakeholders such as s...</td>\n",
       "      <td>4   communication with stakeholders such as sh...</td>\n",
       "      <td>2233</td>\n",
       "      <td>7</td>\n",
       "      <td>0.780666</td>\n",
       "      <td>0.636364</td>\n",
       "      <td>0.780666</td>\n",
       "      <td>0.665224</td>\n",
       "    </tr>\n",
       "    <tr>\n",
       "      <th>152</th>\n",
       "      <td>34</td>\n",
       "      <td>18</td>\n",
       "      <td>Three Pillars\\nThe three pillars of Toyota’s f...</td>\n",
       "      <td>three pillars the three pillars of toyota’s fi...</td>\n",
       "      <td>2269</td>\n",
       "      <td>5</td>\n",
       "      <td>0.796029</td>\n",
       "      <td>0.454545</td>\n",
       "      <td>0.796029</td>\n",
       "      <td>0.522842</td>\n",
       "    </tr>\n",
       "    <tr>\n",
       "      <th>162</th>\n",
       "      <td>36</td>\n",
       "      <td>7</td>\n",
       "      <td>driving mode fuel efficiency) and the developm...</td>\n",
       "      <td>driving mode fuel efficiency) and the developm...</td>\n",
       "      <td>2059</td>\n",
       "      <td>5</td>\n",
       "      <td>0.766313</td>\n",
       "      <td>0.454545</td>\n",
       "      <td>0.766313</td>\n",
       "      <td>0.516899</td>\n",
       "    </tr>\n",
       "    <tr>\n",
       "      <th>...</th>\n",
       "      <td>...</td>\n",
       "      <td>...</td>\n",
       "      <td>...</td>\n",
       "      <td>...</td>\n",
       "      <td>...</td>\n",
       "      <td>...</td>\n",
       "      <td>...</td>\n",
       "      <td>...</td>\n",
       "      <td>...</td>\n",
       "      <td>...</td>\n",
       "    </tr>\n",
       "    <tr>\n",
       "      <th>198</th>\n",
       "      <td>42</td>\n",
       "      <td>11</td>\n",
       "      <td>work at Toyota, regardless of their school or ...</td>\n",
       "      <td>work at toyota, regardless of their school or ...</td>\n",
       "      <td>250</td>\n",
       "      <td>0</td>\n",
       "      <td>0.414510</td>\n",
       "      <td>0.000000</td>\n",
       "      <td>0.414510</td>\n",
       "      <td>0.082902</td>\n",
       "    </tr>\n",
       "    <tr>\n",
       "      <th>60</th>\n",
       "      <td>16</td>\n",
       "      <td>7</td>\n",
       "      <td>At a Q&amp;A session with the media after his pres...</td>\n",
       "      <td>at a q&amp;a session with the media after his pres...</td>\n",
       "      <td>101</td>\n",
       "      <td>0</td>\n",
       "      <td>0.411167</td>\n",
       "      <td>0.000000</td>\n",
       "      <td>0.411167</td>\n",
       "      <td>0.082233</td>\n",
       "    </tr>\n",
       "    <tr>\n",
       "      <th>190</th>\n",
       "      <td>40</td>\n",
       "      <td>11</td>\n",
       "      <td>Our Challenge \\nThe ratio of females in manage...</td>\n",
       "      <td>our challenge  the ratio of females in manager...</td>\n",
       "      <td>1070</td>\n",
       "      <td>0</td>\n",
       "      <td>0.400402</td>\n",
       "      <td>0.000000</td>\n",
       "      <td>0.400402</td>\n",
       "      <td>0.080080</td>\n",
       "    </tr>\n",
       "    <tr>\n",
       "      <th>151</th>\n",
       "      <td>34</td>\n",
       "      <td>7</td>\n",
       "      <td>2017/32018/32019/32020/32021/3Dividend per sha...</td>\n",
       "      <td>2017/32018/32019/32020/32021/3dividend per sha...</td>\n",
       "      <td>920</td>\n",
       "      <td>0</td>\n",
       "      <td>0.365372</td>\n",
       "      <td>0.000000</td>\n",
       "      <td>0.365372</td>\n",
       "      <td>0.073074</td>\n",
       "    </tr>\n",
       "    <tr>\n",
       "      <th>191</th>\n",
       "      <td>41</td>\n",
       "      <td>8</td>\n",
       "      <td>Percentage of women [%]People hiredFull-time e...</td>\n",
       "      <td>percentage of women [%]people hiredfull-time e...</td>\n",
       "      <td>629</td>\n",
       "      <td>0</td>\n",
       "      <td>0.353964</td>\n",
       "      <td>0.000000</td>\n",
       "      <td>0.353964</td>\n",
       "      <td>0.070793</td>\n",
       "    </tr>\n",
       "  </tbody>\n",
       "</table>\n",
       "<p>249 rows × 10 columns</p>\n",
       "</div>"
      ],
      "text/plain": [
       "     page  order                                            content  \\\n",
       "155    35      8  Toyota endorsed and signed on to the recom-\\nm...   \n",
       "156    35      9  Strategy\\nToyota Environmental Challenge 2050\\...   \n",
       "142    32     16  4\\n  communication with stakeholders such as s...   \n",
       "152    34     18  Three Pillars\\nThe three pillars of Toyota’s f...   \n",
       "162    36      7  driving mode fuel efficiency) and the developm...   \n",
       "..    ...    ...                                                ...   \n",
       "198    42     11  work at Toyota, regardless of their school or ...   \n",
       "60     16      7  At a Q&A session with the media after his pres...   \n",
       "190    40     11  Our Challenge \\nThe ratio of females in manage...   \n",
       "151    34      7  2017/32018/32019/32020/32021/3Dividend per sha...   \n",
       "191    41      8  Percentage of women [%]People hiredFull-time e...   \n",
       "\n",
       "                                          preprocessed  length  keyword_match  \\\n",
       "155  toyota endorsed and signed on to the recom- me...    1819              7   \n",
       "156  strategy toyota environmental challenge 2050 t...    2743              7   \n",
       "142  4   communication with stakeholders such as sh...    2233              7   \n",
       "152  three pillars the three pillars of toyota’s fi...    2269              5   \n",
       "162  driving mode fuel efficiency) and the developm...    2059              5   \n",
       "..                                                 ...     ...            ...   \n",
       "198  work at toyota, regardless of their school or ...     250              0   \n",
       "60   at a q&a session with the media after his pres...     101              0   \n",
       "190  our challenge  the ratio of females in manager...    1070              0   \n",
       "151  2017/32018/32019/32020/32021/3dividend per sha...     920              0   \n",
       "191  percentage of women [%]people hiredfull-time e...     629              0   \n",
       "\n",
       "     distance  keyword_score  similarity_score     score  \n",
       "155  0.819167       0.636364          0.819167  0.672924  \n",
       "156  0.784217       0.636364          0.784217  0.665934  \n",
       "142  0.780666       0.636364          0.780666  0.665224  \n",
       "152  0.796029       0.454545          0.796029  0.522842  \n",
       "162  0.766313       0.454545          0.766313  0.516899  \n",
       "..        ...            ...               ...       ...  \n",
       "198  0.414510       0.000000          0.414510  0.082902  \n",
       "60   0.411167       0.000000          0.411167  0.082233  \n",
       "190  0.400402       0.000000          0.400402  0.080080  \n",
       "151  0.365372       0.000000          0.365372  0.073074  \n",
       "191  0.353964       0.000000          0.353964  0.070793  \n",
       "\n",
       "[249 rows x 10 columns]"
      ]
     },
     "execution_count": 28,
     "metadata": {},
     "output_type": "execute_result"
    }
   ],
   "source": [
    "evaluation_df[\"score\"] = evaluation_df[\"keyword_score\"] * 0.8 + evaluation_df[\"similarity_score\"] * 0.2\n",
    "evaluation_df.sort_values(\"score\", ascending=False)"
   ]
  },
  {
   "cell_type": "markdown",
   "metadata": {},
   "source": [
    "最大のスコアは以下でした。"
   ]
  },
  {
   "cell_type": "code",
   "execution_count": 29,
   "metadata": {},
   "outputs": [
    {
     "data": {
      "text/plain": [
       "0.67"
      ]
     },
     "execution_count": 29,
     "metadata": {},
     "output_type": "execute_result"
    }
   ],
   "source": [
    "np.round(evaluation_df.nlargest(1, \"score\")[\"score\"].item(), 2)"
   ]
  },
  {
   "cell_type": "markdown",
   "metadata": {},
   "source": [
    "例えばスコアが0.6を超えていれば開示しているとみなす、とすると自動的にTCFDの開示有無を判断することができます。\n",
    "どの程度の値を閾値にするかは、業務的な判断となります。ぜひ様々なレポートで試してみてください。なお、スコアは記載されている内容の良し悪し(気候変動対策の良い/悪い)の評価とは異なる点に注意してください。"
   ]
  },
  {
   "cell_type": "markdown",
   "metadata": {},
   "source": [
    "## Homework\n",
    "\n",
    "本Notebookをコピーして、次の処理を行ってみてください。\n",
    "\n",
    "* トヨタの他の年の統合報告書で同じ処理をし、スコアの値の違いを分析する。\n",
    "* トヨタ以外の会社の統合報告書で同じ処理を実行し、スコアの値の違いを分析する。\n",
    "\n",
    "行ってみた結果と得られた知見を、`HomeworkTemplate.pptx`をダウンロードし、記入ください(後日発表頂きます)。\n",
    "※ダウンロードは右クリックからできます。\n",
    "\n",
    "![download_file.PNG](./images/download_file.PNG)\n",
    "\n",
    "### AWSとの接続\n",
    "\n",
    "SageMaker Studio Labから、API(SDK)を通じてAmazon S3に配置されているファイルにアクセスすることができます。AWS Data Exchangeから購入したデータやS3に格納されている社内のデータを分析することも可能です。\n",
    "\n",
    "※Studio Lab内のファイルに外部からアクセスすることはできませんが、Studio Labを通じてお客様がファイルをダウンロードすることは可能です。データの利用規約やセキュリティ的に問題がないかはお客様内の情報セキュリティポリシーに沿い判断をお願い致します。\n",
    "\n",
    "### AWSのサービスの利用\n",
    "\n",
    "本日ご紹介した実装を本格的に行い業務で使用するのは大変です。AWSのマネージドサービスを利用することで、実装の負荷を下げることができます。\n",
    "\n",
    "AWSでは、文書検索のサービスを提供しておりこれらを利用することでRetrieveの処理を簡単に実装することができます。\n",
    "\n",
    "* [Amazon OpenSearch Service](https://aws.amazon.com/jp/opensearch-service/?nc=bc&pg=wik)\n",
    "* [Amazon Kendra](https://aws.amazon.com/jp/kendra/)\n",
    "\n",
    "データを保管するいわゆるデータレイクを効率的に構築できるサービスも提供しています。\n",
    "\n",
    "* [AWS Lake Formation](https://aws.amazon.com/jp/lake-formation/?whats-new-cards.sort-by=item.additionalFields.postDateTime&whats-new-cards.sort-order=desc)\n"
   ]
  }
 ],
 "metadata": {
  "kernelspec": {
   "display_name": "esg-nlp:Python",
   "language": "python",
   "name": "conda-env-esg-nlp-py"
  },
  "language_info": {
   "codemirror_mode": {
    "name": "ipython",
    "version": 3
   },
   "file_extension": ".py",
   "mimetype": "text/x-python",
   "name": "python",
   "nbconvert_exporter": "python",
   "pygments_lexer": "ipython3",
   "version": "3.8.13"
  },
  "toc-autonumbering": false,
  "toc-showmarkdowntxt": true
 },
 "nbformat": 4,
 "nbformat_minor": 4
}
