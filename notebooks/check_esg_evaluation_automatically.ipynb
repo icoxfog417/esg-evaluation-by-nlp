{
 "cells": [
  {
   "cell_type": "markdown",
   "metadata": {},
   "source": [
    "## Check ESG evaluation automatically\n",
    "\n",
    "ESG評価を行うためのチェックリストを、自動でチェックできるか検証する。\n",
    "\n",
    "1. Upload: PDFファイル(統合報告書)のアップロード・読み取り\n",
    "2. Preprocess: 読み込んだテキストを解析しやすいよう整形\n",
    "3. Retrieval: 関連個所の抽出\n",
    "4. Answering: チェックの実行\n",
    "\n",
    "### 0. Preparation\n",
    "\n",
    "プログラムの実行に必要なライブラリや設定の実行\n"
   ]
  },
  {
   "cell_type": "code",
   "execution_count": 3,
   "metadata": {},
   "outputs": [],
   "source": [
    "import os\n",
    "import sys\n",
    "import numpy as np\n",
    "import pandas as pd"
   ]
  },
  {
   "cell_type": "code",
   "execution_count": 4,
   "metadata": {},
   "outputs": [],
   "source": [
    "def set_root():\n",
    "    root = os.path.join(os.path.realpath(\".\"), \"../\")\n",
    "    if root not in sys.path:\n",
    "        sys.path.append(root)\n",
    "    return root\n",
    "\n",
    "ROOT_DIR = set_root()\n",
    "DATA_DIR = os.path.join(ROOT_DIR, \"data\")"
   ]
  },
  {
   "cell_type": "markdown",
   "metadata": {},
   "source": [
    "### 1. Upload\n",
    "\n",
    "(※実際システムになる時はPDFのUploadだが、現在はファイルを取ってくるのでDownload)\n"
   ]
  },
  {
   "cell_type": "code",
   "execution_count": 5,
   "metadata": {},
   "outputs": [],
   "source": [
    "# トヨタの統合報告書\n",
    "url = \"https://global.toyota/pages/global_toyota/ir/library/annual/2019_001_annual_en.pdf\""
   ]
  },
  {
   "cell_type": "code",
   "execution_count": 6,
   "metadata": {},
   "outputs": [],
   "source": [
    "from chariot.storage import Storage\n",
    "from evaluator.data.pdf_reader import PDFReader"
   ]
  },
  {
   "cell_type": "code",
   "execution_count": 8,
   "metadata": {},
   "outputs": [
    {
     "data": {
      "application/vnd.jupyter.widget-view+json": {
       "model_id": "913f9f5d7e884e95bd0c7c73388d8710",
       "version_major": 2,
       "version_minor": 0
      },
      "text/plain": [
       "HBox(children=(FloatProgress(value=0.0, max=5958.62109375), HTML(value='')))"
      ]
     },
     "metadata": {},
     "output_type": "display_data"
    },
    {
     "name": "stdout",
     "output_type": "stream",
     "text": [
      "\n"
     ]
    }
   ],
   "source": [
    "storage = Storage(DATA_DIR)\n",
    "\n",
    "file_name = os.path.basename(url)\n",
    "file_path = storage.download(url, f\"raw/{file_name}\")\n",
    "reader = PDFReader()\n",
    "df = reader.read_to_frame(file_path)"
   ]
  },
  {
   "cell_type": "markdown",
   "metadata": {},
   "source": [
    "PDF読み込み結果の表示\n",
    "\n",
    "* page: ページ番号\n",
    "* order: ページ内のセクション番号(登場順に上からカウント)\n"
   ]
  },
  {
   "cell_type": "code",
   "execution_count": 10,
   "metadata": {},
   "outputs": [
    {
     "data": {
      "text/html": [
       "<div>\n",
       "<style scoped>\n",
       "    .dataframe tbody tr th:only-of-type {\n",
       "        vertical-align: middle;\n",
       "    }\n",
       "\n",
       "    .dataframe tbody tr th {\n",
       "        vertical-align: top;\n",
       "    }\n",
       "\n",
       "    .dataframe thead th {\n",
       "        text-align: right;\n",
       "    }\n",
       "</style>\n",
       "<table border=\"1\" class=\"dataframe\">\n",
       "  <thead>\n",
       "    <tr style=\"text-align: right;\">\n",
       "      <th></th>\n",
       "      <th>page</th>\n",
       "      <th>order</th>\n",
       "      <th>content</th>\n",
       "    </tr>\n",
       "  </thead>\n",
       "  <tbody>\n",
       "    <tr>\n",
       "      <th>0</th>\n",
       "      <td>1</td>\n",
       "      <td>1</td>\n",
       "      <td></td>\n",
       "    </tr>\n",
       "    <tr>\n",
       "      <th>1</th>\n",
       "      <td>1</td>\n",
       "      <td>2</td>\n",
       "      <td>Annual \\nReport</td>\n",
       "    </tr>\n",
       "    <tr>\n",
       "      <th>2</th>\n",
       "      <td>1</td>\n",
       "      <td>3</td>\n",
       "      <td>Annual Report 2019\\nFiscal year ended March 31...</td>\n",
       "    </tr>\n",
       "    <tr>\n",
       "      <th>3</th>\n",
       "      <td>1</td>\n",
       "      <td>4</td>\n",
       "      <td>2019</td>\n",
       "    </tr>\n",
       "    <tr>\n",
       "      <th>4</th>\n",
       "      <td>1</td>\n",
       "      <td>5</td>\n",
       "      <td></td>\n",
       "    </tr>\n",
       "  </tbody>\n",
       "</table>\n",
       "</div>"
      ],
      "text/plain": [
       "   page  order                                            content\n",
       "0     1      1                                                   \n",
       "1     1      2                                    Annual \\nReport\n",
       "2     1      3  Annual Report 2019\\nFiscal year ended March 31...\n",
       "3     1      4                                               2019\n",
       "4     1      5                                                   "
      ]
     },
     "execution_count": 10,
     "metadata": {},
     "output_type": "execute_result"
    }
   ],
   "source": [
    "df.head(5)"
   ]
  },
  {
   "cell_type": "code",
   "execution_count": 11,
   "metadata": {},
   "outputs": [],
   "source": [
    "reader.stop()"
   ]
  },
  {
   "cell_type": "markdown",
   "metadata": {},
   "source": [
    "### 2. Preprocess\n",
    "\n",
    "PDF読み込み結果は様々なノイズを含んでいるので、処理しやすいよう前処理を行う。\n"
   ]
  },
  {
   "cell_type": "code",
   "execution_count": 12,
   "metadata": {},
   "outputs": [
    {
     "data": {
      "text/html": [
       "<div>\n",
       "<style scoped>\n",
       "    .dataframe tbody tr th:only-of-type {\n",
       "        vertical-align: middle;\n",
       "    }\n",
       "\n",
       "    .dataframe tbody tr th {\n",
       "        vertical-align: top;\n",
       "    }\n",
       "\n",
       "    .dataframe thead th {\n",
       "        text-align: right;\n",
       "    }\n",
       "</style>\n",
       "<table border=\"1\" class=\"dataframe\">\n",
       "  <thead>\n",
       "    <tr style=\"text-align: right;\">\n",
       "      <th></th>\n",
       "      <th>page</th>\n",
       "      <th>order</th>\n",
       "      <th>content</th>\n",
       "    </tr>\n",
       "  </thead>\n",
       "  <tbody>\n",
       "    <tr>\n",
       "      <th>0</th>\n",
       "      <td>1</td>\n",
       "      <td>2</td>\n",
       "      <td>annual  report</td>\n",
       "    </tr>\n",
       "    <tr>\n",
       "      <th>1</th>\n",
       "      <td>2</td>\n",
       "      <td>2</td>\n",
       "      <td>table of contents</td>\n",
       "    </tr>\n",
       "    <tr>\n",
       "      <th>2</th>\n",
       "      <td>2</td>\n",
       "      <td>3</td>\n",
       "      <td>1 table of contents 2 message from the preside...</td>\n",
       "    </tr>\n",
       "    <tr>\n",
       "      <th>3</th>\n",
       "      <td>2</td>\n",
       "      <td>4</td>\n",
       "      <td>5 recent initiatives 6 organization</td>\n",
       "    </tr>\n",
       "    <tr>\n",
       "      <th>4</th>\n",
       "      <td>2</td>\n",
       "      <td>5</td>\n",
       "      <td>7  making ever-better cars: continuing to hone...</td>\n",
       "    </tr>\n",
       "  </tbody>\n",
       "</table>\n",
       "</div>"
      ],
      "text/plain": [
       "   page  order                                            content\n",
       "0     1      2                                     annual  report\n",
       "1     2      2                                  table of contents\n",
       "2     2      3  1 table of contents 2 message from the preside...\n",
       "3     2      4                5 recent initiatives 6 organization\n",
       "4     2      5  7  making ever-better cars: continuing to hone..."
      ]
     },
     "execution_count": 12,
     "metadata": {},
     "output_type": "execute_result"
    }
   ],
   "source": [
    "preprocessed = reader.preprocess_frame(df)\n",
    "preprocessed.head(5)"
   ]
  },
  {
   "cell_type": "markdown",
   "metadata": {},
   "source": [
    "文を含んでいないセクションを除外"
   ]
  },
  {
   "cell_type": "code",
   "execution_count": 29,
   "metadata": {},
   "outputs": [],
   "source": [
    "import re\n",
    "\n",
    "\n",
    "has_sentence = re.compile(\"[A-Za-z](\\s)?\\.\")\n",
    "preprocessed = preprocessed[preprocessed[\"content\"].apply(lambda s: re.search(has_sentence, s) is not None)]"
   ]
  },
  {
   "cell_type": "code",
   "execution_count": 30,
   "metadata": {},
   "outputs": [
    {
     "name": "stdout",
     "output_type": "stream",
     "text": [
      "Rows are decreased from 2195 to 193\n"
     ]
    }
   ],
   "source": [
    "print(f\"Rows are decreased from {len(df)} to {len(preprocessed)}\")"
   ]
  },
  {
   "cell_type": "code",
   "execution_count": 41,
   "metadata": {},
   "outputs": [
    {
     "data": {
      "text/html": [
       "<div>\n",
       "<style scoped>\n",
       "    .dataframe tbody tr th:only-of-type {\n",
       "        vertical-align: middle;\n",
       "    }\n",
       "\n",
       "    .dataframe tbody tr th {\n",
       "        vertical-align: top;\n",
       "    }\n",
       "\n",
       "    .dataframe thead th {\n",
       "        text-align: right;\n",
       "    }\n",
       "</style>\n",
       "<table border=\"1\" class=\"dataframe\">\n",
       "  <thead>\n",
       "    <tr style=\"text-align: right;\">\n",
       "      <th></th>\n",
       "      <th>page</th>\n",
       "      <th>order</th>\n",
       "      <th>content</th>\n",
       "      <th>length</th>\n",
       "    </tr>\n",
       "  </thead>\n",
       "  <tbody>\n",
       "    <tr>\n",
       "      <th>14</th>\n",
       "      <td>2</td>\n",
       "      <td>17</td>\n",
       "      <td>porate value and the ways that it is contribut...</td>\n",
       "      <td>121</td>\n",
       "    </tr>\n",
       "    <tr>\n",
       "      <th>18</th>\n",
       "      <td>2</td>\n",
       "      <td>21</td>\n",
       "      <td>this file is an interactive pdf and can be nav...</td>\n",
       "      <td>91</td>\n",
       "    </tr>\n",
       "    <tr>\n",
       "      <th>21</th>\n",
       "      <td>2</td>\n",
       "      <td>25</td>\n",
       "      <td>of the report and to relevant web pages and pd...</td>\n",
       "      <td>70</td>\n",
       "    </tr>\n",
       "    <tr>\n",
       "      <th>22</th>\n",
       "      <td>2</td>\n",
       "      <td>26</td>\n",
       "      <td>* requires an internet connection.</td>\n",
       "      <td>34</td>\n",
       "    </tr>\n",
       "    <tr>\n",
       "      <th>28</th>\n",
       "      <td>2</td>\n",
       "      <td>34</td>\n",
       "      <td>*  toyota also publishes information on busine...</td>\n",
       "      <td>156</td>\n",
       "    </tr>\n",
       "  </tbody>\n",
       "</table>\n",
       "</div>"
      ],
      "text/plain": [
       "    page  order                                            content  length\n",
       "14     2     17  porate value and the ways that it is contribut...     121\n",
       "18     2     21  this file is an interactive pdf and can be nav...      91\n",
       "21     2     25  of the report and to relevant web pages and pd...      70\n",
       "22     2     26                 * requires an internet connection.      34\n",
       "28     2     34  *  toyota also publishes information on busine...     156"
      ]
     },
     "execution_count": 41,
     "metadata": {},
     "output_type": "execute_result"
    }
   ],
   "source": [
    "preprocessed.assign(length=preprocessed[\"content\"].apply(lambda s: len(s)))\n",
    "preprocessed.head(5)"
   ]
  },
  {
   "cell_type": "markdown",
   "metadata": {},
   "source": [
    "### 3. Retrieval\n",
    "\n",
    "\n",
    "質問に関係しているセクションを抽出する。\n"
   ]
  },
  {
   "cell_type": "code",
   "execution_count": 50,
   "metadata": {},
   "outputs": [],
   "source": [
    "question = \"Climate Change impact including CO2 / GHG emissions. Policy or commitment statement\"\n",
    "question = question.lower()\n",
    "language = \"en\""
   ]
  },
  {
   "cell_type": "code",
   "execution_count": 56,
   "metadata": {},
   "outputs": [],
   "source": [
    "from spacy.util import get_lang_class\n",
    "\n",
    "\n",
    "class Parser():\n",
    "\n",
    "    def __init__(self, lang):\n",
    "        self.lang = lang\n",
    "        self.parser = get_lang_class(self.lang)()\n",
    "    \n",
    "    def parse(self, text):\n",
    "        return self.parser(text)"
   ]
  },
  {
   "cell_type": "markdown",
   "metadata": {},
   "source": [
    "質問からキーワードを抽出"
   ]
  },
  {
   "cell_type": "code",
   "execution_count": 69,
   "metadata": {},
   "outputs": [
    {
     "data": {
      "text/plain": [
       "['climate',\n",
       " 'change',\n",
       " 'impact',\n",
       " 'including',\n",
       " 'co2',\n",
       " 'ghg',\n",
       " 'emissions',\n",
       " 'policy',\n",
       " 'commitment',\n",
       " 'statement']"
      ]
     },
     "execution_count": 69,
     "metadata": {},
     "output_type": "execute_result"
    }
   ],
   "source": [
    "parser = Parser(language)\n",
    "question_words = [t.lemma_ for t in parser.parse(question) if not t.is_stop and not re.match(\"\\'|\\.|\\?|\\/|\\,\", t.text)]\n",
    "question_words"
   ]
  },
  {
   "cell_type": "markdown",
   "metadata": {},
   "source": [
    "キーワードが含まれる数を計算"
   ]
  },
  {
   "cell_type": "code",
   "execution_count": 74,
   "metadata": {},
   "outputs": [],
   "source": [
    "def count_keyword_match(parser, keywords, text):\n",
    "    tokens = parser.parse(text)\n",
    "    count = 0\n",
    "    _keywords = [k for k in keywords]\n",
    "    for t in tokens:\n",
    "        if t.lemma_ in _keywords:\n",
    "            count += 1\n",
    "    return count\n",
    "\n",
    "\n",
    "counted = preprocessed.assign(\n",
    "    keyword_match=preprocessed[\"content\"].apply(\n",
    "        lambda s: count_keyword_match(parser, question_words, s)))"
   ]
  },
  {
   "cell_type": "code",
   "execution_count": 77,
   "metadata": {},
   "outputs": [
    {
     "data": {
      "text/html": [
       "<div>\n",
       "<style scoped>\n",
       "    .dataframe tbody tr th:only-of-type {\n",
       "        vertical-align: middle;\n",
       "    }\n",
       "\n",
       "    .dataframe tbody tr th {\n",
       "        vertical-align: top;\n",
       "    }\n",
       "\n",
       "    .dataframe thead th {\n",
       "        text-align: right;\n",
       "    }\n",
       "</style>\n",
       "<table border=\"1\" class=\"dataframe\">\n",
       "  <thead>\n",
       "    <tr style=\"text-align: right;\">\n",
       "      <th></th>\n",
       "      <th>page</th>\n",
       "      <th>order</th>\n",
       "      <th>content</th>\n",
       "      <th>length</th>\n",
       "      <th>keyword_match</th>\n",
       "    </tr>\n",
       "  </thead>\n",
       "  <tbody>\n",
       "    <tr>\n",
       "      <th>192</th>\n",
       "      <td>11</td>\n",
       "      <td>10</td>\n",
       "      <td>cut annual greenhouse gas emissions by 465 ton...</td>\n",
       "      <td>850</td>\n",
       "      <td>2</td>\n",
       "    </tr>\n",
       "    <tr>\n",
       "      <th>209</th>\n",
       "      <td>13</td>\n",
       "      <td>6</td>\n",
       "      <td>two major trends in automobile-related environ...</td>\n",
       "      <td>526</td>\n",
       "      <td>4</td>\n",
       "    </tr>\n",
       "    <tr>\n",
       "      <th>210</th>\n",
       "      <td>13</td>\n",
       "      <td>7</td>\n",
       "      <td>year. in order to improve corporate average co...</td>\n",
       "      <td>1599</td>\n",
       "      <td>7</td>\n",
       "    </tr>\n",
       "    <tr>\n",
       "      <th>240</th>\n",
       "      <td>15</td>\n",
       "      <td>27</td>\n",
       "      <td>to achieve even higher levels of battery durab...</td>\n",
       "      <td>1548</td>\n",
       "      <td>2</td>\n",
       "    </tr>\n",
       "    <tr>\n",
       "      <th>592</th>\n",
       "      <td>46</td>\n",
       "      <td>6</td>\n",
       "      <td>lifestyles are on the threshold of profound ch...</td>\n",
       "      <td>1196</td>\n",
       "      <td>3</td>\n",
       "    </tr>\n",
       "  </tbody>\n",
       "</table>\n",
       "</div>"
      ],
      "text/plain": [
       "     page  order                                            content  length  \\\n",
       "192    11     10  cut annual greenhouse gas emissions by 465 ton...     850   \n",
       "209    13      6  two major trends in automobile-related environ...     526   \n",
       "210    13      7  year. in order to improve corporate average co...    1599   \n",
       "240    15     27  to achieve even higher levels of battery durab...    1548   \n",
       "592    46      6  lifestyles are on the threshold of profound ch...    1196   \n",
       "\n",
       "     keyword_match  \n",
       "192              2  \n",
       "209              4  \n",
       "210              7  \n",
       "240              2  \n",
       "592              3  "
      ]
     },
     "execution_count": 77,
     "metadata": {},
     "output_type": "execute_result"
    }
   ],
   "source": [
    "matched = counted[counted[\"keyword_match\"] > 1]\n",
    "matched.head(5)"
   ]
  },
  {
   "cell_type": "markdown",
   "metadata": {},
   "source": [
    "### 4.Answering\n",
    "\n",
    "#### 4.1 Use Question Answering Model\n",
    "\n",
    "キーワード検索から絞り込んだ結果から、具体的な回答関連箇所を抽出する。"
   ]
  },
  {
   "cell_type": "code",
   "execution_count": 78,
   "metadata": {},
   "outputs": [],
   "source": [
    "from evaluator.models.question_answer import answer"
   ]
  },
  {
   "cell_type": "code",
   "execution_count": 79,
   "metadata": {},
   "outputs": [],
   "source": [
    "# Climate Change impact including CO2 / GHG emissions. Policy or commitment statement\n",
    "asking = \"What policy or commitment does company have for climate change impact including CO2 / GHG emissions ?\""
   ]
  },
  {
   "cell_type": "markdown",
   "metadata": {},
   "source": [
    "回答箇所抜粋"
   ]
  },
  {
   "cell_type": "code",
   "execution_count": 84,
   "metadata": {},
   "outputs": [
    {
     "name": "stdout",
     "output_type": "stream",
     "text": [
      "Loading pretrained model...\n",
      "Prepair the tokenizer...\n"
     ]
    },
    {
     "name": "stderr",
     "output_type": "stream",
     "text": [
      "  0%|                                                                                            | 0/5 [00:00<?, ?it/s]\n",
      "Converting examples to features: 100%|███████████████████████████████████████████████████| 1/1 [00:00<00:00, 90.86it/s]\u001b[A"
     ]
    },
    {
     "name": "stdout",
     "output_type": "stream",
     "text": [
      "Set the pipeline.\n",
      "Answer start.\n"
     ]
    },
    {
     "name": "stderr",
     "output_type": "stream",
     "text": [
      "\n",
      " 20%|████████████████▊                                                                   | 1/5 [00:00<00:01,  2.04it/s]\n",
      "Converting examples to features: 100%|███████████████████████████████████████████████████| 1/1 [00:00<00:00, 90.89it/s]\u001b[A\n",
      " 40%|█████████████████████████████████▌                                                  | 2/5 [00:00<00:01,  2.12it/s]\n",
      "Converting examples to features: 100%|███████████████████████████████████████████████████| 1/1 [00:00<00:00, 55.56it/s]\u001b[A\n",
      " 60%|██████████████████████████████████████████████████▍                                 | 3/5 [00:01<00:00,  2.16it/s]\n",
      "Converting examples to features: 100%|███████████████████████████████████████████████████| 1/1 [00:00<00:00, 71.47it/s]\u001b[A\n",
      " 80%|███████████████████████████████████████████████████████████████████▏                | 4/5 [00:01<00:00,  2.11it/s]\n",
      "Converting examples to features: 100%|███████████████████████████████████████████████████| 1/1 [00:00<00:00, 52.64it/s]\u001b[A\n",
      "100%|████████████████████████████████████████████████████████████████████████████████████| 5/5 [00:02<00:00,  2.04it/s]\n"
     ]
    }
   ],
   "source": [
    "question_context = matched[\"content\"].apply(lambda s: (asking.lower(), s)).tolist()\n",
    "answers = answer(\"distilbert-base-uncased-distilled-squad\", question_context)"
   ]
  },
  {
   "cell_type": "code",
   "execution_count": 86,
   "metadata": {},
   "outputs": [
    {
     "data": {
      "text/html": [
       "<div>\n",
       "<style scoped>\n",
       "    .dataframe tbody tr th:only-of-type {\n",
       "        vertical-align: middle;\n",
       "    }\n",
       "\n",
       "    .dataframe tbody tr th {\n",
       "        vertical-align: top;\n",
       "    }\n",
       "\n",
       "    .dataframe thead th {\n",
       "        text-align: right;\n",
       "    }\n",
       "</style>\n",
       "<table border=\"1\" class=\"dataframe\">\n",
       "  <thead>\n",
       "    <tr style=\"text-align: right;\">\n",
       "      <th></th>\n",
       "      <th>score</th>\n",
       "      <th>start</th>\n",
       "      <th>end</th>\n",
       "      <th>answer</th>\n",
       "    </tr>\n",
       "  </thead>\n",
       "  <tbody>\n",
       "    <tr>\n",
       "      <th>0</th>\n",
       "      <td>0.220558</td>\n",
       "      <td>673</td>\n",
       "      <td>679</td>\n",
       "      <td>toyota</td>\n",
       "    </tr>\n",
       "    <tr>\n",
       "      <th>1</th>\n",
       "      <td>0.154751</td>\n",
       "      <td>156</td>\n",
       "      <td>173</td>\n",
       "      <td>fuel efficiency.</td>\n",
       "    </tr>\n",
       "    <tr>\n",
       "      <th>2</th>\n",
       "      <td>0.038653</td>\n",
       "      <td>988</td>\n",
       "      <td>998</td>\n",
       "      <td>government</td>\n",
       "    </tr>\n",
       "    <tr>\n",
       "      <th>3</th>\n",
       "      <td>0.000030</td>\n",
       "      <td>752</td>\n",
       "      <td>791</td>\n",
       "      <td>toyota has put into place a struc- ture</td>\n",
       "    </tr>\n",
       "    <tr>\n",
       "      <th>4</th>\n",
       "      <td>0.110417</td>\n",
       "      <td>1037</td>\n",
       "      <td>1052</td>\n",
       "      <td>estab- lishment</td>\n",
       "    </tr>\n",
       "  </tbody>\n",
       "</table>\n",
       "</div>"
      ],
      "text/plain": [
       "      score  start   end                                   answer\n",
       "0  0.220558    673   679                                   toyota\n",
       "1  0.154751    156   173                         fuel efficiency.\n",
       "2  0.038653    988   998                               government\n",
       "3  0.000030    752   791  toyota has put into place a struc- ture\n",
       "4  0.110417   1037  1052                          estab- lishment"
      ]
     },
     "execution_count": 86,
     "metadata": {},
     "output_type": "execute_result"
    }
   ],
   "source": [
    "pd.DataFrame(answers)"
   ]
  },
  {
   "cell_type": "markdown",
   "metadata": {},
   "source": [
    "結果はいまいち(Wikipediaがベースなのであまり精度は高くないかも)。\n",
    "ただ、学習データを追加すれば改善される可能性はある(もともとは、[人間より精度高いモデル](https://rajpurkar.github.io/SQuAD-explorer/))。\n",
    "\n",
    "#### 4.2 Use Feature Representation\n",
    "\n",
    "評価項目・文双方をベクトル表現にし、評価項目に近い文を抽出する。\n",
    "ベクトル表現への変換には、Googleの検索で採用された手法を使用。\n",
    "\n",
    "* [BERT](https://www.blog.google/products/search/search-language-understanding-bert/)\n",
    "\n",
    "セクションを文に分割"
   ]
  },
  {
   "cell_type": "code",
   "execution_count": 90,
   "metadata": {},
   "outputs": [
    {
     "data": {
      "text/html": [
       "<div>\n",
       "<style scoped>\n",
       "    .dataframe tbody tr th:only-of-type {\n",
       "        vertical-align: middle;\n",
       "    }\n",
       "\n",
       "    .dataframe tbody tr th {\n",
       "        vertical-align: top;\n",
       "    }\n",
       "\n",
       "    .dataframe thead th {\n",
       "        text-align: right;\n",
       "    }\n",
       "</style>\n",
       "<table border=\"1\" class=\"dataframe\">\n",
       "  <thead>\n",
       "    <tr style=\"text-align: right;\">\n",
       "      <th></th>\n",
       "      <th>page</th>\n",
       "      <th>section_order</th>\n",
       "      <th>sentence_order</th>\n",
       "      <th>sentence</th>\n",
       "      <th>length</th>\n",
       "    </tr>\n",
       "  </thead>\n",
       "  <tbody>\n",
       "    <tr>\n",
       "      <th>0</th>\n",
       "      <td>11</td>\n",
       "      <td>10</td>\n",
       "      <td>0</td>\n",
       "      <td>cut annual greenhouse gas emissions by 465 ton...</td>\n",
       "      <td>139</td>\n",
       "    </tr>\n",
       "    <tr>\n",
       "      <th>1</th>\n",
       "      <td>11</td>\n",
       "      <td>10</td>\n",
       "      <td>1</td>\n",
       "      <td>72 tons</td>\n",
       "      <td>7</td>\n",
       "    </tr>\n",
       "    <tr>\n",
       "      <th>2</th>\n",
       "      <td>11</td>\n",
       "      <td>10</td>\n",
       "      <td>2</td>\n",
       "      <td>under  the project, the fuel cell system of t...</td>\n",
       "      <td>247</td>\n",
       "    </tr>\n",
       "    <tr>\n",
       "      <th>3</th>\n",
       "      <td>11</td>\n",
       "      <td>10</td>\n",
       "      <td>3</td>\n",
       "      <td>we plan to deploy 10 of these  trucks to haul...</td>\n",
       "      <td>140</td>\n",
       "    </tr>\n",
       "    <tr>\n",
       "      <th>4</th>\n",
       "      <td>11</td>\n",
       "      <td>10</td>\n",
       "      <td>4</td>\n",
       "      <td>by adapting its fuel cell technologies to fr...</td>\n",
       "      <td>312</td>\n",
       "    </tr>\n",
       "  </tbody>\n",
       "</table>\n",
       "</div>"
      ],
      "text/plain": [
       "   page  section_order  sentence_order  \\\n",
       "0    11             10               0   \n",
       "1    11             10               1   \n",
       "2    11             10               2   \n",
       "3    11             10               3   \n",
       "4    11             10               4   \n",
       "\n",
       "                                            sentence  length  \n",
       "0  cut annual greenhouse gas emissions by 465 ton...     139  \n",
       "1                                            72 tons       7  \n",
       "2   under  the project, the fuel cell system of t...     247  \n",
       "3   we plan to deploy 10 of these  trucks to haul...     140  \n",
       "4    by adapting its fuel cell technologies to fr...     312  "
      ]
     },
     "execution_count": 90,
     "metadata": {},
     "output_type": "execute_result"
    }
   ],
   "source": [
    "sentences = []\n",
    "for i, row in matched.iterrows():\n",
    "    c = row[\"content\"]\n",
    "    for j, s in enumerate(c.split(\".\")):\n",
    "        sentences.append({\n",
    "            \"page\": row[\"page\"],\n",
    "            \"section_order\": row[\"order\"],\n",
    "            \"sentence_order\": j,\n",
    "            \"sentence\": s,\n",
    "            \"length\": len(s)\n",
    "        })\n",
    "\n",
    "sentences = pd.DataFrame(sentences)\n",
    "sentences.head(5)"
   ]
  },
  {
   "cell_type": "markdown",
   "metadata": {},
   "source": [
    "文のベクトル表現(BERT表現)を作成する"
   ]
  },
  {
   "cell_type": "code",
   "execution_count": 91,
   "metadata": {},
   "outputs": [],
   "source": [
    "from evaluator.features.encoder import encode"
   ]
  },
  {
   "cell_type": "code",
   "execution_count": 92,
   "metadata": {},
   "outputs": [],
   "source": [
    "model_name = \"bert-base-uncased\""
   ]
  },
  {
   "cell_type": "code",
   "execution_count": 93,
   "metadata": {},
   "outputs": [
    {
     "name": "stdout",
     "output_type": "stream",
     "text": [
      "Loading pretrained model...\n",
      "Prepair the tokenizer...\n"
     ]
    },
    {
     "name": "stderr",
     "output_type": "stream",
     "text": [
      "\r",
      "  0%|                                                                                            | 0/5 [00:00<?, ?it/s]"
     ]
    },
    {
     "name": "stdout",
     "output_type": "stream",
     "text": [
      "Set the pipeline.\n",
      "Inference start.\n"
     ]
    },
    {
     "name": "stderr",
     "output_type": "stream",
     "text": [
      "100%|████████████████████████████████████████████████████████████████████████████████████| 5/5 [00:03<00:00,  1.61it/s]\n"
     ]
    }
   ],
   "source": [
    "embeddings = encode(model_name, sentences[\"sentence\"].values.tolist())"
   ]
  },
  {
   "cell_type": "code",
   "execution_count": 94,
   "metadata": {},
   "outputs": [
    {
     "data": {
      "text/plain": [
       "(42, 768)"
      ]
     },
     "execution_count": 94,
     "metadata": {},
     "output_type": "execute_result"
    }
   ],
   "source": [
    "embeddings.shape"
   ]
  },
  {
   "cell_type": "markdown",
   "metadata": {},
   "source": [
    "評価項目のベクトル表現と近しい文書を抽出する。"
   ]
  },
  {
   "cell_type": "code",
   "execution_count": 95,
   "metadata": {},
   "outputs": [
    {
     "name": "stdout",
     "output_type": "stream",
     "text": [
      "Loading pretrained model...\n",
      "Prepair the tokenizer...\n",
      "Set the pipeline.\n",
      "Inference start.\n"
     ]
    }
   ],
   "source": [
    "query = encode(model_name, \"Climate Change impact including CO2 / GHG emissions. Policy or commitment statement\".lower())\n",
    "query = np.reshape(query, (1, -1))"
   ]
  },
  {
   "cell_type": "code",
   "execution_count": 96,
   "metadata": {},
   "outputs": [
    {
     "data": {
      "text/plain": [
       "array([-0.80772909, -0.75797244, -0.74253654, -0.73154611, -0.67573654,\n",
       "       -0.57177246, -0.55729908, -0.55063786, -0.53485747, -0.53485747])"
      ]
     },
     "execution_count": 96,
     "metadata": {},
     "output_type": "execute_result"
    }
   ],
   "source": [
    "from sklearn.metrics.pairwise import cosine_similarity\n",
    "\n",
    "\n",
    "distance = cosine_similarity(query, embeddings)\n",
    "np.sort(-distance).flatten()[:10]"
   ]
  },
  {
   "cell_type": "markdown",
   "metadata": {},
   "source": [
    "評価項目に近い文トップ10を表示"
   ]
  },
  {
   "cell_type": "code",
   "execution_count": 97,
   "metadata": {},
   "outputs": [
    {
     "data": {
      "text/html": [
       "<div>\n",
       "<style scoped>\n",
       "    .dataframe tbody tr th:only-of-type {\n",
       "        vertical-align: middle;\n",
       "    }\n",
       "\n",
       "    .dataframe tbody tr th {\n",
       "        vertical-align: top;\n",
       "    }\n",
       "\n",
       "    .dataframe thead th {\n",
       "        text-align: right;\n",
       "    }\n",
       "</style>\n",
       "<table border=\"1\" class=\"dataframe\">\n",
       "  <thead>\n",
       "    <tr style=\"text-align: right;\">\n",
       "      <th></th>\n",
       "      <th>page</th>\n",
       "      <th>section_order</th>\n",
       "      <th>sentence_order</th>\n",
       "      <th>sentence</th>\n",
       "      <th>length</th>\n",
       "      <th>distance</th>\n",
       "    </tr>\n",
       "  </thead>\n",
       "  <tbody>\n",
       "    <tr>\n",
       "      <th>7</th>\n",
       "      <td>13</td>\n",
       "      <td>6</td>\n",
       "      <td>1</td>\n",
       "      <td>the first is regulations on co2 emissions and fuel  efficiency</td>\n",
       "      <td>65</td>\n",
       "      <td>0.807729</td>\n",
       "    </tr>\n",
       "    <tr>\n",
       "      <th>13</th>\n",
       "      <td>13</td>\n",
       "      <td>7</td>\n",
       "      <td>3</td>\n",
       "      <td>the second trend entails regulations for zero emis- sion vehicles (zevs), which have come into effect in  some parts of the united states and canada, and  regulations for new energy vehicles (nevs) in china</td>\n",
       "      <td>209</td>\n",
       "      <td>0.757972</td>\n",
       "    </tr>\n",
       "    <tr>\n",
       "      <th>31</th>\n",
       "      <td>15</td>\n",
       "      <td>27</td>\n",
       "      <td>11</td>\n",
       "      <td>in preparing for the spread of bevs and to win over  customers to our bevs, we have a long list of initia- tives to follow through on, including developing vehi- cles, ensuring the stable supply of batteries, improving  the durability of batteries, and preparing for the reuse  of older batteries</td>\n",
       "      <td>299</td>\n",
       "      <td>0.742537</td>\n",
       "    </tr>\n",
       "    <tr>\n",
       "      <th>12</th>\n",
       "      <td>13</td>\n",
       "      <td>7</td>\n",
       "      <td>2</td>\n",
       "      <td>with regard to co2 regulations  in europe, for example, toyota led the industry in  meeting 2017 regulatory values, and, although the  current-generation prius satisfies 2025 regulatory   values, it is challenging for suvs and other types of  relatively heavy vehicles, even hybrid models, to clear  this regulatory hurdle, necessitating the greater prolif- eration of phevs, bevs, and fcevs</td>\n",
       "      <td>392</td>\n",
       "      <td>0.731546</td>\n",
       "    </tr>\n",
       "    <tr>\n",
       "      <th>36</th>\n",
       "      <td>46</td>\n",
       "      <td>6</td>\n",
       "      <td>2</td>\n",
       "      <td>from here on out, informa- tion links will connect all items and services that sup- port our daily lives</td>\n",
       "      <td>105</td>\n",
       "      <td>0.675737</td>\n",
       "    </tr>\n",
       "    <tr>\n",
       "      <th>19</th>\n",
       "      <td>13</td>\n",
       "      <td>7</td>\n",
       "      <td>9</td>\n",
       "      <td>with a strong vision,</td>\n",
       "      <td>22</td>\n",
       "      <td>0.571772</td>\n",
       "    </tr>\n",
       "    <tr>\n",
       "      <th>28</th>\n",
       "      <td>15</td>\n",
       "      <td>27</td>\n",
       "      <td>8</td>\n",
       "      <td>(catl), byd co</td>\n",
       "      <td>15</td>\n",
       "      <td>0.557299</td>\n",
       "    </tr>\n",
       "    <tr>\n",
       "      <th>20</th>\n",
       "      <td>15</td>\n",
       "      <td>27</td>\n",
       "      <td>0</td>\n",
       "      <td>to achieve even higher levels of battery durability in  the bevs we plan to launch in 2020</td>\n",
       "      <td>90</td>\n",
       "      <td>0.550638</td>\n",
       "    </tr>\n",
       "    <tr>\n",
       "      <th>29</th>\n",
       "      <td>15</td>\n",
       "      <td>27</td>\n",
       "      <td>9</td>\n",
       "      <td>, ltd</td>\n",
       "      <td>5</td>\n",
       "      <td>0.534857</td>\n",
       "    </tr>\n",
       "    <tr>\n",
       "      <th>27</th>\n",
       "      <td>15</td>\n",
       "      <td>27</td>\n",
       "      <td>7</td>\n",
       "      <td>, ltd</td>\n",
       "      <td>5</td>\n",
       "      <td>0.534857</td>\n",
       "    </tr>\n",
       "  </tbody>\n",
       "</table>\n",
       "</div>"
      ],
      "text/plain": [
       "    page  section_order  sentence_order  \\\n",
       "7   13    6              1                \n",
       "13  13    7              3                \n",
       "31  15    27             11               \n",
       "12  13    7              2                \n",
       "36  46    6              2                \n",
       "19  13    7              9                \n",
       "28  15    27             8                \n",
       "20  15    27             0                \n",
       "29  15    27             9                \n",
       "27  15    27             7                \n",
       "\n",
       "                                                                                                                                                                                                                                                                                                                                                                                                    sentence  \\\n",
       "7      the first is regulations on co2 emissions and fuel  efficiency                                                                                                                                                                                                                                                                                                                                          \n",
       "13     the second trend entails regulations for zero emis- sion vehicles (zevs), which have come into effect in  some parts of the united states and canada, and  regulations for new energy vehicles (nevs) in china                                                                                                                                                                                          \n",
       "31     in preparing for the spread of bevs and to win over  customers to our bevs, we have a long list of initia- tives to follow through on, including developing vehi- cles, ensuring the stable supply of batteries, improving  the durability of batteries, and preparing for the reuse  of older batteries                                                                                                \n",
       "12   with regard to co2 regulations  in europe, for example, toyota led the industry in  meeting 2017 regulatory values, and, although the  current-generation prius satisfies 2025 regulatory   values, it is challenging for suvs and other types of  relatively heavy vehicles, even hybrid models, to clear  this regulatory hurdle, necessitating the greater prolif- eration of phevs, bevs, and fcevs   \n",
       "36   from here on out, informa- tion links will connect all items and services that sup- port our daily lives                                                                                                                                                                                                                                                                                                  \n",
       "19   with a strong vision,                                                                                                                                                                                                                                                                                                                                                                                     \n",
       "28   (catl), byd co                                                                                                                                                                                                                                                                                                                                                                                            \n",
       "20  to achieve even higher levels of battery durability in  the bevs we plan to launch in 2020                                                                                                                                                                                                                                                                                                                 \n",
       "29  , ltd                                                                                                                                                                                                                                                                                                                                                                                                      \n",
       "27  , ltd                                                                                                                                                                                                                                                                                                                                                                                                      \n",
       "\n",
       "    length  distance  \n",
       "7   65      0.807729  \n",
       "13  209     0.757972  \n",
       "31  299     0.742537  \n",
       "12  392     0.731546  \n",
       "36  105     0.675737  \n",
       "19  22      0.571772  \n",
       "28  15      0.557299  \n",
       "20  90      0.550638  \n",
       "29  5       0.534857  \n",
       "27  5       0.534857  "
      ]
     },
     "execution_count": 97,
     "metadata": {},
     "output_type": "execute_result"
    }
   ],
   "source": [
    "pd.set_option(\"display.max_colwidth\", -1)\n",
    "sentences.assign(distance=distance.flatten()).iloc[np.argsort(-distance).flatten()].head(10)"
   ]
  },
  {
   "cell_type": "markdown",
   "metadata": {},
   "source": [
    "2番目の文は近い?気もする。\n",
    "もう少し多くのデータ/評価項目で検証してみたい。"
   ]
  },
  {
   "cell_type": "code",
   "execution_count": null,
   "metadata": {},
   "outputs": [],
   "source": []
  }
 ],
 "metadata": {
  "kernelspec": {
   "display_name": "Python 3",
   "language": "python",
   "name": "python3"
  },
  "language_info": {
   "codemirror_mode": {
    "name": "ipython",
    "version": 3
   },
   "file_extension": ".py",
   "mimetype": "text/x-python",
   "name": "python",
   "nbconvert_exporter": "python",
   "pygments_lexer": "ipython3",
   "version": "3.7.4"
  }
 },
 "nbformat": 4,
 "nbformat_minor": 2
}
